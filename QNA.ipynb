{
  "nbformat": 4,
  "nbformat_minor": 0,
  "metadata": {
    "colab": {
      "provenance": []
    },
    "kernelspec": {
      "name": "python3",
      "display_name": "Python 3"
    },
    "language_info": {
      "name": "python"
    },
    "widgets": {
      "application/vnd.jupyter.widget-state+json": {
        "c85a8b6e37c14b8582215dd7cc04200e": {
          "model_module": "@jupyter-widgets/controls",
          "model_name": "VBoxModel",
          "model_module_version": "1.5.0",
          "state": {
            "_dom_classes": [],
            "_model_module": "@jupyter-widgets/controls",
            "_model_module_version": "1.5.0",
            "_model_name": "VBoxModel",
            "_view_count": null,
            "_view_module": "@jupyter-widgets/controls",
            "_view_module_version": "1.5.0",
            "_view_name": "VBoxView",
            "box_style": "",
            "children": [
              "IPY_MODEL_ea841b46f0d04fdaaff0584154ececbf",
              "IPY_MODEL_4fc5d747e7334e59a1da1e7c31b48f06",
              "IPY_MODEL_90a6d30e18214b2e84e76da76a14e19b",
              "IPY_MODEL_0c4642c3742340ce835c7a2fcf0dc3aa",
              "IPY_MODEL_75d41c2cd7904e20b330ae0e2b0e667a"
            ],
            "layout": "IPY_MODEL_2016683260d24a2384812aa5f7ca2c20"
          }
        },
        "ea841b46f0d04fdaaff0584154ececbf": {
          "model_module": "@jupyter-widgets/controls",
          "model_name": "HTMLModel",
          "model_module_version": "1.5.0",
          "state": {
            "_dom_classes": [],
            "_model_module": "@jupyter-widgets/controls",
            "_model_module_version": "1.5.0",
            "_model_name": "HTMLModel",
            "_view_count": null,
            "_view_module": "@jupyter-widgets/controls",
            "_view_module_version": "1.5.0",
            "_view_name": "HTMLView",
            "description": "",
            "description_tooltip": null,
            "layout": "IPY_MODEL_623730725fc34b93989f859fb76aa6a7",
            "placeholder": "​",
            "style": "IPY_MODEL_70144991e41b494eb86f58cc0472d9f2",
            "value": "<center> <img\nsrc=https://huggingface.co/front/assets/huggingface_logo-noborder.svg\nalt='Hugging Face'> <br> Copy a token from <a\nhref=\"https://huggingface.co/settings/tokens\" target=\"_blank\">your Hugging Face\ntokens page</a> and paste it below. <br> Immediately click login after copying\nyour token or it might be stored in plain text in this notebook file. </center>"
          }
        },
        "4fc5d747e7334e59a1da1e7c31b48f06": {
          "model_module": "@jupyter-widgets/controls",
          "model_name": "PasswordModel",
          "model_module_version": "1.5.0",
          "state": {
            "_dom_classes": [],
            "_model_module": "@jupyter-widgets/controls",
            "_model_module_version": "1.5.0",
            "_model_name": "PasswordModel",
            "_view_count": null,
            "_view_module": "@jupyter-widgets/controls",
            "_view_module_version": "1.5.0",
            "_view_name": "PasswordView",
            "continuous_update": true,
            "description": "Token:",
            "description_tooltip": null,
            "disabled": false,
            "layout": "IPY_MODEL_68eb6ed65dc84630b30ffbfcd2835afa",
            "placeholder": "​",
            "style": "IPY_MODEL_e656cdff1805488690f9ce3b23d0db79",
            "value": ""
          }
        },
        "90a6d30e18214b2e84e76da76a14e19b": {
          "model_module": "@jupyter-widgets/controls",
          "model_name": "CheckboxModel",
          "model_module_version": "1.5.0",
          "state": {
            "_dom_classes": [],
            "_model_module": "@jupyter-widgets/controls",
            "_model_module_version": "1.5.0",
            "_model_name": "CheckboxModel",
            "_view_count": null,
            "_view_module": "@jupyter-widgets/controls",
            "_view_module_version": "1.5.0",
            "_view_name": "CheckboxView",
            "description": "Add token as git credential?",
            "description_tooltip": null,
            "disabled": false,
            "indent": true,
            "layout": "IPY_MODEL_b934a0883785472399fa78b82bcbd8ea",
            "style": "IPY_MODEL_a16c2b2a25aa4b3eadc61e4c33636f81",
            "value": true
          }
        },
        "0c4642c3742340ce835c7a2fcf0dc3aa": {
          "model_module": "@jupyter-widgets/controls",
          "model_name": "ButtonModel",
          "model_module_version": "1.5.0",
          "state": {
            "_dom_classes": [],
            "_model_module": "@jupyter-widgets/controls",
            "_model_module_version": "1.5.0",
            "_model_name": "ButtonModel",
            "_view_count": null,
            "_view_module": "@jupyter-widgets/controls",
            "_view_module_version": "1.5.0",
            "_view_name": "ButtonView",
            "button_style": "",
            "description": "Login",
            "disabled": false,
            "icon": "",
            "layout": "IPY_MODEL_113564d8ea2e4557968388162f264c07",
            "style": "IPY_MODEL_62c0f2843628495ba19ed635facfcf75",
            "tooltip": ""
          }
        },
        "75d41c2cd7904e20b330ae0e2b0e667a": {
          "model_module": "@jupyter-widgets/controls",
          "model_name": "HTMLModel",
          "model_module_version": "1.5.0",
          "state": {
            "_dom_classes": [],
            "_model_module": "@jupyter-widgets/controls",
            "_model_module_version": "1.5.0",
            "_model_name": "HTMLModel",
            "_view_count": null,
            "_view_module": "@jupyter-widgets/controls",
            "_view_module_version": "1.5.0",
            "_view_name": "HTMLView",
            "description": "",
            "description_tooltip": null,
            "layout": "IPY_MODEL_8cad33a34c0746cfb1cd38d9ed191816",
            "placeholder": "​",
            "style": "IPY_MODEL_57ed2f4995c94e7599d3fff675fc8fcc",
            "value": "\n<b>Pro Tip:</b> If you don't already have one, you can create a dedicated\n'notebooks' token with 'write' access, that you can then easily reuse for all\nnotebooks. </center>"
          }
        },
        "2016683260d24a2384812aa5f7ca2c20": {
          "model_module": "@jupyter-widgets/base",
          "model_name": "LayoutModel",
          "model_module_version": "1.2.0",
          "state": {
            "_model_module": "@jupyter-widgets/base",
            "_model_module_version": "1.2.0",
            "_model_name": "LayoutModel",
            "_view_count": null,
            "_view_module": "@jupyter-widgets/base",
            "_view_module_version": "1.2.0",
            "_view_name": "LayoutView",
            "align_content": null,
            "align_items": "center",
            "align_self": null,
            "border": null,
            "bottom": null,
            "display": "flex",
            "flex": null,
            "flex_flow": "column",
            "grid_area": null,
            "grid_auto_columns": null,
            "grid_auto_flow": null,
            "grid_auto_rows": null,
            "grid_column": null,
            "grid_gap": null,
            "grid_row": null,
            "grid_template_areas": null,
            "grid_template_columns": null,
            "grid_template_rows": null,
            "height": null,
            "justify_content": null,
            "justify_items": null,
            "left": null,
            "margin": null,
            "max_height": null,
            "max_width": null,
            "min_height": null,
            "min_width": null,
            "object_fit": null,
            "object_position": null,
            "order": null,
            "overflow": null,
            "overflow_x": null,
            "overflow_y": null,
            "padding": null,
            "right": null,
            "top": null,
            "visibility": null,
            "width": "50%"
          }
        },
        "623730725fc34b93989f859fb76aa6a7": {
          "model_module": "@jupyter-widgets/base",
          "model_name": "LayoutModel",
          "model_module_version": "1.2.0",
          "state": {
            "_model_module": "@jupyter-widgets/base",
            "_model_module_version": "1.2.0",
            "_model_name": "LayoutModel",
            "_view_count": null,
            "_view_module": "@jupyter-widgets/base",
            "_view_module_version": "1.2.0",
            "_view_name": "LayoutView",
            "align_content": null,
            "align_items": null,
            "align_self": null,
            "border": null,
            "bottom": null,
            "display": null,
            "flex": null,
            "flex_flow": null,
            "grid_area": null,
            "grid_auto_columns": null,
            "grid_auto_flow": null,
            "grid_auto_rows": null,
            "grid_column": null,
            "grid_gap": null,
            "grid_row": null,
            "grid_template_areas": null,
            "grid_template_columns": null,
            "grid_template_rows": null,
            "height": null,
            "justify_content": null,
            "justify_items": null,
            "left": null,
            "margin": null,
            "max_height": null,
            "max_width": null,
            "min_height": null,
            "min_width": null,
            "object_fit": null,
            "object_position": null,
            "order": null,
            "overflow": null,
            "overflow_x": null,
            "overflow_y": null,
            "padding": null,
            "right": null,
            "top": null,
            "visibility": null,
            "width": null
          }
        },
        "70144991e41b494eb86f58cc0472d9f2": {
          "model_module": "@jupyter-widgets/controls",
          "model_name": "DescriptionStyleModel",
          "model_module_version": "1.5.0",
          "state": {
            "_model_module": "@jupyter-widgets/controls",
            "_model_module_version": "1.5.0",
            "_model_name": "DescriptionStyleModel",
            "_view_count": null,
            "_view_module": "@jupyter-widgets/base",
            "_view_module_version": "1.2.0",
            "_view_name": "StyleView",
            "description_width": ""
          }
        },
        "68eb6ed65dc84630b30ffbfcd2835afa": {
          "model_module": "@jupyter-widgets/base",
          "model_name": "LayoutModel",
          "model_module_version": "1.2.0",
          "state": {
            "_model_module": "@jupyter-widgets/base",
            "_model_module_version": "1.2.0",
            "_model_name": "LayoutModel",
            "_view_count": null,
            "_view_module": "@jupyter-widgets/base",
            "_view_module_version": "1.2.0",
            "_view_name": "LayoutView",
            "align_content": null,
            "align_items": null,
            "align_self": null,
            "border": null,
            "bottom": null,
            "display": null,
            "flex": null,
            "flex_flow": null,
            "grid_area": null,
            "grid_auto_columns": null,
            "grid_auto_flow": null,
            "grid_auto_rows": null,
            "grid_column": null,
            "grid_gap": null,
            "grid_row": null,
            "grid_template_areas": null,
            "grid_template_columns": null,
            "grid_template_rows": null,
            "height": null,
            "justify_content": null,
            "justify_items": null,
            "left": null,
            "margin": null,
            "max_height": null,
            "max_width": null,
            "min_height": null,
            "min_width": null,
            "object_fit": null,
            "object_position": null,
            "order": null,
            "overflow": null,
            "overflow_x": null,
            "overflow_y": null,
            "padding": null,
            "right": null,
            "top": null,
            "visibility": null,
            "width": null
          }
        },
        "e656cdff1805488690f9ce3b23d0db79": {
          "model_module": "@jupyter-widgets/controls",
          "model_name": "DescriptionStyleModel",
          "model_module_version": "1.5.0",
          "state": {
            "_model_module": "@jupyter-widgets/controls",
            "_model_module_version": "1.5.0",
            "_model_name": "DescriptionStyleModel",
            "_view_count": null,
            "_view_module": "@jupyter-widgets/base",
            "_view_module_version": "1.2.0",
            "_view_name": "StyleView",
            "description_width": ""
          }
        },
        "b934a0883785472399fa78b82bcbd8ea": {
          "model_module": "@jupyter-widgets/base",
          "model_name": "LayoutModel",
          "model_module_version": "1.2.0",
          "state": {
            "_model_module": "@jupyter-widgets/base",
            "_model_module_version": "1.2.0",
            "_model_name": "LayoutModel",
            "_view_count": null,
            "_view_module": "@jupyter-widgets/base",
            "_view_module_version": "1.2.0",
            "_view_name": "LayoutView",
            "align_content": null,
            "align_items": null,
            "align_self": null,
            "border": null,
            "bottom": null,
            "display": null,
            "flex": null,
            "flex_flow": null,
            "grid_area": null,
            "grid_auto_columns": null,
            "grid_auto_flow": null,
            "grid_auto_rows": null,
            "grid_column": null,
            "grid_gap": null,
            "grid_row": null,
            "grid_template_areas": null,
            "grid_template_columns": null,
            "grid_template_rows": null,
            "height": null,
            "justify_content": null,
            "justify_items": null,
            "left": null,
            "margin": null,
            "max_height": null,
            "max_width": null,
            "min_height": null,
            "min_width": null,
            "object_fit": null,
            "object_position": null,
            "order": null,
            "overflow": null,
            "overflow_x": null,
            "overflow_y": null,
            "padding": null,
            "right": null,
            "top": null,
            "visibility": null,
            "width": null
          }
        },
        "a16c2b2a25aa4b3eadc61e4c33636f81": {
          "model_module": "@jupyter-widgets/controls",
          "model_name": "DescriptionStyleModel",
          "model_module_version": "1.5.0",
          "state": {
            "_model_module": "@jupyter-widgets/controls",
            "_model_module_version": "1.5.0",
            "_model_name": "DescriptionStyleModel",
            "_view_count": null,
            "_view_module": "@jupyter-widgets/base",
            "_view_module_version": "1.2.0",
            "_view_name": "StyleView",
            "description_width": ""
          }
        },
        "113564d8ea2e4557968388162f264c07": {
          "model_module": "@jupyter-widgets/base",
          "model_name": "LayoutModel",
          "model_module_version": "1.2.0",
          "state": {
            "_model_module": "@jupyter-widgets/base",
            "_model_module_version": "1.2.0",
            "_model_name": "LayoutModel",
            "_view_count": null,
            "_view_module": "@jupyter-widgets/base",
            "_view_module_version": "1.2.0",
            "_view_name": "LayoutView",
            "align_content": null,
            "align_items": null,
            "align_self": null,
            "border": null,
            "bottom": null,
            "display": null,
            "flex": null,
            "flex_flow": null,
            "grid_area": null,
            "grid_auto_columns": null,
            "grid_auto_flow": null,
            "grid_auto_rows": null,
            "grid_column": null,
            "grid_gap": null,
            "grid_row": null,
            "grid_template_areas": null,
            "grid_template_columns": null,
            "grid_template_rows": null,
            "height": null,
            "justify_content": null,
            "justify_items": null,
            "left": null,
            "margin": null,
            "max_height": null,
            "max_width": null,
            "min_height": null,
            "min_width": null,
            "object_fit": null,
            "object_position": null,
            "order": null,
            "overflow": null,
            "overflow_x": null,
            "overflow_y": null,
            "padding": null,
            "right": null,
            "top": null,
            "visibility": null,
            "width": null
          }
        },
        "62c0f2843628495ba19ed635facfcf75": {
          "model_module": "@jupyter-widgets/controls",
          "model_name": "ButtonStyleModel",
          "model_module_version": "1.5.0",
          "state": {
            "_model_module": "@jupyter-widgets/controls",
            "_model_module_version": "1.5.0",
            "_model_name": "ButtonStyleModel",
            "_view_count": null,
            "_view_module": "@jupyter-widgets/base",
            "_view_module_version": "1.2.0",
            "_view_name": "StyleView",
            "button_color": null,
            "font_weight": ""
          }
        },
        "8cad33a34c0746cfb1cd38d9ed191816": {
          "model_module": "@jupyter-widgets/base",
          "model_name": "LayoutModel",
          "model_module_version": "1.2.0",
          "state": {
            "_model_module": "@jupyter-widgets/base",
            "_model_module_version": "1.2.0",
            "_model_name": "LayoutModel",
            "_view_count": null,
            "_view_module": "@jupyter-widgets/base",
            "_view_module_version": "1.2.0",
            "_view_name": "LayoutView",
            "align_content": null,
            "align_items": null,
            "align_self": null,
            "border": null,
            "bottom": null,
            "display": null,
            "flex": null,
            "flex_flow": null,
            "grid_area": null,
            "grid_auto_columns": null,
            "grid_auto_flow": null,
            "grid_auto_rows": null,
            "grid_column": null,
            "grid_gap": null,
            "grid_row": null,
            "grid_template_areas": null,
            "grid_template_columns": null,
            "grid_template_rows": null,
            "height": null,
            "justify_content": null,
            "justify_items": null,
            "left": null,
            "margin": null,
            "max_height": null,
            "max_width": null,
            "min_height": null,
            "min_width": null,
            "object_fit": null,
            "object_position": null,
            "order": null,
            "overflow": null,
            "overflow_x": null,
            "overflow_y": null,
            "padding": null,
            "right": null,
            "top": null,
            "visibility": null,
            "width": null
          }
        },
        "57ed2f4995c94e7599d3fff675fc8fcc": {
          "model_module": "@jupyter-widgets/controls",
          "model_name": "DescriptionStyleModel",
          "model_module_version": "1.5.0",
          "state": {
            "_model_module": "@jupyter-widgets/controls",
            "_model_module_version": "1.5.0",
            "_model_name": "DescriptionStyleModel",
            "_view_count": null,
            "_view_module": "@jupyter-widgets/base",
            "_view_module_version": "1.2.0",
            "_view_name": "StyleView",
            "description_width": ""
          }
        },
        "39f33e6fbb684853b78b985b0ab4a714": {
          "model_module": "@jupyter-widgets/controls",
          "model_name": "HBoxModel",
          "model_module_version": "1.5.0",
          "state": {
            "_dom_classes": [],
            "_model_module": "@jupyter-widgets/controls",
            "_model_module_version": "1.5.0",
            "_model_name": "HBoxModel",
            "_view_count": null,
            "_view_module": "@jupyter-widgets/controls",
            "_view_module_version": "1.5.0",
            "_view_name": "HBoxView",
            "box_style": "",
            "children": [
              "IPY_MODEL_36319691af5545be9697fac6c7898887",
              "IPY_MODEL_506042a865ee4c7692460518d6917292",
              "IPY_MODEL_b5895b963af44377af61ba69e1df1d5d"
            ],
            "layout": "IPY_MODEL_dfa307192c5c456e98839deed27b1e1b"
          }
        },
        "36319691af5545be9697fac6c7898887": {
          "model_module": "@jupyter-widgets/controls",
          "model_name": "HTMLModel",
          "model_module_version": "1.5.0",
          "state": {
            "_dom_classes": [],
            "_model_module": "@jupyter-widgets/controls",
            "_model_module_version": "1.5.0",
            "_model_name": "HTMLModel",
            "_view_count": null,
            "_view_module": "@jupyter-widgets/controls",
            "_view_module_version": "1.5.0",
            "_view_name": "HTMLView",
            "description": "",
            "description_tooltip": null,
            "layout": "IPY_MODEL_80152ea765b8457eab15b430f4ccca31",
            "placeholder": "​",
            "style": "IPY_MODEL_c3fbcbdde0f1430bbda6305694cd372e",
            "value": "Downloading: 100%"
          }
        },
        "506042a865ee4c7692460518d6917292": {
          "model_module": "@jupyter-widgets/controls",
          "model_name": "FloatProgressModel",
          "model_module_version": "1.5.0",
          "state": {
            "_dom_classes": [],
            "_model_module": "@jupyter-widgets/controls",
            "_model_module_version": "1.5.0",
            "_model_name": "FloatProgressModel",
            "_view_count": null,
            "_view_module": "@jupyter-widgets/controls",
            "_view_module_version": "1.5.0",
            "_view_name": "ProgressView",
            "bar_style": "success",
            "description": "",
            "description_tooltip": null,
            "layout": "IPY_MODEL_17b76cb144b246bca128849522cb2e57",
            "max": 29,
            "min": 0,
            "orientation": "horizontal",
            "style": "IPY_MODEL_81fe8efc78314ac0a101ef4298ea7c3b",
            "value": 29
          }
        },
        "b5895b963af44377af61ba69e1df1d5d": {
          "model_module": "@jupyter-widgets/controls",
          "model_name": "HTMLModel",
          "model_module_version": "1.5.0",
          "state": {
            "_dom_classes": [],
            "_model_module": "@jupyter-widgets/controls",
            "_model_module_version": "1.5.0",
            "_model_name": "HTMLModel",
            "_view_count": null,
            "_view_module": "@jupyter-widgets/controls",
            "_view_module_version": "1.5.0",
            "_view_name": "HTMLView",
            "description": "",
            "description_tooltip": null,
            "layout": "IPY_MODEL_9730154356a34e83b89d0996c969d2cd",
            "placeholder": "​",
            "style": "IPY_MODEL_2eeb64ec52134ee399dd527c405662a0",
            "value": " 29.0/29.0 [00:00&lt;00:00, 1.03kB/s]"
          }
        },
        "dfa307192c5c456e98839deed27b1e1b": {
          "model_module": "@jupyter-widgets/base",
          "model_name": "LayoutModel",
          "model_module_version": "1.2.0",
          "state": {
            "_model_module": "@jupyter-widgets/base",
            "_model_module_version": "1.2.0",
            "_model_name": "LayoutModel",
            "_view_count": null,
            "_view_module": "@jupyter-widgets/base",
            "_view_module_version": "1.2.0",
            "_view_name": "LayoutView",
            "align_content": null,
            "align_items": null,
            "align_self": null,
            "border": null,
            "bottom": null,
            "display": null,
            "flex": null,
            "flex_flow": null,
            "grid_area": null,
            "grid_auto_columns": null,
            "grid_auto_flow": null,
            "grid_auto_rows": null,
            "grid_column": null,
            "grid_gap": null,
            "grid_row": null,
            "grid_template_areas": null,
            "grid_template_columns": null,
            "grid_template_rows": null,
            "height": null,
            "justify_content": null,
            "justify_items": null,
            "left": null,
            "margin": null,
            "max_height": null,
            "max_width": null,
            "min_height": null,
            "min_width": null,
            "object_fit": null,
            "object_position": null,
            "order": null,
            "overflow": null,
            "overflow_x": null,
            "overflow_y": null,
            "padding": null,
            "right": null,
            "top": null,
            "visibility": null,
            "width": null
          }
        },
        "80152ea765b8457eab15b430f4ccca31": {
          "model_module": "@jupyter-widgets/base",
          "model_name": "LayoutModel",
          "model_module_version": "1.2.0",
          "state": {
            "_model_module": "@jupyter-widgets/base",
            "_model_module_version": "1.2.0",
            "_model_name": "LayoutModel",
            "_view_count": null,
            "_view_module": "@jupyter-widgets/base",
            "_view_module_version": "1.2.0",
            "_view_name": "LayoutView",
            "align_content": null,
            "align_items": null,
            "align_self": null,
            "border": null,
            "bottom": null,
            "display": null,
            "flex": null,
            "flex_flow": null,
            "grid_area": null,
            "grid_auto_columns": null,
            "grid_auto_flow": null,
            "grid_auto_rows": null,
            "grid_column": null,
            "grid_gap": null,
            "grid_row": null,
            "grid_template_areas": null,
            "grid_template_columns": null,
            "grid_template_rows": null,
            "height": null,
            "justify_content": null,
            "justify_items": null,
            "left": null,
            "margin": null,
            "max_height": null,
            "max_width": null,
            "min_height": null,
            "min_width": null,
            "object_fit": null,
            "object_position": null,
            "order": null,
            "overflow": null,
            "overflow_x": null,
            "overflow_y": null,
            "padding": null,
            "right": null,
            "top": null,
            "visibility": null,
            "width": null
          }
        },
        "c3fbcbdde0f1430bbda6305694cd372e": {
          "model_module": "@jupyter-widgets/controls",
          "model_name": "DescriptionStyleModel",
          "model_module_version": "1.5.0",
          "state": {
            "_model_module": "@jupyter-widgets/controls",
            "_model_module_version": "1.5.0",
            "_model_name": "DescriptionStyleModel",
            "_view_count": null,
            "_view_module": "@jupyter-widgets/base",
            "_view_module_version": "1.2.0",
            "_view_name": "StyleView",
            "description_width": ""
          }
        },
        "17b76cb144b246bca128849522cb2e57": {
          "model_module": "@jupyter-widgets/base",
          "model_name": "LayoutModel",
          "model_module_version": "1.2.0",
          "state": {
            "_model_module": "@jupyter-widgets/base",
            "_model_module_version": "1.2.0",
            "_model_name": "LayoutModel",
            "_view_count": null,
            "_view_module": "@jupyter-widgets/base",
            "_view_module_version": "1.2.0",
            "_view_name": "LayoutView",
            "align_content": null,
            "align_items": null,
            "align_self": null,
            "border": null,
            "bottom": null,
            "display": null,
            "flex": null,
            "flex_flow": null,
            "grid_area": null,
            "grid_auto_columns": null,
            "grid_auto_flow": null,
            "grid_auto_rows": null,
            "grid_column": null,
            "grid_gap": null,
            "grid_row": null,
            "grid_template_areas": null,
            "grid_template_columns": null,
            "grid_template_rows": null,
            "height": null,
            "justify_content": null,
            "justify_items": null,
            "left": null,
            "margin": null,
            "max_height": null,
            "max_width": null,
            "min_height": null,
            "min_width": null,
            "object_fit": null,
            "object_position": null,
            "order": null,
            "overflow": null,
            "overflow_x": null,
            "overflow_y": null,
            "padding": null,
            "right": null,
            "top": null,
            "visibility": null,
            "width": null
          }
        },
        "81fe8efc78314ac0a101ef4298ea7c3b": {
          "model_module": "@jupyter-widgets/controls",
          "model_name": "ProgressStyleModel",
          "model_module_version": "1.5.0",
          "state": {
            "_model_module": "@jupyter-widgets/controls",
            "_model_module_version": "1.5.0",
            "_model_name": "ProgressStyleModel",
            "_view_count": null,
            "_view_module": "@jupyter-widgets/base",
            "_view_module_version": "1.2.0",
            "_view_name": "StyleView",
            "bar_color": null,
            "description_width": ""
          }
        },
        "9730154356a34e83b89d0996c969d2cd": {
          "model_module": "@jupyter-widgets/base",
          "model_name": "LayoutModel",
          "model_module_version": "1.2.0",
          "state": {
            "_model_module": "@jupyter-widgets/base",
            "_model_module_version": "1.2.0",
            "_model_name": "LayoutModel",
            "_view_count": null,
            "_view_module": "@jupyter-widgets/base",
            "_view_module_version": "1.2.0",
            "_view_name": "LayoutView",
            "align_content": null,
            "align_items": null,
            "align_self": null,
            "border": null,
            "bottom": null,
            "display": null,
            "flex": null,
            "flex_flow": null,
            "grid_area": null,
            "grid_auto_columns": null,
            "grid_auto_flow": null,
            "grid_auto_rows": null,
            "grid_column": null,
            "grid_gap": null,
            "grid_row": null,
            "grid_template_areas": null,
            "grid_template_columns": null,
            "grid_template_rows": null,
            "height": null,
            "justify_content": null,
            "justify_items": null,
            "left": null,
            "margin": null,
            "max_height": null,
            "max_width": null,
            "min_height": null,
            "min_width": null,
            "object_fit": null,
            "object_position": null,
            "order": null,
            "overflow": null,
            "overflow_x": null,
            "overflow_y": null,
            "padding": null,
            "right": null,
            "top": null,
            "visibility": null,
            "width": null
          }
        },
        "2eeb64ec52134ee399dd527c405662a0": {
          "model_module": "@jupyter-widgets/controls",
          "model_name": "DescriptionStyleModel",
          "model_module_version": "1.5.0",
          "state": {
            "_model_module": "@jupyter-widgets/controls",
            "_model_module_version": "1.5.0",
            "_model_name": "DescriptionStyleModel",
            "_view_count": null,
            "_view_module": "@jupyter-widgets/base",
            "_view_module_version": "1.2.0",
            "_view_name": "StyleView",
            "description_width": ""
          }
        },
        "ffe985f3bcd7451fa4097e32e2b71d41": {
          "model_module": "@jupyter-widgets/controls",
          "model_name": "HBoxModel",
          "model_module_version": "1.5.0",
          "state": {
            "_dom_classes": [],
            "_model_module": "@jupyter-widgets/controls",
            "_model_module_version": "1.5.0",
            "_model_name": "HBoxModel",
            "_view_count": null,
            "_view_module": "@jupyter-widgets/controls",
            "_view_module_version": "1.5.0",
            "_view_name": "HBoxView",
            "box_style": "",
            "children": [
              "IPY_MODEL_29486388cedb4966be0ab03c87c6e1b8",
              "IPY_MODEL_69a087dd23c14580a08a22aa47d6b22f",
              "IPY_MODEL_a1d94bb417a94896adeb6937eda59515"
            ],
            "layout": "IPY_MODEL_c97a59dded9a4c30beacb0da65414513"
          }
        },
        "29486388cedb4966be0ab03c87c6e1b8": {
          "model_module": "@jupyter-widgets/controls",
          "model_name": "HTMLModel",
          "model_module_version": "1.5.0",
          "state": {
            "_dom_classes": [],
            "_model_module": "@jupyter-widgets/controls",
            "_model_module_version": "1.5.0",
            "_model_name": "HTMLModel",
            "_view_count": null,
            "_view_module": "@jupyter-widgets/controls",
            "_view_module_version": "1.5.0",
            "_view_name": "HTMLView",
            "description": "",
            "description_tooltip": null,
            "layout": "IPY_MODEL_c142bc6b43d343c5b5d1a82e748a62c1",
            "placeholder": "​",
            "style": "IPY_MODEL_ba7a7b7cd1d341798013ddd10a00f1fa",
            "value": "Downloading: 100%"
          }
        },
        "69a087dd23c14580a08a22aa47d6b22f": {
          "model_module": "@jupyter-widgets/controls",
          "model_name": "FloatProgressModel",
          "model_module_version": "1.5.0",
          "state": {
            "_dom_classes": [],
            "_model_module": "@jupyter-widgets/controls",
            "_model_module_version": "1.5.0",
            "_model_name": "FloatProgressModel",
            "_view_count": null,
            "_view_module": "@jupyter-widgets/controls",
            "_view_module_version": "1.5.0",
            "_view_name": "ProgressView",
            "bar_style": "success",
            "description": "",
            "description_tooltip": null,
            "layout": "IPY_MODEL_222168d952b44b1684ab585fbda0b0e9",
            "max": 570,
            "min": 0,
            "orientation": "horizontal",
            "style": "IPY_MODEL_80e62557a5ab49f4b249162e4e009a04",
            "value": 570
          }
        },
        "a1d94bb417a94896adeb6937eda59515": {
          "model_module": "@jupyter-widgets/controls",
          "model_name": "HTMLModel",
          "model_module_version": "1.5.0",
          "state": {
            "_dom_classes": [],
            "_model_module": "@jupyter-widgets/controls",
            "_model_module_version": "1.5.0",
            "_model_name": "HTMLModel",
            "_view_count": null,
            "_view_module": "@jupyter-widgets/controls",
            "_view_module_version": "1.5.0",
            "_view_name": "HTMLView",
            "description": "",
            "description_tooltip": null,
            "layout": "IPY_MODEL_fc6c81ed5ce143219edd47cdc44a9692",
            "placeholder": "​",
            "style": "IPY_MODEL_bfe4f489e26d4fbcaa7cf3d092b2811c",
            "value": " 570/570 [00:00&lt;00:00, 33.9kB/s]"
          }
        },
        "c97a59dded9a4c30beacb0da65414513": {
          "model_module": "@jupyter-widgets/base",
          "model_name": "LayoutModel",
          "model_module_version": "1.2.0",
          "state": {
            "_model_module": "@jupyter-widgets/base",
            "_model_module_version": "1.2.0",
            "_model_name": "LayoutModel",
            "_view_count": null,
            "_view_module": "@jupyter-widgets/base",
            "_view_module_version": "1.2.0",
            "_view_name": "LayoutView",
            "align_content": null,
            "align_items": null,
            "align_self": null,
            "border": null,
            "bottom": null,
            "display": null,
            "flex": null,
            "flex_flow": null,
            "grid_area": null,
            "grid_auto_columns": null,
            "grid_auto_flow": null,
            "grid_auto_rows": null,
            "grid_column": null,
            "grid_gap": null,
            "grid_row": null,
            "grid_template_areas": null,
            "grid_template_columns": null,
            "grid_template_rows": null,
            "height": null,
            "justify_content": null,
            "justify_items": null,
            "left": null,
            "margin": null,
            "max_height": null,
            "max_width": null,
            "min_height": null,
            "min_width": null,
            "object_fit": null,
            "object_position": null,
            "order": null,
            "overflow": null,
            "overflow_x": null,
            "overflow_y": null,
            "padding": null,
            "right": null,
            "top": null,
            "visibility": null,
            "width": null
          }
        },
        "c142bc6b43d343c5b5d1a82e748a62c1": {
          "model_module": "@jupyter-widgets/base",
          "model_name": "LayoutModel",
          "model_module_version": "1.2.0",
          "state": {
            "_model_module": "@jupyter-widgets/base",
            "_model_module_version": "1.2.0",
            "_model_name": "LayoutModel",
            "_view_count": null,
            "_view_module": "@jupyter-widgets/base",
            "_view_module_version": "1.2.0",
            "_view_name": "LayoutView",
            "align_content": null,
            "align_items": null,
            "align_self": null,
            "border": null,
            "bottom": null,
            "display": null,
            "flex": null,
            "flex_flow": null,
            "grid_area": null,
            "grid_auto_columns": null,
            "grid_auto_flow": null,
            "grid_auto_rows": null,
            "grid_column": null,
            "grid_gap": null,
            "grid_row": null,
            "grid_template_areas": null,
            "grid_template_columns": null,
            "grid_template_rows": null,
            "height": null,
            "justify_content": null,
            "justify_items": null,
            "left": null,
            "margin": null,
            "max_height": null,
            "max_width": null,
            "min_height": null,
            "min_width": null,
            "object_fit": null,
            "object_position": null,
            "order": null,
            "overflow": null,
            "overflow_x": null,
            "overflow_y": null,
            "padding": null,
            "right": null,
            "top": null,
            "visibility": null,
            "width": null
          }
        },
        "ba7a7b7cd1d341798013ddd10a00f1fa": {
          "model_module": "@jupyter-widgets/controls",
          "model_name": "DescriptionStyleModel",
          "model_module_version": "1.5.0",
          "state": {
            "_model_module": "@jupyter-widgets/controls",
            "_model_module_version": "1.5.0",
            "_model_name": "DescriptionStyleModel",
            "_view_count": null,
            "_view_module": "@jupyter-widgets/base",
            "_view_module_version": "1.2.0",
            "_view_name": "StyleView",
            "description_width": ""
          }
        },
        "222168d952b44b1684ab585fbda0b0e9": {
          "model_module": "@jupyter-widgets/base",
          "model_name": "LayoutModel",
          "model_module_version": "1.2.0",
          "state": {
            "_model_module": "@jupyter-widgets/base",
            "_model_module_version": "1.2.0",
            "_model_name": "LayoutModel",
            "_view_count": null,
            "_view_module": "@jupyter-widgets/base",
            "_view_module_version": "1.2.0",
            "_view_name": "LayoutView",
            "align_content": null,
            "align_items": null,
            "align_self": null,
            "border": null,
            "bottom": null,
            "display": null,
            "flex": null,
            "flex_flow": null,
            "grid_area": null,
            "grid_auto_columns": null,
            "grid_auto_flow": null,
            "grid_auto_rows": null,
            "grid_column": null,
            "grid_gap": null,
            "grid_row": null,
            "grid_template_areas": null,
            "grid_template_columns": null,
            "grid_template_rows": null,
            "height": null,
            "justify_content": null,
            "justify_items": null,
            "left": null,
            "margin": null,
            "max_height": null,
            "max_width": null,
            "min_height": null,
            "min_width": null,
            "object_fit": null,
            "object_position": null,
            "order": null,
            "overflow": null,
            "overflow_x": null,
            "overflow_y": null,
            "padding": null,
            "right": null,
            "top": null,
            "visibility": null,
            "width": null
          }
        },
        "80e62557a5ab49f4b249162e4e009a04": {
          "model_module": "@jupyter-widgets/controls",
          "model_name": "ProgressStyleModel",
          "model_module_version": "1.5.0",
          "state": {
            "_model_module": "@jupyter-widgets/controls",
            "_model_module_version": "1.5.0",
            "_model_name": "ProgressStyleModel",
            "_view_count": null,
            "_view_module": "@jupyter-widgets/base",
            "_view_module_version": "1.2.0",
            "_view_name": "StyleView",
            "bar_color": null,
            "description_width": ""
          }
        },
        "fc6c81ed5ce143219edd47cdc44a9692": {
          "model_module": "@jupyter-widgets/base",
          "model_name": "LayoutModel",
          "model_module_version": "1.2.0",
          "state": {
            "_model_module": "@jupyter-widgets/base",
            "_model_module_version": "1.2.0",
            "_model_name": "LayoutModel",
            "_view_count": null,
            "_view_module": "@jupyter-widgets/base",
            "_view_module_version": "1.2.0",
            "_view_name": "LayoutView",
            "align_content": null,
            "align_items": null,
            "align_self": null,
            "border": null,
            "bottom": null,
            "display": null,
            "flex": null,
            "flex_flow": null,
            "grid_area": null,
            "grid_auto_columns": null,
            "grid_auto_flow": null,
            "grid_auto_rows": null,
            "grid_column": null,
            "grid_gap": null,
            "grid_row": null,
            "grid_template_areas": null,
            "grid_template_columns": null,
            "grid_template_rows": null,
            "height": null,
            "justify_content": null,
            "justify_items": null,
            "left": null,
            "margin": null,
            "max_height": null,
            "max_width": null,
            "min_height": null,
            "min_width": null,
            "object_fit": null,
            "object_position": null,
            "order": null,
            "overflow": null,
            "overflow_x": null,
            "overflow_y": null,
            "padding": null,
            "right": null,
            "top": null,
            "visibility": null,
            "width": null
          }
        },
        "bfe4f489e26d4fbcaa7cf3d092b2811c": {
          "model_module": "@jupyter-widgets/controls",
          "model_name": "DescriptionStyleModel",
          "model_module_version": "1.5.0",
          "state": {
            "_model_module": "@jupyter-widgets/controls",
            "_model_module_version": "1.5.0",
            "_model_name": "DescriptionStyleModel",
            "_view_count": null,
            "_view_module": "@jupyter-widgets/base",
            "_view_module_version": "1.2.0",
            "_view_name": "StyleView",
            "description_width": ""
          }
        },
        "66681e06767e4353b8569e56c4e935d2": {
          "model_module": "@jupyter-widgets/controls",
          "model_name": "HBoxModel",
          "model_module_version": "1.5.0",
          "state": {
            "_dom_classes": [],
            "_model_module": "@jupyter-widgets/controls",
            "_model_module_version": "1.5.0",
            "_model_name": "HBoxModel",
            "_view_count": null,
            "_view_module": "@jupyter-widgets/controls",
            "_view_module_version": "1.5.0",
            "_view_name": "HBoxView",
            "box_style": "",
            "children": [
              "IPY_MODEL_f28a34f205194c068643e41e73f64478",
              "IPY_MODEL_e8de9143f9d3434abd34103234e1d21b",
              "IPY_MODEL_79c331db1d6d4050afebd0c6a7951129"
            ],
            "layout": "IPY_MODEL_3814eea5672c4233a9a7b7e6bc9bc5cf"
          }
        },
        "f28a34f205194c068643e41e73f64478": {
          "model_module": "@jupyter-widgets/controls",
          "model_name": "HTMLModel",
          "model_module_version": "1.5.0",
          "state": {
            "_dom_classes": [],
            "_model_module": "@jupyter-widgets/controls",
            "_model_module_version": "1.5.0",
            "_model_name": "HTMLModel",
            "_view_count": null,
            "_view_module": "@jupyter-widgets/controls",
            "_view_module_version": "1.5.0",
            "_view_name": "HTMLView",
            "description": "",
            "description_tooltip": null,
            "layout": "IPY_MODEL_18574c19fa1746a5acde3029a5b1332b",
            "placeholder": "​",
            "style": "IPY_MODEL_c0a5699cff8940daa9453b2dc0d6b2e6",
            "value": "Downloading: 100%"
          }
        },
        "e8de9143f9d3434abd34103234e1d21b": {
          "model_module": "@jupyter-widgets/controls",
          "model_name": "FloatProgressModel",
          "model_module_version": "1.5.0",
          "state": {
            "_dom_classes": [],
            "_model_module": "@jupyter-widgets/controls",
            "_model_module_version": "1.5.0",
            "_model_name": "FloatProgressModel",
            "_view_count": null,
            "_view_module": "@jupyter-widgets/controls",
            "_view_module_version": "1.5.0",
            "_view_name": "ProgressView",
            "bar_style": "success",
            "description": "",
            "description_tooltip": null,
            "layout": "IPY_MODEL_5714f89fe29940569880f7a68b824139",
            "max": 213450,
            "min": 0,
            "orientation": "horizontal",
            "style": "IPY_MODEL_4801f346df014510b944fc0522aa1e42",
            "value": 213450
          }
        },
        "79c331db1d6d4050afebd0c6a7951129": {
          "model_module": "@jupyter-widgets/controls",
          "model_name": "HTMLModel",
          "model_module_version": "1.5.0",
          "state": {
            "_dom_classes": [],
            "_model_module": "@jupyter-widgets/controls",
            "_model_module_version": "1.5.0",
            "_model_name": "HTMLModel",
            "_view_count": null,
            "_view_module": "@jupyter-widgets/controls",
            "_view_module_version": "1.5.0",
            "_view_name": "HTMLView",
            "description": "",
            "description_tooltip": null,
            "layout": "IPY_MODEL_8ae69f7f27794ae9b058961ee05fa3ba",
            "placeholder": "​",
            "style": "IPY_MODEL_1acc14cba08f4e39bb643c5499cd361d",
            "value": " 213k/213k [00:00&lt;00:00, 634kB/s]"
          }
        },
        "3814eea5672c4233a9a7b7e6bc9bc5cf": {
          "model_module": "@jupyter-widgets/base",
          "model_name": "LayoutModel",
          "model_module_version": "1.2.0",
          "state": {
            "_model_module": "@jupyter-widgets/base",
            "_model_module_version": "1.2.0",
            "_model_name": "LayoutModel",
            "_view_count": null,
            "_view_module": "@jupyter-widgets/base",
            "_view_module_version": "1.2.0",
            "_view_name": "LayoutView",
            "align_content": null,
            "align_items": null,
            "align_self": null,
            "border": null,
            "bottom": null,
            "display": null,
            "flex": null,
            "flex_flow": null,
            "grid_area": null,
            "grid_auto_columns": null,
            "grid_auto_flow": null,
            "grid_auto_rows": null,
            "grid_column": null,
            "grid_gap": null,
            "grid_row": null,
            "grid_template_areas": null,
            "grid_template_columns": null,
            "grid_template_rows": null,
            "height": null,
            "justify_content": null,
            "justify_items": null,
            "left": null,
            "margin": null,
            "max_height": null,
            "max_width": null,
            "min_height": null,
            "min_width": null,
            "object_fit": null,
            "object_position": null,
            "order": null,
            "overflow": null,
            "overflow_x": null,
            "overflow_y": null,
            "padding": null,
            "right": null,
            "top": null,
            "visibility": null,
            "width": null
          }
        },
        "18574c19fa1746a5acde3029a5b1332b": {
          "model_module": "@jupyter-widgets/base",
          "model_name": "LayoutModel",
          "model_module_version": "1.2.0",
          "state": {
            "_model_module": "@jupyter-widgets/base",
            "_model_module_version": "1.2.0",
            "_model_name": "LayoutModel",
            "_view_count": null,
            "_view_module": "@jupyter-widgets/base",
            "_view_module_version": "1.2.0",
            "_view_name": "LayoutView",
            "align_content": null,
            "align_items": null,
            "align_self": null,
            "border": null,
            "bottom": null,
            "display": null,
            "flex": null,
            "flex_flow": null,
            "grid_area": null,
            "grid_auto_columns": null,
            "grid_auto_flow": null,
            "grid_auto_rows": null,
            "grid_column": null,
            "grid_gap": null,
            "grid_row": null,
            "grid_template_areas": null,
            "grid_template_columns": null,
            "grid_template_rows": null,
            "height": null,
            "justify_content": null,
            "justify_items": null,
            "left": null,
            "margin": null,
            "max_height": null,
            "max_width": null,
            "min_height": null,
            "min_width": null,
            "object_fit": null,
            "object_position": null,
            "order": null,
            "overflow": null,
            "overflow_x": null,
            "overflow_y": null,
            "padding": null,
            "right": null,
            "top": null,
            "visibility": null,
            "width": null
          }
        },
        "c0a5699cff8940daa9453b2dc0d6b2e6": {
          "model_module": "@jupyter-widgets/controls",
          "model_name": "DescriptionStyleModel",
          "model_module_version": "1.5.0",
          "state": {
            "_model_module": "@jupyter-widgets/controls",
            "_model_module_version": "1.5.0",
            "_model_name": "DescriptionStyleModel",
            "_view_count": null,
            "_view_module": "@jupyter-widgets/base",
            "_view_module_version": "1.2.0",
            "_view_name": "StyleView",
            "description_width": ""
          }
        },
        "5714f89fe29940569880f7a68b824139": {
          "model_module": "@jupyter-widgets/base",
          "model_name": "LayoutModel",
          "model_module_version": "1.2.0",
          "state": {
            "_model_module": "@jupyter-widgets/base",
            "_model_module_version": "1.2.0",
            "_model_name": "LayoutModel",
            "_view_count": null,
            "_view_module": "@jupyter-widgets/base",
            "_view_module_version": "1.2.0",
            "_view_name": "LayoutView",
            "align_content": null,
            "align_items": null,
            "align_self": null,
            "border": null,
            "bottom": null,
            "display": null,
            "flex": null,
            "flex_flow": null,
            "grid_area": null,
            "grid_auto_columns": null,
            "grid_auto_flow": null,
            "grid_auto_rows": null,
            "grid_column": null,
            "grid_gap": null,
            "grid_row": null,
            "grid_template_areas": null,
            "grid_template_columns": null,
            "grid_template_rows": null,
            "height": null,
            "justify_content": null,
            "justify_items": null,
            "left": null,
            "margin": null,
            "max_height": null,
            "max_width": null,
            "min_height": null,
            "min_width": null,
            "object_fit": null,
            "object_position": null,
            "order": null,
            "overflow": null,
            "overflow_x": null,
            "overflow_y": null,
            "padding": null,
            "right": null,
            "top": null,
            "visibility": null,
            "width": null
          }
        },
        "4801f346df014510b944fc0522aa1e42": {
          "model_module": "@jupyter-widgets/controls",
          "model_name": "ProgressStyleModel",
          "model_module_version": "1.5.0",
          "state": {
            "_model_module": "@jupyter-widgets/controls",
            "_model_module_version": "1.5.0",
            "_model_name": "ProgressStyleModel",
            "_view_count": null,
            "_view_module": "@jupyter-widgets/base",
            "_view_module_version": "1.2.0",
            "_view_name": "StyleView",
            "bar_color": null,
            "description_width": ""
          }
        },
        "8ae69f7f27794ae9b058961ee05fa3ba": {
          "model_module": "@jupyter-widgets/base",
          "model_name": "LayoutModel",
          "model_module_version": "1.2.0",
          "state": {
            "_model_module": "@jupyter-widgets/base",
            "_model_module_version": "1.2.0",
            "_model_name": "LayoutModel",
            "_view_count": null,
            "_view_module": "@jupyter-widgets/base",
            "_view_module_version": "1.2.0",
            "_view_name": "LayoutView",
            "align_content": null,
            "align_items": null,
            "align_self": null,
            "border": null,
            "bottom": null,
            "display": null,
            "flex": null,
            "flex_flow": null,
            "grid_area": null,
            "grid_auto_columns": null,
            "grid_auto_flow": null,
            "grid_auto_rows": null,
            "grid_column": null,
            "grid_gap": null,
            "grid_row": null,
            "grid_template_areas": null,
            "grid_template_columns": null,
            "grid_template_rows": null,
            "height": null,
            "justify_content": null,
            "justify_items": null,
            "left": null,
            "margin": null,
            "max_height": null,
            "max_width": null,
            "min_height": null,
            "min_width": null,
            "object_fit": null,
            "object_position": null,
            "order": null,
            "overflow": null,
            "overflow_x": null,
            "overflow_y": null,
            "padding": null,
            "right": null,
            "top": null,
            "visibility": null,
            "width": null
          }
        },
        "1acc14cba08f4e39bb643c5499cd361d": {
          "model_module": "@jupyter-widgets/controls",
          "model_name": "DescriptionStyleModel",
          "model_module_version": "1.5.0",
          "state": {
            "_model_module": "@jupyter-widgets/controls",
            "_model_module_version": "1.5.0",
            "_model_name": "DescriptionStyleModel",
            "_view_count": null,
            "_view_module": "@jupyter-widgets/base",
            "_view_module_version": "1.2.0",
            "_view_name": "StyleView",
            "description_width": ""
          }
        },
        "9263b85bb39f475bb7a397a348cb32c6": {
          "model_module": "@jupyter-widgets/controls",
          "model_name": "HBoxModel",
          "model_module_version": "1.5.0",
          "state": {
            "_dom_classes": [],
            "_model_module": "@jupyter-widgets/controls",
            "_model_module_version": "1.5.0",
            "_model_name": "HBoxModel",
            "_view_count": null,
            "_view_module": "@jupyter-widgets/controls",
            "_view_module_version": "1.5.0",
            "_view_name": "HBoxView",
            "box_style": "",
            "children": [
              "IPY_MODEL_b4e6aa75348945ad870a244af16dfe8f",
              "IPY_MODEL_45280c6c1f6245928878eb202ef16c74",
              "IPY_MODEL_d4d443b226a04eb7b0506530effa91eb"
            ],
            "layout": "IPY_MODEL_f64f3a59a4af44f3bf48633d25c5be06"
          }
        },
        "b4e6aa75348945ad870a244af16dfe8f": {
          "model_module": "@jupyter-widgets/controls",
          "model_name": "HTMLModel",
          "model_module_version": "1.5.0",
          "state": {
            "_dom_classes": [],
            "_model_module": "@jupyter-widgets/controls",
            "_model_module_version": "1.5.0",
            "_model_name": "HTMLModel",
            "_view_count": null,
            "_view_module": "@jupyter-widgets/controls",
            "_view_module_version": "1.5.0",
            "_view_name": "HTMLView",
            "description": "",
            "description_tooltip": null,
            "layout": "IPY_MODEL_4054cca0cf0c4d6c89f6bd6bad72a89a",
            "placeholder": "​",
            "style": "IPY_MODEL_ccfcf5d0286c46f3adc12ea0135cc71e",
            "value": "Downloading: 100%"
          }
        },
        "45280c6c1f6245928878eb202ef16c74": {
          "model_module": "@jupyter-widgets/controls",
          "model_name": "FloatProgressModel",
          "model_module_version": "1.5.0",
          "state": {
            "_dom_classes": [],
            "_model_module": "@jupyter-widgets/controls",
            "_model_module_version": "1.5.0",
            "_model_name": "FloatProgressModel",
            "_view_count": null,
            "_view_module": "@jupyter-widgets/controls",
            "_view_module_version": "1.5.0",
            "_view_name": "ProgressView",
            "bar_style": "success",
            "description": "",
            "description_tooltip": null,
            "layout": "IPY_MODEL_543f5ecf2b0e4506a481f44c5603efc2",
            "max": 435797,
            "min": 0,
            "orientation": "horizontal",
            "style": "IPY_MODEL_ff05268581cf459684278493b0f85a75",
            "value": 435797
          }
        },
        "d4d443b226a04eb7b0506530effa91eb": {
          "model_module": "@jupyter-widgets/controls",
          "model_name": "HTMLModel",
          "model_module_version": "1.5.0",
          "state": {
            "_dom_classes": [],
            "_model_module": "@jupyter-widgets/controls",
            "_model_module_version": "1.5.0",
            "_model_name": "HTMLModel",
            "_view_count": null,
            "_view_module": "@jupyter-widgets/controls",
            "_view_module_version": "1.5.0",
            "_view_name": "HTMLView",
            "description": "",
            "description_tooltip": null,
            "layout": "IPY_MODEL_14ab69a4867c49a7a2f12e38ea9a03b0",
            "placeholder": "​",
            "style": "IPY_MODEL_147e00fb51ce474591267284e6f345d9",
            "value": " 436k/436k [00:00&lt;00:00, 678kB/s]"
          }
        },
        "f64f3a59a4af44f3bf48633d25c5be06": {
          "model_module": "@jupyter-widgets/base",
          "model_name": "LayoutModel",
          "model_module_version": "1.2.0",
          "state": {
            "_model_module": "@jupyter-widgets/base",
            "_model_module_version": "1.2.0",
            "_model_name": "LayoutModel",
            "_view_count": null,
            "_view_module": "@jupyter-widgets/base",
            "_view_module_version": "1.2.0",
            "_view_name": "LayoutView",
            "align_content": null,
            "align_items": null,
            "align_self": null,
            "border": null,
            "bottom": null,
            "display": null,
            "flex": null,
            "flex_flow": null,
            "grid_area": null,
            "grid_auto_columns": null,
            "grid_auto_flow": null,
            "grid_auto_rows": null,
            "grid_column": null,
            "grid_gap": null,
            "grid_row": null,
            "grid_template_areas": null,
            "grid_template_columns": null,
            "grid_template_rows": null,
            "height": null,
            "justify_content": null,
            "justify_items": null,
            "left": null,
            "margin": null,
            "max_height": null,
            "max_width": null,
            "min_height": null,
            "min_width": null,
            "object_fit": null,
            "object_position": null,
            "order": null,
            "overflow": null,
            "overflow_x": null,
            "overflow_y": null,
            "padding": null,
            "right": null,
            "top": null,
            "visibility": null,
            "width": null
          }
        },
        "4054cca0cf0c4d6c89f6bd6bad72a89a": {
          "model_module": "@jupyter-widgets/base",
          "model_name": "LayoutModel",
          "model_module_version": "1.2.0",
          "state": {
            "_model_module": "@jupyter-widgets/base",
            "_model_module_version": "1.2.0",
            "_model_name": "LayoutModel",
            "_view_count": null,
            "_view_module": "@jupyter-widgets/base",
            "_view_module_version": "1.2.0",
            "_view_name": "LayoutView",
            "align_content": null,
            "align_items": null,
            "align_self": null,
            "border": null,
            "bottom": null,
            "display": null,
            "flex": null,
            "flex_flow": null,
            "grid_area": null,
            "grid_auto_columns": null,
            "grid_auto_flow": null,
            "grid_auto_rows": null,
            "grid_column": null,
            "grid_gap": null,
            "grid_row": null,
            "grid_template_areas": null,
            "grid_template_columns": null,
            "grid_template_rows": null,
            "height": null,
            "justify_content": null,
            "justify_items": null,
            "left": null,
            "margin": null,
            "max_height": null,
            "max_width": null,
            "min_height": null,
            "min_width": null,
            "object_fit": null,
            "object_position": null,
            "order": null,
            "overflow": null,
            "overflow_x": null,
            "overflow_y": null,
            "padding": null,
            "right": null,
            "top": null,
            "visibility": null,
            "width": null
          }
        },
        "ccfcf5d0286c46f3adc12ea0135cc71e": {
          "model_module": "@jupyter-widgets/controls",
          "model_name": "DescriptionStyleModel",
          "model_module_version": "1.5.0",
          "state": {
            "_model_module": "@jupyter-widgets/controls",
            "_model_module_version": "1.5.0",
            "_model_name": "DescriptionStyleModel",
            "_view_count": null,
            "_view_module": "@jupyter-widgets/base",
            "_view_module_version": "1.2.0",
            "_view_name": "StyleView",
            "description_width": ""
          }
        },
        "543f5ecf2b0e4506a481f44c5603efc2": {
          "model_module": "@jupyter-widgets/base",
          "model_name": "LayoutModel",
          "model_module_version": "1.2.0",
          "state": {
            "_model_module": "@jupyter-widgets/base",
            "_model_module_version": "1.2.0",
            "_model_name": "LayoutModel",
            "_view_count": null,
            "_view_module": "@jupyter-widgets/base",
            "_view_module_version": "1.2.0",
            "_view_name": "LayoutView",
            "align_content": null,
            "align_items": null,
            "align_self": null,
            "border": null,
            "bottom": null,
            "display": null,
            "flex": null,
            "flex_flow": null,
            "grid_area": null,
            "grid_auto_columns": null,
            "grid_auto_flow": null,
            "grid_auto_rows": null,
            "grid_column": null,
            "grid_gap": null,
            "grid_row": null,
            "grid_template_areas": null,
            "grid_template_columns": null,
            "grid_template_rows": null,
            "height": null,
            "justify_content": null,
            "justify_items": null,
            "left": null,
            "margin": null,
            "max_height": null,
            "max_width": null,
            "min_height": null,
            "min_width": null,
            "object_fit": null,
            "object_position": null,
            "order": null,
            "overflow": null,
            "overflow_x": null,
            "overflow_y": null,
            "padding": null,
            "right": null,
            "top": null,
            "visibility": null,
            "width": null
          }
        },
        "ff05268581cf459684278493b0f85a75": {
          "model_module": "@jupyter-widgets/controls",
          "model_name": "ProgressStyleModel",
          "model_module_version": "1.5.0",
          "state": {
            "_model_module": "@jupyter-widgets/controls",
            "_model_module_version": "1.5.0",
            "_model_name": "ProgressStyleModel",
            "_view_count": null,
            "_view_module": "@jupyter-widgets/base",
            "_view_module_version": "1.2.0",
            "_view_name": "StyleView",
            "bar_color": null,
            "description_width": ""
          }
        },
        "14ab69a4867c49a7a2f12e38ea9a03b0": {
          "model_module": "@jupyter-widgets/base",
          "model_name": "LayoutModel",
          "model_module_version": "1.2.0",
          "state": {
            "_model_module": "@jupyter-widgets/base",
            "_model_module_version": "1.2.0",
            "_model_name": "LayoutModel",
            "_view_count": null,
            "_view_module": "@jupyter-widgets/base",
            "_view_module_version": "1.2.0",
            "_view_name": "LayoutView",
            "align_content": null,
            "align_items": null,
            "align_self": null,
            "border": null,
            "bottom": null,
            "display": null,
            "flex": null,
            "flex_flow": null,
            "grid_area": null,
            "grid_auto_columns": null,
            "grid_auto_flow": null,
            "grid_auto_rows": null,
            "grid_column": null,
            "grid_gap": null,
            "grid_row": null,
            "grid_template_areas": null,
            "grid_template_columns": null,
            "grid_template_rows": null,
            "height": null,
            "justify_content": null,
            "justify_items": null,
            "left": null,
            "margin": null,
            "max_height": null,
            "max_width": null,
            "min_height": null,
            "min_width": null,
            "object_fit": null,
            "object_position": null,
            "order": null,
            "overflow": null,
            "overflow_x": null,
            "overflow_y": null,
            "padding": null,
            "right": null,
            "top": null,
            "visibility": null,
            "width": null
          }
        },
        "147e00fb51ce474591267284e6f345d9": {
          "model_module": "@jupyter-widgets/controls",
          "model_name": "DescriptionStyleModel",
          "model_module_version": "1.5.0",
          "state": {
            "_model_module": "@jupyter-widgets/controls",
            "_model_module_version": "1.5.0",
            "_model_name": "DescriptionStyleModel",
            "_view_count": null,
            "_view_module": "@jupyter-widgets/base",
            "_view_module_version": "1.2.0",
            "_view_name": "StyleView",
            "description_width": ""
          }
        }
      }
    }
  },
  "cells": [
    {
      "cell_type": "code",
      "execution_count": null,
      "metadata": {
        "colab": {
          "base_uri": "https://localhost:8080/"
        },
        "id": "fSsCYoZAWXZk",
        "outputId": "33b3c1c2-2976-4f63-ad44-b5fb57264805"
      },
      "outputs": [
        {
          "output_type": "stream",
          "name": "stdout",
          "text": [
            "Looking in indexes: https://pypi.org/simple, https://us-python.pkg.dev/colab-wheels/public/simple/\n",
            "Collecting datasets\n",
            "  Downloading datasets-2.7.1-py3-none-any.whl (451 kB)\n",
            "\u001b[K     |████████████████████████████████| 451 kB 12.7 MB/s \n",
            "\u001b[?25hCollecting evaluate\n",
            "  Downloading evaluate-0.4.0-py3-none-any.whl (81 kB)\n",
            "\u001b[K     |████████████████████████████████| 81 kB 11.8 MB/s \n",
            "\u001b[?25hCollecting transformers[sentencepiece]\n",
            "  Downloading transformers-4.25.1-py3-none-any.whl (5.8 MB)\n",
            "\u001b[K     |████████████████████████████████| 5.8 MB 73.1 MB/s \n",
            "\u001b[?25hRequirement already satisfied: fsspec[http]>=2021.11.1 in /usr/local/lib/python3.8/dist-packages (from datasets) (2022.11.0)\n",
            "Requirement already satisfied: aiohttp in /usr/local/lib/python3.8/dist-packages (from datasets) (3.8.3)\n",
            "Requirement already satisfied: requests>=2.19.0 in /usr/local/lib/python3.8/dist-packages (from datasets) (2.23.0)\n",
            "Collecting huggingface-hub<1.0.0,>=0.2.0\n",
            "  Downloading huggingface_hub-0.11.1-py3-none-any.whl (182 kB)\n",
            "\u001b[K     |████████████████████████████████| 182 kB 69.0 MB/s \n",
            "\u001b[?25hCollecting responses<0.19\n",
            "  Downloading responses-0.18.0-py3-none-any.whl (38 kB)\n",
            "Requirement already satisfied: pyyaml>=5.1 in /usr/local/lib/python3.8/dist-packages (from datasets) (6.0)\n",
            "Requirement already satisfied: numpy>=1.17 in /usr/local/lib/python3.8/dist-packages (from datasets) (1.21.6)\n",
            "Requirement already satisfied: tqdm>=4.62.1 in /usr/local/lib/python3.8/dist-packages (from datasets) (4.64.1)\n",
            "Requirement already satisfied: pyarrow>=6.0.0 in /usr/local/lib/python3.8/dist-packages (from datasets) (9.0.0)\n",
            "Requirement already satisfied: dill<0.3.7 in /usr/local/lib/python3.8/dist-packages (from datasets) (0.3.6)\n",
            "Requirement already satisfied: packaging in /usr/local/lib/python3.8/dist-packages (from datasets) (21.3)\n",
            "Collecting xxhash\n",
            "  Downloading xxhash-3.1.0-cp38-cp38-manylinux_2_17_x86_64.manylinux2014_x86_64.whl (212 kB)\n",
            "\u001b[K     |████████████████████████████████| 212 kB 74.6 MB/s \n",
            "\u001b[?25hCollecting multiprocess\n",
            "  Downloading multiprocess-0.70.14-py38-none-any.whl (132 kB)\n",
            "\u001b[K     |████████████████████████████████| 132 kB 67.2 MB/s \n",
            "\u001b[?25hRequirement already satisfied: pandas in /usr/local/lib/python3.8/dist-packages (from datasets) (1.3.5)\n",
            "Requirement already satisfied: aiosignal>=1.1.2 in /usr/local/lib/python3.8/dist-packages (from aiohttp->datasets) (1.3.1)\n",
            "Requirement already satisfied: yarl<2.0,>=1.0 in /usr/local/lib/python3.8/dist-packages (from aiohttp->datasets) (1.8.2)\n",
            "Requirement already satisfied: attrs>=17.3.0 in /usr/local/lib/python3.8/dist-packages (from aiohttp->datasets) (22.1.0)\n",
            "Requirement already satisfied: multidict<7.0,>=4.5 in /usr/local/lib/python3.8/dist-packages (from aiohttp->datasets) (6.0.3)\n",
            "Requirement already satisfied: frozenlist>=1.1.1 in /usr/local/lib/python3.8/dist-packages (from aiohttp->datasets) (1.3.3)\n",
            "Requirement already satisfied: async-timeout<5.0,>=4.0.0a3 in /usr/local/lib/python3.8/dist-packages (from aiohttp->datasets) (4.0.2)\n",
            "Requirement already satisfied: charset-normalizer<3.0,>=2.0 in /usr/local/lib/python3.8/dist-packages (from aiohttp->datasets) (2.1.1)\n",
            "Requirement already satisfied: filelock in /usr/local/lib/python3.8/dist-packages (from huggingface-hub<1.0.0,>=0.2.0->datasets) (3.8.2)\n",
            "Requirement already satisfied: typing-extensions>=3.7.4.3 in /usr/local/lib/python3.8/dist-packages (from huggingface-hub<1.0.0,>=0.2.0->datasets) (4.4.0)\n",
            "Requirement already satisfied: pyparsing!=3.0.5,>=2.0.2 in /usr/local/lib/python3.8/dist-packages (from packaging->datasets) (3.0.9)\n",
            "Requirement already satisfied: chardet<4,>=3.0.2 in /usr/local/lib/python3.8/dist-packages (from requests>=2.19.0->datasets) (3.0.4)\n",
            "Requirement already satisfied: certifi>=2017.4.17 in /usr/local/lib/python3.8/dist-packages (from requests>=2.19.0->datasets) (2022.12.7)\n",
            "Requirement already satisfied: urllib3!=1.25.0,!=1.25.1,<1.26,>=1.21.1 in /usr/local/lib/python3.8/dist-packages (from requests>=2.19.0->datasets) (1.24.3)\n",
            "Requirement already satisfied: idna<3,>=2.5 in /usr/local/lib/python3.8/dist-packages (from requests>=2.19.0->datasets) (2.10)\n",
            "Collecting urllib3!=1.25.0,!=1.25.1,<1.26,>=1.21.1\n",
            "  Downloading urllib3-1.25.11-py2.py3-none-any.whl (127 kB)\n",
            "\u001b[K     |████████████████████████████████| 127 kB 14.0 MB/s \n",
            "\u001b[?25hRequirement already satisfied: pytz>=2017.3 in /usr/local/lib/python3.8/dist-packages (from pandas->datasets) (2022.6)\n",
            "Requirement already satisfied: python-dateutil>=2.7.3 in /usr/local/lib/python3.8/dist-packages (from pandas->datasets) (2.8.2)\n",
            "Requirement already satisfied: six>=1.5 in /usr/local/lib/python3.8/dist-packages (from python-dateutil>=2.7.3->pandas->datasets) (1.15.0)\n",
            "Collecting tokenizers!=0.11.3,<0.14,>=0.11.1\n",
            "  Downloading tokenizers-0.13.2-cp38-cp38-manylinux_2_17_x86_64.manylinux2014_x86_64.whl (7.6 MB)\n",
            "\u001b[K     |████████████████████████████████| 7.6 MB 47.5 MB/s \n",
            "\u001b[?25hRequirement already satisfied: regex!=2019.12.17 in /usr/local/lib/python3.8/dist-packages (from transformers[sentencepiece]) (2022.6.2)\n",
            "Collecting sentencepiece!=0.1.92,>=0.1.91\n",
            "  Downloading sentencepiece-0.1.97-cp38-cp38-manylinux_2_17_x86_64.manylinux2014_x86_64.whl (1.3 MB)\n",
            "\u001b[K     |████████████████████████████████| 1.3 MB 69.5 MB/s \n",
            "\u001b[?25hRequirement already satisfied: protobuf<=3.20.2 in /usr/local/lib/python3.8/dist-packages (from transformers[sentencepiece]) (3.19.6)\n",
            "Installing collected packages: urllib3, xxhash, tokenizers, responses, multiprocess, huggingface-hub, transformers, sentencepiece, datasets, evaluate\n",
            "  Attempting uninstall: urllib3\n",
            "    Found existing installation: urllib3 1.24.3\n",
            "    Uninstalling urllib3-1.24.3:\n",
            "      Successfully uninstalled urllib3-1.24.3\n",
            "Successfully installed datasets-2.7.1 evaluate-0.4.0 huggingface-hub-0.11.1 multiprocess-0.70.14 responses-0.18.0 sentencepiece-0.1.97 tokenizers-0.13.2 transformers-4.25.1 urllib3-1.25.11 xxhash-3.1.0\n",
            "Looking in indexes: https://pypi.org/simple, https://us-python.pkg.dev/colab-wheels/public/simple/\n",
            "Collecting accelerate\n",
            "  Downloading accelerate-0.15.0-py3-none-any.whl (191 kB)\n",
            "\u001b[K     |████████████████████████████████| 191 kB 14.3 MB/s \n",
            "\u001b[?25hRequirement already satisfied: packaging>=20.0 in /usr/local/lib/python3.8/dist-packages (from accelerate) (21.3)\n",
            "Requirement already satisfied: psutil in /usr/local/lib/python3.8/dist-packages (from accelerate) (5.4.8)\n",
            "Requirement already satisfied: pyyaml in /usr/local/lib/python3.8/dist-packages (from accelerate) (6.0)\n",
            "Requirement already satisfied: numpy>=1.17 in /usr/local/lib/python3.8/dist-packages (from accelerate) (1.21.6)\n",
            "Requirement already satisfied: torch>=1.4.0 in /usr/local/lib/python3.8/dist-packages (from accelerate) (1.13.0+cu116)\n",
            "Requirement already satisfied: pyparsing!=3.0.5,>=2.0.2 in /usr/local/lib/python3.8/dist-packages (from packaging>=20.0->accelerate) (3.0.9)\n",
            "Requirement already satisfied: typing-extensions in /usr/local/lib/python3.8/dist-packages (from torch>=1.4.0->accelerate) (4.4.0)\n",
            "Installing collected packages: accelerate\n",
            "Successfully installed accelerate-0.15.0\n",
            "Reading package lists... Done\n",
            "Building dependency tree       \n",
            "Reading state information... Done\n",
            "git-lfs is already the newest version (2.3.4-1).\n",
            "The following package was automatically installed and is no longer required:\n",
            "  libnvidia-common-460\n",
            "Use 'apt autoremove' to remove it.\n",
            "0 upgraded, 0 newly installed, 0 to remove and 20 not upgraded.\n"
          ]
        }
      ],
      "source": [
        "!pip install datasets evaluate transformers[sentencepiece]\n",
        "!pip install accelerate\n",
        "# To run the training on TPU, you will need to uncomment the followin line:\n",
        "# !pip install cloud-tpu-client==0.10 torch==1.9.0 https://storage.googleapis.com/tpu-pytorch/wheels/torch_xla-1.9-cp37-cp37m-linux_x86_64.whl\n",
        "!apt install git-lfs\n"
      ]
    },
    {
      "cell_type": "code",
      "source": [
        "!git config --global user.email \"you@example.com\"\n",
        "!git config --global user.name \"Your Name\""
      ],
      "metadata": {
        "id": "-N9dPX86WeZT"
      },
      "execution_count": null,
      "outputs": []
    },
    {
      "cell_type": "markdown",
      "source": [
        "# **Using HuggingFace for Data**"
      ],
      "metadata": {
        "id": "9CY_M8DKXI_j"
      }
    },
    {
      "cell_type": "code",
      "source": [
        "from huggingface_hub import notebook_login\n",
        "\n",
        "notebook_login()"
      ],
      "metadata": {
        "colab": {
          "base_uri": "https://localhost:8080/",
          "height": 331,
          "referenced_widgets": [
            "c85a8b6e37c14b8582215dd7cc04200e",
            "ea841b46f0d04fdaaff0584154ececbf",
            "4fc5d747e7334e59a1da1e7c31b48f06",
            "90a6d30e18214b2e84e76da76a14e19b",
            "0c4642c3742340ce835c7a2fcf0dc3aa",
            "75d41c2cd7904e20b330ae0e2b0e667a",
            "2016683260d24a2384812aa5f7ca2c20",
            "623730725fc34b93989f859fb76aa6a7",
            "70144991e41b494eb86f58cc0472d9f2",
            "68eb6ed65dc84630b30ffbfcd2835afa",
            "e656cdff1805488690f9ce3b23d0db79",
            "b934a0883785472399fa78b82bcbd8ea",
            "a16c2b2a25aa4b3eadc61e4c33636f81",
            "113564d8ea2e4557968388162f264c07",
            "62c0f2843628495ba19ed635facfcf75",
            "8cad33a34c0746cfb1cd38d9ed191816",
            "57ed2f4995c94e7599d3fff675fc8fcc"
          ]
        },
        "id": "Sz1HYGEUXCx7",
        "outputId": "d90ead26-fc8f-4816-aeac-08b591704088"
      },
      "execution_count": null,
      "outputs": [
        {
          "output_type": "stream",
          "name": "stdout",
          "text": [
            "Token is valid.\n",
            "Your token has been saved in your configured git credential helpers (store).\n",
            "Your token has been saved to /root/.huggingface/token\n",
            "Login successful\n"
          ]
        }
      ]
    },
    {
      "cell_type": "markdown",
      "source": [
        "# **Loading json file**"
      ],
      "metadata": {
        "id": "ISqa-t-ShIWx"
      }
    },
    {
      "cell_type": "code",
      "source": [
        "import datasets\n",
        "\n",
        "import json\n",
        "  \n",
        "# Opening JSON file\n",
        "f = open('QNA.json')\n",
        "  \n",
        "# returns JSON object as \n",
        "# a dictionary\n",
        "raw_datasets = json.load(f)\n",
        "  \n",
        "# Iterating through the json\n",
        "# list\n",
        "#for i in datasets['emp_details']:\n",
        " #   print(i)\n",
        "  \n",
        "# Closing file\n",
        "f.close()\n",
        "print(raw_datasets)"
      ],
      "metadata": {
        "colab": {
          "base_uri": "https://localhost:8080/"
        },
        "id": "IF1hhTHjhHn3",
        "outputId": "223d5869-08c0-4afa-b56b-a445d59e2eb7"
      },
      "execution_count": null,
      "outputs": [
        {
          "output_type": "stream",
          "name": "stdout",
          "text": [
            "{'train': [{'id': 1, 'title': 'Python', 'context': 'To access an element in a Python iterable, such as a list, you need to use an index that corresponds to the position of the element.In Python, indexing is zero-based. This means the first element has 0 as its index, the second element has 1 as its index, and so on.In Python, it is also possible to use negative indexing to access values of a sequence.Negative indexing accesses items relative to the end of the sequence. The index -1 reads the last element, -2 the second last, and so on.In Python, slicing makes it possible to access parts of sequences, such as strings or lists. This makes it possible to access, modify, and delete items in a readable and concise fashion.Slicing works similar to indexing, but instead of accessing a single value, multiple values are accessed.Slicing uses indexing to access the range of elements. These indexes are also zero-based.To reverse a list in Python, you can use negative slicing. As you want to slice the whole list, you can omit the start and stop values altogether.To reverse the slicing, specify a negative step value.As you want to include each value in the reversed list, the step size should be -1.[::-1] means you create a slice of a sequence that traverses the whole sequence starting from the end of it.Normally, the slicing follows sequence[start:stop:step] syntax. However, when you want to go from the beginning of the sequence to the end of it, you can omit start and stop. To indicate you want to start slicing from the end and end at the start, specify a negative step.', 'question': 'What does [::-1] do?', 'answers': {'text': ['[::-1] is used to reverse the order of an array or a sequence.'], 'answer_start': [1]}}, {'id': 2, 'title': 'Python', 'context': ' It is used in method definitions and in variable initialization. The self method is explicitly used every time we define a method.The self is used to represent the instance of the class. With this keyword, you can access the attributes and methods of the class in python. It binds the attributes with the given arguments. The reason why we use self is that Python does not use the ‘@’ syntax to refer to instance attributes. In Python, we have methods that make the instance to be passed automatically, but not received automatically.self is also used to refer to a variable field within the class.self is a parameter in function and the user can use a different parameter name in place of it. Although it is advisable to use self because it increases the readability of code. ', 'question': 'What is self in Python?', 'answers': {'text': ['Self is an instance or an object of a class. In Python, this is explicitly included as the first parameter. However, this is not the case in Java where it’s optional.  It helps to differentiate between the methods and attributes of a class with local variables.'], 'answer_start': [0]}}, {'id': 3, 'title': 'Python', 'context': \"Python was conceived in the late 1980s by Guido van Rossum at Centrum Wiskunde & Informatica (CWI) in the Netherlands as a successor to the ABC programming language, which was inspired by SETL capable of exception handling (from the start plus new capabilities in Python 3.11) and interfacing with the Amoeba operating system.Its implementation began in December 1989. Van Rossum shouldered sole responsibility for the project, as the lead developer, until 12 July 2018, when he announced his permanent vacation from his responsibilities as Python's benevolent dictator for life, a title the Python community bestowed upon him to reflect his long-term commitment as the project's chief decision-maker.In January 2019, active Python core developers elected a five-member Steering Council to lead the project.Python 2.0 was released on 16 October 2000, with many major new features. Python 3.0, released on 3 December 2008, with many of its major features backported to Python 2.6.x and 2.7.x. Releases of Python 3 include the 2to3 utility, which automates the translation of Python 2 code to Python 3.Python 2.7's end-of-life was initially set for 2015, then postponed to 2020 out of concern that a large body of existing code could not easily be forward-ported to Python 3. No further security patches or other improvements will be released for it. Currently only 3.7 and later are supported. In 2021, Python 3.9.2 and 3.8.8 were expedited as all versions of Python (including 2.7) had security issues leading to possible remote code execution[56] and web cache poisoning.In 2022, Python 3.10.4 and 3.9.12 were expedited and 3.8.13, and 3.7.13, because of many security issues. When Python 3.9.13 was released in May 2022, it was announced that the 3.9 series (joining the older series 3.8 and 3.7) will only receive security fixes going forward. On September 7, 2022, four new releases were made due to a potential denial-of-service attack: 3.10.7, 3.9.14, 3.8.14, and 3.7.14.As of November 2022, Python 3.11.0 is the current stable release and among the notable changes from 3.10 are that it is 10–60% faster and significantly improved error reporting.Python 3.12 (alpha 2) has improved error messages. \", 'question': 'Who developed the Python language?', 'answers': {'text': ['Guido van Rossum'], 'answer_start': [0]}}, {'id': 4, 'title': 'Python', 'context': 'The function len() is one of Python’s built-in functions. It returns the length of an object. For example, it can return the number of items in a list. You can use the function with many different data types. However, not all data types are valid arguments for len().', 'question': 'What is len?', 'answers': {'text': [\"Len stands for length,The function len() is one of Python's built-in functions. It returns the length of an object.\"], 'answer_start': [0]}}, {'id': 5, 'title': 'Python', 'context': 'A built-in function in Python using which a sequence of numbers is generated within a given range is called range in Python. To implement range in Python, you need to make use of a function called range() function. ', 'question': 'How to check the length of the range(7)?', 'answers': {'text': [' x=range(7)      Print(len(x))'], 'answer_start': [0]}}, {'id': 6, 'title': 'Python', 'context': 'Encapsulation is a mechanism of wrapping the data (variables) and code acting on the data (methods) together as a single unit. In encapsulation, the variables of a class will be hidden from other classes, and can be accessed only through the methods of their current class.', 'question': 'Define encapsulation in Python?', 'answers': {'text': ['Encapsulation means binding the code and the data together. A Python class in an example of encapsulation.'], 'answer_start': [0]}}, {'id': 7, 'title': 'Python', 'context': 'strings in Python are arrays of bytes representing unicode characters. However, Python does not have a character data type, a single character is simply a string with a length of 1. Square brackets can be used to access elements of the string.', 'question': 'Why strings are immutable in nature?', 'answers': {'text': ['In Python, strings are made immutable so that programmers cannot alter the contents of the object (even by mistake).'], 'answer_start': [0]}}, {'id': 8, 'title': 'Python', 'context': 'A variable is only available from inside the region it is created.this is called scopeLocal Scope :A variable created inside a function belongs to the local scope of that function and can only be used inside that function.however, the local variable can be accessed from a function within the function', 'question': ' What are local variables in Python ?', 'answers': {'text': ['Any variable declared inside a function is known as a local variable. This variable is present in the local space and not in the global space.'], 'answer_start': [0]}}, {'id': 9, 'title': 'Python', 'context': 'Global Scopea variable created in the main body of the Python code is a global variable and belongs to the global scope.global variables are available from within any scope, global and local', 'question': 'What are global variables in Python ?', 'answers': {'text': ['Variables declared outside a function or in a global space are called global variables. These variables can be accessed by any function in the program.'], 'answer_start': [0]}}, {'id': 10, 'title': 'Python', 'context': 'global\" keywordif you need to create a global variable, but are stuck in the local scope, you can use the global keyword.the global keyword makes the variable global.', 'question': 'What is the use of \"global\" keyword in Python ?', 'answers': {'text': ['The global keyword is used to create global variables from a no-global scope, e.g. inside a function.'], 'answer_start': [0]}}, {'id': 11, 'title': 'Python', 'context': 'Lambda :Lambda is a small anonymous function.Can take any number of arguments, but can only have one expression.syntax: lambda arguments : expression', 'question': 'What is lambda function in Python ?', 'answers': {'text': ['Python Lambda Functions are anonymous function means that the function is without a name. As we already know that the def keyword is used to define a normal function in Python. Similarly, the lambda keyword is used to define an anonymous function in Python.'], 'answer_start': [0]}}, {'id': 12, 'title': 'Python', 'context': 'Python programming is used in a variety of fields, including web development, game development, artificial intelligence, and machine learning, among others. Web Development Python provides a number of web development frameworks, including Django, Pyramid, and Flask, among others. Security, flexibility, and scalability are all attributes of this framework. Development of Video Games - PySoy and PyGame are two Python libraries that are used in the development of video games. Artificial Intelligence and Machine Learning - There are a large number of open-source libraries that can be used when developing AI/ML applications, and many of these libraries are free.', 'question': 'Amongst which of the following is are the application areas of Python programming?', 'answers': {'text': ['1. Web Development 2. Game Development 3. Artificial Intelligence 4. Machine Learning 5. Data Science'], 'answer_start': [0]}}, {'id': 13, 'title': 'Python', 'context': 'Numeric data types include int, float, and complex, among others. In information technology, data types are the classification or categorization of knowledge items. It represents the type of information that is useful in determining what operations are frequently performed on specific data. In the Python programming language, each value is represented by a different python data type. Known as Data Types, this is the classification of knowledge items or the placement of the information value into a specific data category. It is beneficial to be aware of the quiet operations that are frequently performed on a worth.', 'question': 'What are the Numeric Data Types?', 'answers': {'text': ['There are three distinct numeric types: integers, floating point numbers, and complex numbers. In addition, Booleans are a subtype of integers.'], 'answer_start': [0]}}, {'id': 14, 'title': 'Python', 'context': 'The sequence Types of Data Types are the list, the tuple, and the range. In order to store multiple values in an organized and efficient manner, we use the concept of sequences. There are several types of sequences, including strings, Unicode strings, lists, tuples, bytearrays, and range objects. Strings and Unicode strings are the most common. Dictionary and set data structures are used to store non-sequential information.', 'question': 'What are Data Types of list, tuple, and range?', 'answers': {'text': ['The sequence Types of Data Types are the list, the tuple, and the range. In order to store multiple values in an organized and efficient manner, we use the concept of sequences.'], 'answer_start': [0]}}, {'id': 15, 'title': 'Python', 'context': \"The type() function can be used to find out what type of data an object contains. Typing an object passed as an argument to Python's type() function returns the data type of the object passed as an argument to Python's type() function. This function is extremely useful during the debugging phase of the process.\", 'question': 'What is use of type()?', 'answers': {'text': ['type() method returns class type of the argument(object) passed as parameter in Python.'], 'answer_start': [0]}}, {'id': 16, 'title': 'Python', 'context': \"Python's logical operators are represented by the terms and, or, and not. In Python, logical operators are used to perform logical operations on the values of variables that have been declared. Either true or false is represented by the value. The truth values provide us with the information we need to figure out the conditions. In Python, there are three types of logical operators: the logical AND, the logical OR, and the logical NOT operators. Keywords or special characters are used to represent operators in a program.\", 'question': 'List of the logical operators in Python?', 'answers': {'text': ['1. and2. or3. not'], 'answer_start': [0]}}, {'id': 17, 'title': 'Python', 'context': \"Unexpected events that can occur during a program's execution are referred to as exceptions, and they can cause the program's normal flow to be interrupted. Python provides exception handling, which allows us to write less error-prone code while also testing various scenarios that may result in an exception later on in the process.\", 'question': 'What is exception handling?', 'answers': {'text': ['Exception handling is the process of responding to unwanted or unexpected events when a computer program runs. Exception handling deals with these events to avoid the program or system crashing, and without this process, exceptions would disrupt the normal operation of a program.'], 'answer_start': [0]}}, {'id': 18, 'title': 'Python', 'context': 'Python Dictionary is used to store the data in a key-value pair format, which is similar to that of a database. The dictionary data type in Python is capable of simulating the real-world data arrangement in which a specific value exists for a specific key when the key is specified. It is the data-structure that can be changed. Each element of the dictionary is defined as follows: keys and values.', 'question': 'Why Python Dictionary is used?', 'answers': {'text': ['Dictionaries are used to store data values in key:value pairs. A dictionary is a collection which is ordered*, changeable and do not allow duplicates. As of Python version 3.7, dictionaries are ordered. In Python 3.6 and earlier, dictionaries are unordered.'], 'answer_start': [0]}}, {'id': 19, 'title': 'Python', 'context': 'Conditional statements, also known as decision-making statements, are used to make decisions. In programming, we want to be able to control the flow of execution of our program, and we want to be able to execute a specific set of statements only if a specific condition is met, and a different set of statements only if the condition is not met. As a result, we use conditional statements to determine whether or not a specific block of code should be executed based on a given condition.', 'question': 'What ia Conditional statements in python?', 'answers': {'text': ['[A conditional statement as the name suggests itself, is used to handle conditions in your program. These statements guide the program while making decisions based on the conditions encountered by the program. Python has 3 key Conditional Statements that you should know: if statement. if-else statement.'], 'answer_start': [0]}}, {'id': 20, 'title': 'Python', 'context': 'Functionsfunctions are reusable pieces of codethey only run when calledthey may take input argumentsthey may return processed valuesdef keyword is used at the beginning of a function to start defining a functionreturn keyword is used to send some value back after processing', 'question': 'What is function ? How we define them in Python ?', 'answers': {'text': ['A function is a block of code which only runs when it is called. You can pass data, known as parameters, into a function. A function can return data as a result. We define function in python with the help of \"def\" keyword.'], 'answer_start': [0]}}, {'id': 21, 'title': 'Python', 'context': 'About PythonPython is a dynamic-typed language. It means that you don’t need to mention the data type of variables during their declaration.Python supports object-orientated programming as you can define classes along with the composition and inheritance.Functions in Python are like first-class objects. It suggests you can assign them to variables, return from other methods and pass them as arguments.Developing using Python is quick but running it is often slower than compiled languages.Python has several usages like web-based applications, test automation, data modeling, big data analytics, and much more.', 'question': ' Explain some benefits of Python.', 'answers': {'text': ['Python is a dynamic-typed language. It means that you don’t need to mention the data type of variables during their declaration.Python supports object-orientated programming as you can define classes along with the composition and inheritance.Functions in Python are like first-class objects. It suggests you can assign them to variables, return from other methods and pass them as arguments.Developing using Python is quick but running it is often slower than compiled languages.Python has several usages like web-based applications, test automation, data modeling, big data analytics, and much more.'], 'answer_start': [0]}}], 'validation': [{'id': 22, 'title': 'Python', 'context': \"Python's logical operators are represented by the terms and, or, and not. In Python, logical operators are used to perform logical operations on the values of variables that have been declared. Either true or false is represented by the value. The truth values provide us with the information we need to figure out the conditions. In Python, there are three types of logical operators: the logical AND, the logical OR, and the logical NOT operators. Keywords or special characters are used to represent operators in a program.\", 'question': 'List of the logical operators in Python?', 'answers': {'text': ['1. and2. or3. not'], 'answer_start': [0]}}, {'id': 23, 'title': 'Python', 'context': \"Unexpected events that can occur during a program's execution are referred to as exceptions, and they can cause the program's normal flow to be interrupted. Python provides exception handling, which allows us to write less error-prone code while also testing various scenarios that may result in an exception later on in the process.\", 'question': 'What is exception handling?', 'answers': {'text': ['Exception handling is the process of responding to unwanted or unexpected events when a computer program runs. Exception handling deals with these events to avoid the program or system crashing, and without this process, exceptions would disrupt the normal operation of a program.'], 'answer_start': [0]}}, {'id': 24, 'title': 'Python', 'context': 'Python Dictionary is used to store the data in a key-value pair format, which is similar to that of a database. The dictionary data type in Python is capable of simulating the real-world data arrangement in which a specific value exists for a specific key when the key is specified. It is the data-structure that can be changed. Each element of the dictionary is defined as follows: keys and values.', 'question': 'Why Python Dictionary is used?', 'answers': {'text': ['Dictionaries are used to store data values in key:value pairs. A dictionary is a collection which is ordered*, changeable and do not allow duplicates. As of Python version 3.7, dictionaries are ordered. In Python 3.6 and earlier, dictionaries are unordered.'], 'answer_start': [0]}}, {'id': 25, 'title': 'Python', 'context': 'Conditional statements, also known as decision-making statements, are used to make decisions. In programming, we want to be able to control the flow of execution of our program, and we want to be able to execute a specific set of statements only if a specific condition is met, and a different set of statements only if the condition is not met. As a result, we use conditional statements to determine whether or not a specific block of code should be executed based on a given condition.', 'question': 'What ia Conditional statements in python?', 'answers': {'text': ['A conditional statement as the name suggests itself, is used to handle conditions in your program. These statements guide the program while making decisions based on the conditions encountered by the program. Python has 3 key Conditional Statements that you should know: if statement. if-else statement.'], 'answer_start': [0]}}, {'id': 26, 'title': 'Python', 'context': 'Functionsfunctions are reusable pieces of codethey only run when calledthey may take input argumentsthey may return processed valuesdef keyword is used at the beginning of a function to start defining a functionreturn keyword is used to send some value back after processing', 'question': 'What is function ? How we define them in Python ?', 'answers': {'text': ['A function is a block of code which only runs when it is called. You can pass data, known as parameters, into a function. A function can return data as a result. We define function in python with the help of \"def\" keyword.'], 'answer_start': [0]}}, {'id': 27, 'title': 'Python', 'context': 'About PythonPython is a dynamic-typed language. It means that you don’t need to mention the data type of variables during their declaration.Python supports object-orientated programming as you can define classes along with the composition and inheritance.Functions in Python are like first-class objects. It suggests you can assign them to variables, return from other methods and pass them as arguments.Developing using Python is quick but running it is often slower than compiled languages.Python has several usages like web-based applications, test automation, data modeling, big data analytics, and much more.', 'question': ' Explain some benefits of Python.', 'answers': {'text': ['Python is a dynamic-typed language. It means that you don’t need to mention the data type of variables during their declaration.Python supports object-orientated programming as you can define classes along with the composition and inheritance.Functions in Python are like first-class objects. It suggests you can assign them to variables, return from other methods and pass them as arguments.Developing using Python is quick but running it is often slower than compiled languages.Python has several usages like web-based applications, test automation, data modeling, big data analytics, and much more.'], 'answer_start': [0]}}]}\n"
          ]
        }
      ]
    },
    {
      "cell_type": "code",
      "source": [
        "# from datasets import load_dataset\n",
        "\n",
        "# raw_datasets = load_dataset(\"squad\")\n",
        "# print(raw_datasets)\n",
        "# type(raw_datasets)"
      ],
      "metadata": {
        "id": "i0ZiqcRLXg2U"
      },
      "execution_count": null,
      "outputs": []
    },
    {
      "cell_type": "markdown",
      "source": [],
      "metadata": {
        "id": "RdkUwM0EmsBv"
      }
    },
    {
      "cell_type": "code",
      "source": [
        "len(raw_datasets['train'])"
      ],
      "metadata": {
        "colab": {
          "base_uri": "https://localhost:8080/"
        },
        "id": "eKsV9jYCYWYf",
        "outputId": "0b1145a6-c6cc-4bfd-cc15-0f2cfc071f71"
      },
      "execution_count": null,
      "outputs": [
        {
          "output_type": "execute_result",
          "data": {
            "text/plain": [
              "21"
            ]
          },
          "metadata": {},
          "execution_count": 5
        }
      ]
    },
    {
      "cell_type": "code",
      "source": [
        "raw_datasets['train']"
      ],
      "metadata": {
        "colab": {
          "base_uri": "https://localhost:8080/"
        },
        "id": "IsQFbxkYYfit",
        "outputId": "00102e51-bc89-4161-c645-724e363d3cef"
      },
      "execution_count": null,
      "outputs": [
        {
          "output_type": "execute_result",
          "data": {
            "text/plain": [
              "[{'id': 1,\n",
              "  'title': 'Python',\n",
              "  'context': 'To access an element in a Python iterable, such as a list, you need to use an index that corresponds to the position of the element.In Python, indexing is zero-based. This means the first element has 0 as its index, the second element has 1 as its index, and so on.In Python, it is also possible to use negative indexing to access values of a sequence.Negative indexing accesses items relative to the end of the sequence. The index -1 reads the last element, -2 the second last, and so on.In Python, slicing makes it possible to access parts of sequences, such as strings or lists. This makes it possible to access, modify, and delete items in a readable and concise fashion.Slicing works similar to indexing, but instead of accessing a single value, multiple values are accessed.Slicing uses indexing to access the range of elements. These indexes are also zero-based.To reverse a list in Python, you can use negative slicing. As you want to slice the whole list, you can omit the start and stop values altogether.To reverse the slicing, specify a negative step value.As you want to include each value in the reversed list, the step size should be -1.[::-1] means you create a slice of a sequence that traverses the whole sequence starting from the end of it.Normally, the slicing follows sequence[start:stop:step] syntax. However, when you want to go from the beginning of the sequence to the end of it, you can omit start and stop. To indicate you want to start slicing from the end and end at the start, specify a negative step.',\n",
              "  'question': 'What does [::-1] do?',\n",
              "  'answers': {'text': ['[::-1] is used to reverse the order of an array or a sequence.'],\n",
              "   'answer_start': [1]}},\n",
              " {'id': 2,\n",
              "  'title': 'Python',\n",
              "  'context': ' It is used in method definitions and in variable initialization. The self method is explicitly used every time we define a method.The self is used to represent the instance of the class. With this keyword, you can access the attributes and methods of the class in python. It binds the attributes with the given arguments. The reason why we use self is that Python does not use the ‘@’ syntax to refer to instance attributes. In Python, we have methods that make the instance to be passed automatically, but not received automatically.self is also used to refer to a variable field within the class.self is a parameter in function and the user can use a different parameter name in place of it. Although it is advisable to use self because it increases the readability of code. ',\n",
              "  'question': 'What is self in Python?',\n",
              "  'answers': {'text': ['Self is an instance or an object of a class. In Python, this is explicitly included as the first parameter. However, this is not the case in Java where it’s optional.  It helps to differentiate between the methods and attributes of a class with local variables.'],\n",
              "   'answer_start': [0]}},\n",
              " {'id': 3,\n",
              "  'title': 'Python',\n",
              "  'context': \"Python was conceived in the late 1980s by Guido van Rossum at Centrum Wiskunde & Informatica (CWI) in the Netherlands as a successor to the ABC programming language, which was inspired by SETL capable of exception handling (from the start plus new capabilities in Python 3.11) and interfacing with the Amoeba operating system.Its implementation began in December 1989. Van Rossum shouldered sole responsibility for the project, as the lead developer, until 12 July 2018, when he announced his permanent vacation from his responsibilities as Python's benevolent dictator for life, a title the Python community bestowed upon him to reflect his long-term commitment as the project's chief decision-maker.In January 2019, active Python core developers elected a five-member Steering Council to lead the project.Python 2.0 was released on 16 October 2000, with many major new features. Python 3.0, released on 3 December 2008, with many of its major features backported to Python 2.6.x and 2.7.x. Releases of Python 3 include the 2to3 utility, which automates the translation of Python 2 code to Python 3.Python 2.7's end-of-life was initially set for 2015, then postponed to 2020 out of concern that a large body of existing code could not easily be forward-ported to Python 3. No further security patches or other improvements will be released for it. Currently only 3.7 and later are supported. In 2021, Python 3.9.2 and 3.8.8 were expedited as all versions of Python (including 2.7) had security issues leading to possible remote code execution[56] and web cache poisoning.In 2022, Python 3.10.4 and 3.9.12 were expedited and 3.8.13, and 3.7.13, because of many security issues. When Python 3.9.13 was released in May 2022, it was announced that the 3.9 series (joining the older series 3.8 and 3.7) will only receive security fixes going forward. On September 7, 2022, four new releases were made due to a potential denial-of-service attack: 3.10.7, 3.9.14, 3.8.14, and 3.7.14.As of November 2022, Python 3.11.0 is the current stable release and among the notable changes from 3.10 are that it is 10–60% faster and significantly improved error reporting.Python 3.12 (alpha 2) has improved error messages. \",\n",
              "  'question': 'Who developed the Python language?',\n",
              "  'answers': {'text': ['Guido van Rossum'], 'answer_start': [0]}},\n",
              " {'id': 4,\n",
              "  'title': 'Python',\n",
              "  'context': 'The function len() is one of Python’s built-in functions. It returns the length of an object. For example, it can return the number of items in a list. You can use the function with many different data types. However, not all data types are valid arguments for len().',\n",
              "  'question': 'What is len?',\n",
              "  'answers': {'text': [\"Len stands for length,The function len() is one of Python's built-in functions. It returns the length of an object.\"],\n",
              "   'answer_start': [0]}},\n",
              " {'id': 5,\n",
              "  'title': 'Python',\n",
              "  'context': 'A built-in function in Python using which a sequence of numbers is generated within a given range is called range in Python. To implement range in Python, you need to make use of a function called range() function. ',\n",
              "  'question': 'How to check the length of the range(7)?',\n",
              "  'answers': {'text': [' x=range(7)      Print(len(x))'],\n",
              "   'answer_start': [0]}},\n",
              " {'id': 6,\n",
              "  'title': 'Python',\n",
              "  'context': 'Encapsulation is a mechanism of wrapping the data (variables) and code acting on the data (methods) together as a single unit. In encapsulation, the variables of a class will be hidden from other classes, and can be accessed only through the methods of their current class.',\n",
              "  'question': 'Define encapsulation in Python?',\n",
              "  'answers': {'text': ['Encapsulation means binding the code and the data together. A Python class in an example of encapsulation.'],\n",
              "   'answer_start': [0]}},\n",
              " {'id': 7,\n",
              "  'title': 'Python',\n",
              "  'context': 'strings in Python are arrays of bytes representing unicode characters. However, Python does not have a character data type, a single character is simply a string with a length of 1. Square brackets can be used to access elements of the string.',\n",
              "  'question': 'Why strings are immutable in nature?',\n",
              "  'answers': {'text': ['In Python, strings are made immutable so that programmers cannot alter the contents of the object (even by mistake).'],\n",
              "   'answer_start': [0]}},\n",
              " {'id': 8,\n",
              "  'title': 'Python',\n",
              "  'context': 'A variable is only available from inside the region it is created.this is called scopeLocal Scope :A variable created inside a function belongs to the local scope of that function and can only be used inside that function.however, the local variable can be accessed from a function within the function',\n",
              "  'question': ' What are local variables in Python ?',\n",
              "  'answers': {'text': ['Any variable declared inside a function is known as a local variable. This variable is present in the local space and not in the global space.'],\n",
              "   'answer_start': [0]}},\n",
              " {'id': 9,\n",
              "  'title': 'Python',\n",
              "  'context': 'Global Scopea variable created in the main body of the Python code is a global variable and belongs to the global scope.global variables are available from within any scope, global and local',\n",
              "  'question': 'What are global variables in Python ?',\n",
              "  'answers': {'text': ['Variables declared outside a function or in a global space are called global variables. These variables can be accessed by any function in the program.'],\n",
              "   'answer_start': [0]}},\n",
              " {'id': 10,\n",
              "  'title': 'Python',\n",
              "  'context': 'global\" keywordif you need to create a global variable, but are stuck in the local scope, you can use the global keyword.the global keyword makes the variable global.',\n",
              "  'question': 'What is the use of \"global\" keyword in Python ?',\n",
              "  'answers': {'text': ['The global keyword is used to create global variables from a no-global scope, e.g. inside a function.'],\n",
              "   'answer_start': [0]}},\n",
              " {'id': 11,\n",
              "  'title': 'Python',\n",
              "  'context': 'Lambda :Lambda is a small anonymous function.Can take any number of arguments, but can only have one expression.syntax: lambda arguments : expression',\n",
              "  'question': 'What is lambda function in Python ?',\n",
              "  'answers': {'text': ['Python Lambda Functions are anonymous function means that the function is without a name. As we already know that the def keyword is used to define a normal function in Python. Similarly, the lambda keyword is used to define an anonymous function in Python.'],\n",
              "   'answer_start': [0]}},\n",
              " {'id': 12,\n",
              "  'title': 'Python',\n",
              "  'context': 'Python programming is used in a variety of fields, including web development, game development, artificial intelligence, and machine learning, among others. Web Development Python provides a number of web development frameworks, including Django, Pyramid, and Flask, among others. Security, flexibility, and scalability are all attributes of this framework. Development of Video Games - PySoy and PyGame are two Python libraries that are used in the development of video games. Artificial Intelligence and Machine Learning - There are a large number of open-source libraries that can be used when developing AI/ML applications, and many of these libraries are free.',\n",
              "  'question': 'Amongst which of the following is are the application areas of Python programming?',\n",
              "  'answers': {'text': ['1. Web Development 2. Game Development 3. Artificial Intelligence 4. Machine Learning 5. Data Science'],\n",
              "   'answer_start': [0]}},\n",
              " {'id': 13,\n",
              "  'title': 'Python',\n",
              "  'context': 'Numeric data types include int, float, and complex, among others. In information technology, data types are the classification or categorization of knowledge items. It represents the type of information that is useful in determining what operations are frequently performed on specific data. In the Python programming language, each value is represented by a different python data type. Known as Data Types, this is the classification of knowledge items or the placement of the information value into a specific data category. It is beneficial to be aware of the quiet operations that are frequently performed on a worth.',\n",
              "  'question': 'What are the Numeric Data Types?',\n",
              "  'answers': {'text': ['There are three distinct numeric types: integers, floating point numbers, and complex numbers. In addition, Booleans are a subtype of integers.'],\n",
              "   'answer_start': [0]}},\n",
              " {'id': 14,\n",
              "  'title': 'Python',\n",
              "  'context': 'The sequence Types of Data Types are the list, the tuple, and the range. In order to store multiple values in an organized and efficient manner, we use the concept of sequences. There are several types of sequences, including strings, Unicode strings, lists, tuples, bytearrays, and range objects. Strings and Unicode strings are the most common. Dictionary and set data structures are used to store non-sequential information.',\n",
              "  'question': 'What are Data Types of list, tuple, and range?',\n",
              "  'answers': {'text': ['The sequence Types of Data Types are the list, the tuple, and the range. In order to store multiple values in an organized and efficient manner, we use the concept of sequences.'],\n",
              "   'answer_start': [0]}},\n",
              " {'id': 15,\n",
              "  'title': 'Python',\n",
              "  'context': \"The type() function can be used to find out what type of data an object contains. Typing an object passed as an argument to Python's type() function returns the data type of the object passed as an argument to Python's type() function. This function is extremely useful during the debugging phase of the process.\",\n",
              "  'question': 'What is use of type()?',\n",
              "  'answers': {'text': ['type() method returns class type of the argument(object) passed as parameter in Python.'],\n",
              "   'answer_start': [0]}},\n",
              " {'id': 16,\n",
              "  'title': 'Python',\n",
              "  'context': \"Python's logical operators are represented by the terms and, or, and not. In Python, logical operators are used to perform logical operations on the values of variables that have been declared. Either true or false is represented by the value. The truth values provide us with the information we need to figure out the conditions. In Python, there are three types of logical operators: the logical AND, the logical OR, and the logical NOT operators. Keywords or special characters are used to represent operators in a program.\",\n",
              "  'question': 'List of the logical operators in Python?',\n",
              "  'answers': {'text': ['1. and2. or3. not'], 'answer_start': [0]}},\n",
              " {'id': 17,\n",
              "  'title': 'Python',\n",
              "  'context': \"Unexpected events that can occur during a program's execution are referred to as exceptions, and they can cause the program's normal flow to be interrupted. Python provides exception handling, which allows us to write less error-prone code while also testing various scenarios that may result in an exception later on in the process.\",\n",
              "  'question': 'What is exception handling?',\n",
              "  'answers': {'text': ['Exception handling is the process of responding to unwanted or unexpected events when a computer program runs. Exception handling deals with these events to avoid the program or system crashing, and without this process, exceptions would disrupt the normal operation of a program.'],\n",
              "   'answer_start': [0]}},\n",
              " {'id': 18,\n",
              "  'title': 'Python',\n",
              "  'context': 'Python Dictionary is used to store the data in a key-value pair format, which is similar to that of a database. The dictionary data type in Python is capable of simulating the real-world data arrangement in which a specific value exists for a specific key when the key is specified. It is the data-structure that can be changed. Each element of the dictionary is defined as follows: keys and values.',\n",
              "  'question': 'Why Python Dictionary is used?',\n",
              "  'answers': {'text': ['Dictionaries are used to store data values in key:value pairs. A dictionary is a collection which is ordered*, changeable and do not allow duplicates. As of Python version 3.7, dictionaries are ordered. In Python 3.6 and earlier, dictionaries are unordered.'],\n",
              "   'answer_start': [0]}},\n",
              " {'id': 19,\n",
              "  'title': 'Python',\n",
              "  'context': 'Conditional statements, also known as decision-making statements, are used to make decisions. In programming, we want to be able to control the flow of execution of our program, and we want to be able to execute a specific set of statements only if a specific condition is met, and a different set of statements only if the condition is not met. As a result, we use conditional statements to determine whether or not a specific block of code should be executed based on a given condition.',\n",
              "  'question': 'What ia Conditional statements in python?',\n",
              "  'answers': {'text': ['[A conditional statement as the name suggests itself, is used to handle conditions in your program. These statements guide the program while making decisions based on the conditions encountered by the program. Python has 3 key Conditional Statements that you should know: if statement. if-else statement.'],\n",
              "   'answer_start': [0]}},\n",
              " {'id': 20,\n",
              "  'title': 'Python',\n",
              "  'context': 'Functionsfunctions are reusable pieces of codethey only run when calledthey may take input argumentsthey may return processed valuesdef keyword is used at the beginning of a function to start defining a functionreturn keyword is used to send some value back after processing',\n",
              "  'question': 'What is function ? How we define them in Python ?',\n",
              "  'answers': {'text': ['A function is a block of code which only runs when it is called. You can pass data, known as parameters, into a function. A function can return data as a result. We define function in python with the help of \"def\" keyword.'],\n",
              "   'answer_start': [0]}},\n",
              " {'id': 21,\n",
              "  'title': 'Python',\n",
              "  'context': 'About PythonPython is a dynamic-typed language. It means that you don’t need to mention the data type of variables during their declaration.Python supports object-orientated programming as you can define classes along with the composition and inheritance.Functions in Python are like first-class objects. It suggests you can assign them to variables, return from other methods and pass them as arguments.Developing using Python is quick but running it is often slower than compiled languages.Python has several usages like web-based applications, test automation, data modeling, big data analytics, and much more.',\n",
              "  'question': ' Explain some benefits of Python.',\n",
              "  'answers': {'text': ['Python is a dynamic-typed language. It means that you don’t need to mention the data type of variables during their declaration.Python supports object-orientated programming as you can define classes along with the composition and inheritance.Functions in Python are like first-class objects. It suggests you can assign them to variables, return from other methods and pass them as arguments.Developing using Python is quick but running it is often slower than compiled languages.Python has several usages like web-based applications, test automation, data modeling, big data analytics, and much more.'],\n",
              "   'answer_start': [0]}}]"
            ]
          },
          "metadata": {},
          "execution_count": 6
        }
      ]
    },
    {
      "cell_type": "code",
      "source": [
        "import pandas as pd"
      ],
      "metadata": {
        "id": "ncIqYE6cYiK5"
      },
      "execution_count": null,
      "outputs": []
    },
    {
      "cell_type": "code",
      "source": [
        "rd = pd.DataFrame(raw_datasets['train'])"
      ],
      "metadata": {
        "id": "yb1K2LBtYkdl"
      },
      "execution_count": null,
      "outputs": []
    },
    {
      "cell_type": "code",
      "source": [
        "rd.head()"
      ],
      "metadata": {
        "colab": {
          "base_uri": "https://localhost:8080/",
          "height": 250
        },
        "id": "zgqT2mWZYnG-",
        "outputId": "ede9d452-9b88-40fa-a5fe-f6614ba32209"
      },
      "execution_count": null,
      "outputs": [
        {
          "output_type": "execute_result",
          "data": {
            "text/plain": [
              "   id   title                                            context  \\\n",
              "0   1  Python  To access an element in a Python iterable, suc...   \n",
              "1   2  Python   It is used in method definitions and in varia...   \n",
              "2   3  Python  Python was conceived in the late 1980s by Guid...   \n",
              "3   4  Python  The function len() is one of Python’s built-in...   \n",
              "4   5  Python  A built-in function in Python using which a se...   \n",
              "\n",
              "                                   question  \\\n",
              "0                      What does [::-1] do?   \n",
              "1                   What is self in Python?   \n",
              "2        Who developed the Python language?   \n",
              "3                              What is len?   \n",
              "4  How to check the length of the range(7)?   \n",
              "\n",
              "                                             answers  \n",
              "0  {'text': ['[::-1] is used to reverse the order...  \n",
              "1  {'text': ['Self is an instance or an object of...  \n",
              "2  {'text': ['Guido van Rossum'], 'answer_start':...  \n",
              "3  {'text': ['Len stands for length,The function ...  \n",
              "4  {'text': [' x=range(7)      Print(len(x))'], '...  "
            ],
            "text/html": [
              "\n",
              "  <div id=\"df-268d43fa-a11d-407c-8d57-11682f126f45\">\n",
              "    <div class=\"colab-df-container\">\n",
              "      <div>\n",
              "<style scoped>\n",
              "    .dataframe tbody tr th:only-of-type {\n",
              "        vertical-align: middle;\n",
              "    }\n",
              "\n",
              "    .dataframe tbody tr th {\n",
              "        vertical-align: top;\n",
              "    }\n",
              "\n",
              "    .dataframe thead th {\n",
              "        text-align: right;\n",
              "    }\n",
              "</style>\n",
              "<table border=\"1\" class=\"dataframe\">\n",
              "  <thead>\n",
              "    <tr style=\"text-align: right;\">\n",
              "      <th></th>\n",
              "      <th>id</th>\n",
              "      <th>title</th>\n",
              "      <th>context</th>\n",
              "      <th>question</th>\n",
              "      <th>answers</th>\n",
              "    </tr>\n",
              "  </thead>\n",
              "  <tbody>\n",
              "    <tr>\n",
              "      <th>0</th>\n",
              "      <td>1</td>\n",
              "      <td>Python</td>\n",
              "      <td>To access an element in a Python iterable, suc...</td>\n",
              "      <td>What does [::-1] do?</td>\n",
              "      <td>{'text': ['[::-1] is used to reverse the order...</td>\n",
              "    </tr>\n",
              "    <tr>\n",
              "      <th>1</th>\n",
              "      <td>2</td>\n",
              "      <td>Python</td>\n",
              "      <td>It is used in method definitions and in varia...</td>\n",
              "      <td>What is self in Python?</td>\n",
              "      <td>{'text': ['Self is an instance or an object of...</td>\n",
              "    </tr>\n",
              "    <tr>\n",
              "      <th>2</th>\n",
              "      <td>3</td>\n",
              "      <td>Python</td>\n",
              "      <td>Python was conceived in the late 1980s by Guid...</td>\n",
              "      <td>Who developed the Python language?</td>\n",
              "      <td>{'text': ['Guido van Rossum'], 'answer_start':...</td>\n",
              "    </tr>\n",
              "    <tr>\n",
              "      <th>3</th>\n",
              "      <td>4</td>\n",
              "      <td>Python</td>\n",
              "      <td>The function len() is one of Python’s built-in...</td>\n",
              "      <td>What is len?</td>\n",
              "      <td>{'text': ['Len stands for length,The function ...</td>\n",
              "    </tr>\n",
              "    <tr>\n",
              "      <th>4</th>\n",
              "      <td>5</td>\n",
              "      <td>Python</td>\n",
              "      <td>A built-in function in Python using which a se...</td>\n",
              "      <td>How to check the length of the range(7)?</td>\n",
              "      <td>{'text': [' x=range(7)      Print(len(x))'], '...</td>\n",
              "    </tr>\n",
              "  </tbody>\n",
              "</table>\n",
              "</div>\n",
              "      <button class=\"colab-df-convert\" onclick=\"convertToInteractive('df-268d43fa-a11d-407c-8d57-11682f126f45')\"\n",
              "              title=\"Convert this dataframe to an interactive table.\"\n",
              "              style=\"display:none;\">\n",
              "        \n",
              "  <svg xmlns=\"http://www.w3.org/2000/svg\" height=\"24px\"viewBox=\"0 0 24 24\"\n",
              "       width=\"24px\">\n",
              "    <path d=\"M0 0h24v24H0V0z\" fill=\"none\"/>\n",
              "    <path d=\"M18.56 5.44l.94 2.06.94-2.06 2.06-.94-2.06-.94-.94-2.06-.94 2.06-2.06.94zm-11 1L8.5 8.5l.94-2.06 2.06-.94-2.06-.94L8.5 2.5l-.94 2.06-2.06.94zm10 10l.94 2.06.94-2.06 2.06-.94-2.06-.94-.94-2.06-.94 2.06-2.06.94z\"/><path d=\"M17.41 7.96l-1.37-1.37c-.4-.4-.92-.59-1.43-.59-.52 0-1.04.2-1.43.59L10.3 9.45l-7.72 7.72c-.78.78-.78 2.05 0 2.83L4 21.41c.39.39.9.59 1.41.59.51 0 1.02-.2 1.41-.59l7.78-7.78 2.81-2.81c.8-.78.8-2.07 0-2.86zM5.41 20L4 18.59l7.72-7.72 1.47 1.35L5.41 20z\"/>\n",
              "  </svg>\n",
              "      </button>\n",
              "      \n",
              "  <style>\n",
              "    .colab-df-container {\n",
              "      display:flex;\n",
              "      flex-wrap:wrap;\n",
              "      gap: 12px;\n",
              "    }\n",
              "\n",
              "    .colab-df-convert {\n",
              "      background-color: #E8F0FE;\n",
              "      border: none;\n",
              "      border-radius: 50%;\n",
              "      cursor: pointer;\n",
              "      display: none;\n",
              "      fill: #1967D2;\n",
              "      height: 32px;\n",
              "      padding: 0 0 0 0;\n",
              "      width: 32px;\n",
              "    }\n",
              "\n",
              "    .colab-df-convert:hover {\n",
              "      background-color: #E2EBFA;\n",
              "      box-shadow: 0px 1px 2px rgba(60, 64, 67, 0.3), 0px 1px 3px 1px rgba(60, 64, 67, 0.15);\n",
              "      fill: #174EA6;\n",
              "    }\n",
              "\n",
              "    [theme=dark] .colab-df-convert {\n",
              "      background-color: #3B4455;\n",
              "      fill: #D2E3FC;\n",
              "    }\n",
              "\n",
              "    [theme=dark] .colab-df-convert:hover {\n",
              "      background-color: #434B5C;\n",
              "      box-shadow: 0px 1px 3px 1px rgba(0, 0, 0, 0.15);\n",
              "      filter: drop-shadow(0px 1px 2px rgba(0, 0, 0, 0.3));\n",
              "      fill: #FFFFFF;\n",
              "    }\n",
              "  </style>\n",
              "\n",
              "      <script>\n",
              "        const buttonEl =\n",
              "          document.querySelector('#df-268d43fa-a11d-407c-8d57-11682f126f45 button.colab-df-convert');\n",
              "        buttonEl.style.display =\n",
              "          google.colab.kernel.accessAllowed ? 'block' : 'none';\n",
              "\n",
              "        async function convertToInteractive(key) {\n",
              "          const element = document.querySelector('#df-268d43fa-a11d-407c-8d57-11682f126f45');\n",
              "          const dataTable =\n",
              "            await google.colab.kernel.invokeFunction('convertToInteractive',\n",
              "                                                     [key], {});\n",
              "          if (!dataTable) return;\n",
              "\n",
              "          const docLinkHtml = 'Like what you see? Visit the ' +\n",
              "            '<a target=\"_blank\" href=https://colab.research.google.com/notebooks/data_table.ipynb>data table notebook</a>'\n",
              "            + ' to learn more about interactive tables.';\n",
              "          element.innerHTML = '';\n",
              "          dataTable['output_type'] = 'display_data';\n",
              "          await google.colab.output.renderOutput(dataTable, element);\n",
              "          const docLink = document.createElement('div');\n",
              "          docLink.innerHTML = docLinkHtml;\n",
              "          element.appendChild(docLink);\n",
              "        }\n",
              "      </script>\n",
              "    </div>\n",
              "  </div>\n",
              "  "
            ]
          },
          "metadata": {},
          "execution_count": 9
        }
      ]
    },
    {
      "cell_type": "code",
      "source": [
        "raw_datasets[\"train\"]"
      ],
      "metadata": {
        "colab": {
          "base_uri": "https://localhost:8080/"
        },
        "id": "OdtZQVhLpQj0",
        "outputId": "54ac2db3-cd14-495b-a9d9-8ca0237abc0a"
      },
      "execution_count": null,
      "outputs": [
        {
          "output_type": "execute_result",
          "data": {
            "text/plain": [
              "[{'id': 1,\n",
              "  'title': 'Python',\n",
              "  'context': 'To access an element in a Python iterable, such as a list, you need to use an index that corresponds to the position of the element.In Python, indexing is zero-based. This means the first element has 0 as its index, the second element has 1 as its index, and so on.In Python, it is also possible to use negative indexing to access values of a sequence.Negative indexing accesses items relative to the end of the sequence. The index -1 reads the last element, -2 the second last, and so on.In Python, slicing makes it possible to access parts of sequences, such as strings or lists. This makes it possible to access, modify, and delete items in a readable and concise fashion.Slicing works similar to indexing, but instead of accessing a single value, multiple values are accessed.Slicing uses indexing to access the range of elements. These indexes are also zero-based.To reverse a list in Python, you can use negative slicing. As you want to slice the whole list, you can omit the start and stop values altogether.To reverse the slicing, specify a negative step value.As you want to include each value in the reversed list, the step size should be -1.[::-1] means you create a slice of a sequence that traverses the whole sequence starting from the end of it.Normally, the slicing follows sequence[start:stop:step] syntax. However, when you want to go from the beginning of the sequence to the end of it, you can omit start and stop. To indicate you want to start slicing from the end and end at the start, specify a negative step.',\n",
              "  'question': 'What does [::-1] do?',\n",
              "  'answers': {'text': ['[::-1] is used to reverse the order of an array or a sequence.'],\n",
              "   'answer_start': [1]}},\n",
              " {'id': 2,\n",
              "  'title': 'Python',\n",
              "  'context': ' It is used in method definitions and in variable initialization. The self method is explicitly used every time we define a method.The self is used to represent the instance of the class. With this keyword, you can access the attributes and methods of the class in python. It binds the attributes with the given arguments. The reason why we use self is that Python does not use the ‘@’ syntax to refer to instance attributes. In Python, we have methods that make the instance to be passed automatically, but not received automatically.self is also used to refer to a variable field within the class.self is a parameter in function and the user can use a different parameter name in place of it. Although it is advisable to use self because it increases the readability of code. ',\n",
              "  'question': 'What is self in Python?',\n",
              "  'answers': {'text': ['Self is an instance or an object of a class. In Python, this is explicitly included as the first parameter. However, this is not the case in Java where it’s optional.  It helps to differentiate between the methods and attributes of a class with local variables.'],\n",
              "   'answer_start': [0]}},\n",
              " {'id': 3,\n",
              "  'title': 'Python',\n",
              "  'context': \"Python was conceived in the late 1980s by Guido van Rossum at Centrum Wiskunde & Informatica (CWI) in the Netherlands as a successor to the ABC programming language, which was inspired by SETL capable of exception handling (from the start plus new capabilities in Python 3.11) and interfacing with the Amoeba operating system.Its implementation began in December 1989. Van Rossum shouldered sole responsibility for the project, as the lead developer, until 12 July 2018, when he announced his permanent vacation from his responsibilities as Python's benevolent dictator for life, a title the Python community bestowed upon him to reflect his long-term commitment as the project's chief decision-maker.In January 2019, active Python core developers elected a five-member Steering Council to lead the project.Python 2.0 was released on 16 October 2000, with many major new features. Python 3.0, released on 3 December 2008, with many of its major features backported to Python 2.6.x and 2.7.x. Releases of Python 3 include the 2to3 utility, which automates the translation of Python 2 code to Python 3.Python 2.7's end-of-life was initially set for 2015, then postponed to 2020 out of concern that a large body of existing code could not easily be forward-ported to Python 3. No further security patches or other improvements will be released for it. Currently only 3.7 and later are supported. In 2021, Python 3.9.2 and 3.8.8 were expedited as all versions of Python (including 2.7) had security issues leading to possible remote code execution[56] and web cache poisoning.In 2022, Python 3.10.4 and 3.9.12 were expedited and 3.8.13, and 3.7.13, because of many security issues. When Python 3.9.13 was released in May 2022, it was announced that the 3.9 series (joining the older series 3.8 and 3.7) will only receive security fixes going forward. On September 7, 2022, four new releases were made due to a potential denial-of-service attack: 3.10.7, 3.9.14, 3.8.14, and 3.7.14.As of November 2022, Python 3.11.0 is the current stable release and among the notable changes from 3.10 are that it is 10–60% faster and significantly improved error reporting.Python 3.12 (alpha 2) has improved error messages. \",\n",
              "  'question': 'Who developed the Python language?',\n",
              "  'answers': {'text': ['Guido van Rossum'], 'answer_start': [0]}},\n",
              " {'id': 4,\n",
              "  'title': 'Python',\n",
              "  'context': 'The function len() is one of Python’s built-in functions. It returns the length of an object. For example, it can return the number of items in a list. You can use the function with many different data types. However, not all data types are valid arguments for len().',\n",
              "  'question': 'What is len?',\n",
              "  'answers': {'text': [\"Len stands for length,The function len() is one of Python's built-in functions. It returns the length of an object.\"],\n",
              "   'answer_start': [0]}},\n",
              " {'id': 5,\n",
              "  'title': 'Python',\n",
              "  'context': 'A built-in function in Python using which a sequence of numbers is generated within a given range is called range in Python. To implement range in Python, you need to make use of a function called range() function. ',\n",
              "  'question': 'How to check the length of the range(7)?',\n",
              "  'answers': {'text': [' x=range(7)      Print(len(x))'],\n",
              "   'answer_start': [0]}},\n",
              " {'id': 6,\n",
              "  'title': 'Python',\n",
              "  'context': 'Encapsulation is a mechanism of wrapping the data (variables) and code acting on the data (methods) together as a single unit. In encapsulation, the variables of a class will be hidden from other classes, and can be accessed only through the methods of their current class.',\n",
              "  'question': 'Define encapsulation in Python?',\n",
              "  'answers': {'text': ['Encapsulation means binding the code and the data together. A Python class in an example of encapsulation.'],\n",
              "   'answer_start': [0]}},\n",
              " {'id': 7,\n",
              "  'title': 'Python',\n",
              "  'context': 'strings in Python are arrays of bytes representing unicode characters. However, Python does not have a character data type, a single character is simply a string with a length of 1. Square brackets can be used to access elements of the string.',\n",
              "  'question': 'Why strings are immutable in nature?',\n",
              "  'answers': {'text': ['In Python, strings are made immutable so that programmers cannot alter the contents of the object (even by mistake).'],\n",
              "   'answer_start': [0]}},\n",
              " {'id': 8,\n",
              "  'title': 'Python',\n",
              "  'context': 'A variable is only available from inside the region it is created.this is called scopeLocal Scope :A variable created inside a function belongs to the local scope of that function and can only be used inside that function.however, the local variable can be accessed from a function within the function',\n",
              "  'question': ' What are local variables in Python ?',\n",
              "  'answers': {'text': ['Any variable declared inside a function is known as a local variable. This variable is present in the local space and not in the global space.'],\n",
              "   'answer_start': [0]}},\n",
              " {'id': 9,\n",
              "  'title': 'Python',\n",
              "  'context': 'Global Scopea variable created in the main body of the Python code is a global variable and belongs to the global scope.global variables are available from within any scope, global and local',\n",
              "  'question': 'What are global variables in Python ?',\n",
              "  'answers': {'text': ['Variables declared outside a function or in a global space are called global variables. These variables can be accessed by any function in the program.'],\n",
              "   'answer_start': [0]}},\n",
              " {'id': 10,\n",
              "  'title': 'Python',\n",
              "  'context': 'global\" keywordif you need to create a global variable, but are stuck in the local scope, you can use the global keyword.the global keyword makes the variable global.',\n",
              "  'question': 'What is the use of \"global\" keyword in Python ?',\n",
              "  'answers': {'text': ['The global keyword is used to create global variables from a no-global scope, e.g. inside a function.'],\n",
              "   'answer_start': [0]}},\n",
              " {'id': 11,\n",
              "  'title': 'Python',\n",
              "  'context': 'Lambda :Lambda is a small anonymous function.Can take any number of arguments, but can only have one expression.syntax: lambda arguments : expression',\n",
              "  'question': 'What is lambda function in Python ?',\n",
              "  'answers': {'text': ['Python Lambda Functions are anonymous function means that the function is without a name. As we already know that the def keyword is used to define a normal function in Python. Similarly, the lambda keyword is used to define an anonymous function in Python.'],\n",
              "   'answer_start': [0]}},\n",
              " {'id': 12,\n",
              "  'title': 'Python',\n",
              "  'context': 'Python programming is used in a variety of fields, including web development, game development, artificial intelligence, and machine learning, among others. Web Development Python provides a number of web development frameworks, including Django, Pyramid, and Flask, among others. Security, flexibility, and scalability are all attributes of this framework. Development of Video Games - PySoy and PyGame are two Python libraries that are used in the development of video games. Artificial Intelligence and Machine Learning - There are a large number of open-source libraries that can be used when developing AI/ML applications, and many of these libraries are free.',\n",
              "  'question': 'Amongst which of the following is are the application areas of Python programming?',\n",
              "  'answers': {'text': ['1. Web Development 2. Game Development 3. Artificial Intelligence 4. Machine Learning 5. Data Science'],\n",
              "   'answer_start': [0]}},\n",
              " {'id': 13,\n",
              "  'title': 'Python',\n",
              "  'context': 'Numeric data types include int, float, and complex, among others. In information technology, data types are the classification or categorization of knowledge items. It represents the type of information that is useful in determining what operations are frequently performed on specific data. In the Python programming language, each value is represented by a different python data type. Known as Data Types, this is the classification of knowledge items or the placement of the information value into a specific data category. It is beneficial to be aware of the quiet operations that are frequently performed on a worth.',\n",
              "  'question': 'What are the Numeric Data Types?',\n",
              "  'answers': {'text': ['There are three distinct numeric types: integers, floating point numbers, and complex numbers. In addition, Booleans are a subtype of integers.'],\n",
              "   'answer_start': [0]}},\n",
              " {'id': 14,\n",
              "  'title': 'Python',\n",
              "  'context': 'The sequence Types of Data Types are the list, the tuple, and the range. In order to store multiple values in an organized and efficient manner, we use the concept of sequences. There are several types of sequences, including strings, Unicode strings, lists, tuples, bytearrays, and range objects. Strings and Unicode strings are the most common. Dictionary and set data structures are used to store non-sequential information.',\n",
              "  'question': 'What are Data Types of list, tuple, and range?',\n",
              "  'answers': {'text': ['The sequence Types of Data Types are the list, the tuple, and the range. In order to store multiple values in an organized and efficient manner, we use the concept of sequences.'],\n",
              "   'answer_start': [0]}},\n",
              " {'id': 15,\n",
              "  'title': 'Python',\n",
              "  'context': \"The type() function can be used to find out what type of data an object contains. Typing an object passed as an argument to Python's type() function returns the data type of the object passed as an argument to Python's type() function. This function is extremely useful during the debugging phase of the process.\",\n",
              "  'question': 'What is use of type()?',\n",
              "  'answers': {'text': ['type() method returns class type of the argument(object) passed as parameter in Python.'],\n",
              "   'answer_start': [0]}},\n",
              " {'id': 16,\n",
              "  'title': 'Python',\n",
              "  'context': \"Python's logical operators are represented by the terms and, or, and not. In Python, logical operators are used to perform logical operations on the values of variables that have been declared. Either true or false is represented by the value. The truth values provide us with the information we need to figure out the conditions. In Python, there are three types of logical operators: the logical AND, the logical OR, and the logical NOT operators. Keywords or special characters are used to represent operators in a program.\",\n",
              "  'question': 'List of the logical operators in Python?',\n",
              "  'answers': {'text': ['1. and2. or3. not'], 'answer_start': [0]}},\n",
              " {'id': 17,\n",
              "  'title': 'Python',\n",
              "  'context': \"Unexpected events that can occur during a program's execution are referred to as exceptions, and they can cause the program's normal flow to be interrupted. Python provides exception handling, which allows us to write less error-prone code while also testing various scenarios that may result in an exception later on in the process.\",\n",
              "  'question': 'What is exception handling?',\n",
              "  'answers': {'text': ['Exception handling is the process of responding to unwanted or unexpected events when a computer program runs. Exception handling deals with these events to avoid the program or system crashing, and without this process, exceptions would disrupt the normal operation of a program.'],\n",
              "   'answer_start': [0]}},\n",
              " {'id': 18,\n",
              "  'title': 'Python',\n",
              "  'context': 'Python Dictionary is used to store the data in a key-value pair format, which is similar to that of a database. The dictionary data type in Python is capable of simulating the real-world data arrangement in which a specific value exists for a specific key when the key is specified. It is the data-structure that can be changed. Each element of the dictionary is defined as follows: keys and values.',\n",
              "  'question': 'Why Python Dictionary is used?',\n",
              "  'answers': {'text': ['Dictionaries are used to store data values in key:value pairs. A dictionary is a collection which is ordered*, changeable and do not allow duplicates. As of Python version 3.7, dictionaries are ordered. In Python 3.6 and earlier, dictionaries are unordered.'],\n",
              "   'answer_start': [0]}},\n",
              " {'id': 19,\n",
              "  'title': 'Python',\n",
              "  'context': 'Conditional statements, also known as decision-making statements, are used to make decisions. In programming, we want to be able to control the flow of execution of our program, and we want to be able to execute a specific set of statements only if a specific condition is met, and a different set of statements only if the condition is not met. As a result, we use conditional statements to determine whether or not a specific block of code should be executed based on a given condition.',\n",
              "  'question': 'What ia Conditional statements in python?',\n",
              "  'answers': {'text': ['[A conditional statement as the name suggests itself, is used to handle conditions in your program. These statements guide the program while making decisions based on the conditions encountered by the program. Python has 3 key Conditional Statements that you should know: if statement. if-else statement.'],\n",
              "   'answer_start': [0]}},\n",
              " {'id': 20,\n",
              "  'title': 'Python',\n",
              "  'context': 'Functionsfunctions are reusable pieces of codethey only run when calledthey may take input argumentsthey may return processed valuesdef keyword is used at the beginning of a function to start defining a functionreturn keyword is used to send some value back after processing',\n",
              "  'question': 'What is function ? How we define them in Python ?',\n",
              "  'answers': {'text': ['A function is a block of code which only runs when it is called. You can pass data, known as parameters, into a function. A function can return data as a result. We define function in python with the help of \"def\" keyword.'],\n",
              "   'answer_start': [0]}},\n",
              " {'id': 21,\n",
              "  'title': 'Python',\n",
              "  'context': 'About PythonPython is a dynamic-typed language. It means that you don’t need to mention the data type of variables during their declaration.Python supports object-orientated programming as you can define classes along with the composition and inheritance.Functions in Python are like first-class objects. It suggests you can assign them to variables, return from other methods and pass them as arguments.Developing using Python is quick but running it is often slower than compiled languages.Python has several usages like web-based applications, test automation, data modeling, big data analytics, and much more.',\n",
              "  'question': ' Explain some benefits of Python.',\n",
              "  'answers': {'text': ['Python is a dynamic-typed language. It means that you don’t need to mention the data type of variables during their declaration.Python supports object-orientated programming as you can define classes along with the composition and inheritance.Functions in Python are like first-class objects. It suggests you can assign them to variables, return from other methods and pass them as arguments.Developing using Python is quick but running it is often slower than compiled languages.Python has several usages like web-based applications, test automation, data modeling, big data analytics, and much more.'],\n",
              "   'answer_start': [0]}}]"
            ]
          },
          "metadata": {},
          "execution_count": 10
        }
      ]
    },
    {
      "cell_type": "code",
      "source": [
        "def kuchbhi(data):\n",
        "  if len(data[\"answers\"]['context']) != 1:\n",
        " \n",
        "    return True\n",
        "  return False\n",
        "  "
      ],
      "metadata": {
        "id": "kbUT9QgVpami"
      },
      "execution_count": null,
      "outputs": []
    },
    {
      "cell_type": "code",
      "source": [
        "filtered_data = filter(kuchbhi,raw_datasets[\"train\"])\n",
        "filtered_data = json.load(filtered_data)\n",
        "print(filtered_data)"
      ],
      "metadata": {
        "colab": {
          "base_uri": "https://localhost:8080/",
          "height": 347
        },
        "id": "UsZ6gfeCp0br",
        "outputId": "38caf037-2351-4ca9-97d4-43078c7c7552"
      },
      "execution_count": null,
      "outputs": [
        {
          "output_type": "error",
          "ename": "AttributeError",
          "evalue": "ignored",
          "traceback": [
            "\u001b[0;31m---------------------------------------------------------------------------\u001b[0m",
            "\u001b[0;31mAttributeError\u001b[0m                            Traceback (most recent call last)",
            "\u001b[0;32m<ipython-input-12-c568b1506598>\u001b[0m in \u001b[0;36m<module>\u001b[0;34m\u001b[0m\n\u001b[1;32m      1\u001b[0m \u001b[0mfiltered_data\u001b[0m \u001b[0;34m=\u001b[0m \u001b[0mfilter\u001b[0m\u001b[0;34m(\u001b[0m\u001b[0mkuchbhi\u001b[0m\u001b[0;34m,\u001b[0m\u001b[0mraw_datasets\u001b[0m\u001b[0;34m[\u001b[0m\u001b[0;34m\"train\"\u001b[0m\u001b[0;34m]\u001b[0m\u001b[0;34m)\u001b[0m\u001b[0;34m\u001b[0m\u001b[0;34m\u001b[0m\u001b[0m\n\u001b[0;32m----> 2\u001b[0;31m \u001b[0mfiltered_data\u001b[0m \u001b[0;34m=\u001b[0m \u001b[0mjson\u001b[0m\u001b[0;34m.\u001b[0m\u001b[0mload\u001b[0m\u001b[0;34m(\u001b[0m\u001b[0mfiltered_data\u001b[0m\u001b[0;34m)\u001b[0m\u001b[0;34m\u001b[0m\u001b[0;34m\u001b[0m\u001b[0m\n\u001b[0m\u001b[1;32m      3\u001b[0m \u001b[0mprint\u001b[0m\u001b[0;34m(\u001b[0m\u001b[0mfiltered_data\u001b[0m\u001b[0;34m)\u001b[0m\u001b[0;34m\u001b[0m\u001b[0;34m\u001b[0m\u001b[0m\n",
            "\u001b[0;32m/usr/lib/python3.8/json/__init__.py\u001b[0m in \u001b[0;36mload\u001b[0;34m(fp, cls, object_hook, parse_float, parse_int, parse_constant, object_pairs_hook, **kw)\u001b[0m\n\u001b[1;32m    291\u001b[0m     \u001b[0mkwarg\u001b[0m\u001b[0;34m;\u001b[0m \u001b[0motherwise\u001b[0m\u001b[0;31m \u001b[0m\u001b[0;31m`\u001b[0m\u001b[0;31m`\u001b[0m\u001b[0mJSONDecoder\u001b[0m\u001b[0;31m`\u001b[0m\u001b[0;31m`\u001b[0m \u001b[0;32mis\u001b[0m \u001b[0mused\u001b[0m\u001b[0;34m.\u001b[0m\u001b[0;34m\u001b[0m\u001b[0;34m\u001b[0m\u001b[0m\n\u001b[1;32m    292\u001b[0m     \"\"\"\n\u001b[0;32m--> 293\u001b[0;31m     return loads(fp.read(),\n\u001b[0m\u001b[1;32m    294\u001b[0m         \u001b[0mcls\u001b[0m\u001b[0;34m=\u001b[0m\u001b[0mcls\u001b[0m\u001b[0;34m,\u001b[0m \u001b[0mobject_hook\u001b[0m\u001b[0;34m=\u001b[0m\u001b[0mobject_hook\u001b[0m\u001b[0;34m,\u001b[0m\u001b[0;34m\u001b[0m\u001b[0;34m\u001b[0m\u001b[0m\n\u001b[1;32m    295\u001b[0m         \u001b[0mparse_float\u001b[0m\u001b[0;34m=\u001b[0m\u001b[0mparse_float\u001b[0m\u001b[0;34m,\u001b[0m \u001b[0mparse_int\u001b[0m\u001b[0;34m=\u001b[0m\u001b[0mparse_int\u001b[0m\u001b[0;34m,\u001b[0m\u001b[0;34m\u001b[0m\u001b[0;34m\u001b[0m\u001b[0m\n",
            "\u001b[0;31mAttributeError\u001b[0m: 'filter' object has no attribute 'read'"
          ]
        }
      ]
    },
    {
      "cell_type": "code",
      "source": [
        "raw_datasets[\"train\"].filter(lambda x: len(x[\"answers\"]) != 1,data)"
      ],
      "metadata": {
        "colab": {
          "base_uri": "https://localhost:8080/",
          "height": 169
        },
        "id": "9Aa4C4iSYqDz",
        "outputId": "722b1e9a-4e2a-4388-cd62-c50ceabfea83"
      },
      "execution_count": null,
      "outputs": [
        {
          "output_type": "error",
          "ename": "AttributeError",
          "evalue": "ignored",
          "traceback": [
            "\u001b[0;31m---------------------------------------------------------------------------\u001b[0m",
            "\u001b[0;31mAttributeError\u001b[0m                            Traceback (most recent call last)",
            "\u001b[0;32m<ipython-input-13-6ad8800915a1>\u001b[0m in \u001b[0;36m<module>\u001b[0;34m\u001b[0m\n\u001b[0;32m----> 1\u001b[0;31m \u001b[0mraw_datasets\u001b[0m\u001b[0;34m[\u001b[0m\u001b[0;34m\"train\"\u001b[0m\u001b[0;34m]\u001b[0m\u001b[0;34m.\u001b[0m\u001b[0mfilter\u001b[0m\u001b[0;34m(\u001b[0m\u001b[0;32mlambda\u001b[0m \u001b[0mx\u001b[0m\u001b[0;34m:\u001b[0m \u001b[0mlen\u001b[0m\u001b[0;34m(\u001b[0m\u001b[0mx\u001b[0m\u001b[0;34m[\u001b[0m\u001b[0;34m\"answers\"\u001b[0m\u001b[0;34m]\u001b[0m\u001b[0;34m)\u001b[0m \u001b[0;34m!=\u001b[0m \u001b[0;36m1\u001b[0m\u001b[0;34m,\u001b[0m\u001b[0mdata\u001b[0m\u001b[0;34m)\u001b[0m\u001b[0;34m\u001b[0m\u001b[0;34m\u001b[0m\u001b[0m\n\u001b[0m",
            "\u001b[0;31mAttributeError\u001b[0m: 'list' object has no attribute 'filter'"
          ]
        }
      ]
    },
    {
      "cell_type": "code",
      "source": [
        "numbers = [1, 2, 3, 4, 5, 6, 7, 8, 9, 10]\n",
        "\n",
        "# returns True if number is even\n",
        "def check_even(number):\n",
        "    if number % 2 == 0:\n",
        "          return True  \n",
        "\n",
        "    return False\n",
        "\n",
        "# Extract elements from the numbers list for which check_even() returns True\n",
        "even_numbers_iterator = filter(check_even, numbers)\n",
        "\n",
        "# converting to list\n",
        "even_numbers = list(even_numbers_iterator)\n",
        "\n",
        "print(even_numbers)\n",
        "print(even_numbers_iterator)"
      ],
      "metadata": {
        "colab": {
          "base_uri": "https://localhost:8080/"
        },
        "id": "GyqnPa8FraXH",
        "outputId": "cf67b576-518e-4cdb-e8e9-43e5ecac1e04"
      },
      "execution_count": null,
      "outputs": [
        {
          "output_type": "stream",
          "name": "stdout",
          "text": [
            "[2, 4, 6, 8, 10]\n",
            "<filter object at 0x7f7d9897bbe0>\n"
          ]
        }
      ]
    },
    {
      "cell_type": "code",
      "source": [
        "print(raw_datasets[\"validation\"][0][\"answers\"])\n",
        "print(raw_datasets[\"validation\"][2][\"answers\"])"
      ],
      "metadata": {
        "colab": {
          "base_uri": "https://localhost:8080/"
        },
        "id": "-jvXfqgWYsWo",
        "outputId": "097e326d-4387-4e43-cc2e-ee345f0a3082"
      },
      "execution_count": null,
      "outputs": [
        {
          "output_type": "stream",
          "name": "stdout",
          "text": [
            "{'text': ['1. and2. or3. not'], 'answer_start': [0]}\n",
            "{'text': ['Dictionaries are used to store data values in key:value pairs. A dictionary is a collection which is ordered*, changeable and do not allow duplicates. As of Python version 3.7, dictionaries are ordered. In Python 3.6 and earlier, dictionaries are unordered.'], 'answer_start': [0]}\n"
          ]
        }
      ]
    },
    {
      "cell_type": "code",
      "source": [
        "print(raw_datasets[\"validation\"][2][\"context\"])\n",
        "print(raw_datasets[\"validation\"][2][\"question\"])"
      ],
      "metadata": {
        "colab": {
          "base_uri": "https://localhost:8080/"
        },
        "id": "ILD8sCMOY2MI",
        "outputId": "d9708438-e806-4dff-f556-acafdd1fc77d"
      },
      "execution_count": null,
      "outputs": [
        {
          "output_type": "stream",
          "name": "stdout",
          "text": [
            "Python Dictionary is used to store the data in a key-value pair format, which is similar to that of a database. The dictionary data type in Python is capable of simulating the real-world data arrangement in which a specific value exists for a specific key when the key is specified. It is the data-structure that can be changed. Each element of the dictionary is defined as follows: keys and values.\n",
            "Why Python Dictionary is used?\n"
          ]
        }
      ]
    },
    {
      "cell_type": "code",
      "source": [
        "\n",
        "!pip install tokenizer"
      ],
      "metadata": {
        "colab": {
          "base_uri": "https://localhost:8080/"
        },
        "id": "lWlEfbCpY5b0",
        "outputId": "ac6a9590-ca4a-42e2-9841-f30dca10ab40"
      },
      "execution_count": null,
      "outputs": [
        {
          "output_type": "stream",
          "name": "stdout",
          "text": [
            "Looking in indexes: https://pypi.org/simple, https://us-python.pkg.dev/colab-wheels/public/simple/\n",
            "Collecting tokenizer\n",
            "  Downloading tokenizer-3.4.2-py2.py3-none-any.whl (79 kB)\n",
            "\u001b[K     |████████████████████████████████| 79 kB 5.3 MB/s \n",
            "\u001b[?25hInstalling collected packages: tokenizer\n",
            "Successfully installed tokenizer-3.4.2\n"
          ]
        }
      ]
    },
    {
      "cell_type": "code",
      "source": [
        "from transformers import AutoTokenizer\n",
        "\n",
        "model_checkpoint = \"bert-base-cased\"\n",
        "tokenizer = AutoTokenizer.from_pretrained(model_checkpoint)"
      ],
      "metadata": {
        "colab": {
          "base_uri": "https://localhost:8080/",
          "height": 145,
          "referenced_widgets": [
            "39f33e6fbb684853b78b985b0ab4a714",
            "36319691af5545be9697fac6c7898887",
            "506042a865ee4c7692460518d6917292",
            "b5895b963af44377af61ba69e1df1d5d",
            "dfa307192c5c456e98839deed27b1e1b",
            "80152ea765b8457eab15b430f4ccca31",
            "c3fbcbdde0f1430bbda6305694cd372e",
            "17b76cb144b246bca128849522cb2e57",
            "81fe8efc78314ac0a101ef4298ea7c3b",
            "9730154356a34e83b89d0996c969d2cd",
            "2eeb64ec52134ee399dd527c405662a0",
            "ffe985f3bcd7451fa4097e32e2b71d41",
            "29486388cedb4966be0ab03c87c6e1b8",
            "69a087dd23c14580a08a22aa47d6b22f",
            "a1d94bb417a94896adeb6937eda59515",
            "c97a59dded9a4c30beacb0da65414513",
            "c142bc6b43d343c5b5d1a82e748a62c1",
            "ba7a7b7cd1d341798013ddd10a00f1fa",
            "222168d952b44b1684ab585fbda0b0e9",
            "80e62557a5ab49f4b249162e4e009a04",
            "fc6c81ed5ce143219edd47cdc44a9692",
            "bfe4f489e26d4fbcaa7cf3d092b2811c",
            "66681e06767e4353b8569e56c4e935d2",
            "f28a34f205194c068643e41e73f64478",
            "e8de9143f9d3434abd34103234e1d21b",
            "79c331db1d6d4050afebd0c6a7951129",
            "3814eea5672c4233a9a7b7e6bc9bc5cf",
            "18574c19fa1746a5acde3029a5b1332b",
            "c0a5699cff8940daa9453b2dc0d6b2e6",
            "5714f89fe29940569880f7a68b824139",
            "4801f346df014510b944fc0522aa1e42",
            "8ae69f7f27794ae9b058961ee05fa3ba",
            "1acc14cba08f4e39bb643c5499cd361d",
            "9263b85bb39f475bb7a397a348cb32c6",
            "b4e6aa75348945ad870a244af16dfe8f",
            "45280c6c1f6245928878eb202ef16c74",
            "d4d443b226a04eb7b0506530effa91eb",
            "f64f3a59a4af44f3bf48633d25c5be06",
            "4054cca0cf0c4d6c89f6bd6bad72a89a",
            "ccfcf5d0286c46f3adc12ea0135cc71e",
            "543f5ecf2b0e4506a481f44c5603efc2",
            "ff05268581cf459684278493b0f85a75",
            "14ab69a4867c49a7a2f12e38ea9a03b0",
            "147e00fb51ce474591267284e6f345d9"
          ]
        },
        "id": "TI5e2WS-ZJDJ",
        "outputId": "5e2be627-0320-49fe-b382-6a1859b4163d"
      },
      "execution_count": null,
      "outputs": [
        {
          "output_type": "display_data",
          "data": {
            "text/plain": [
              "Downloading:   0%|          | 0.00/29.0 [00:00<?, ?B/s]"
            ],
            "application/vnd.jupyter.widget-view+json": {
              "version_major": 2,
              "version_minor": 0,
              "model_id": "39f33e6fbb684853b78b985b0ab4a714"
            }
          },
          "metadata": {}
        },
        {
          "output_type": "display_data",
          "data": {
            "text/plain": [
              "Downloading:   0%|          | 0.00/570 [00:00<?, ?B/s]"
            ],
            "application/vnd.jupyter.widget-view+json": {
              "version_major": 2,
              "version_minor": 0,
              "model_id": "ffe985f3bcd7451fa4097e32e2b71d41"
            }
          },
          "metadata": {}
        },
        {
          "output_type": "display_data",
          "data": {
            "text/plain": [
              "Downloading:   0%|          | 0.00/213k [00:00<?, ?B/s]"
            ],
            "application/vnd.jupyter.widget-view+json": {
              "version_major": 2,
              "version_minor": 0,
              "model_id": "66681e06767e4353b8569e56c4e935d2"
            }
          },
          "metadata": {}
        },
        {
          "output_type": "display_data",
          "data": {
            "text/plain": [
              "Downloading:   0%|          | 0.00/436k [00:00<?, ?B/s]"
            ],
            "application/vnd.jupyter.widget-view+json": {
              "version_major": 2,
              "version_minor": 0,
              "model_id": "9263b85bb39f475bb7a397a348cb32c6"
            }
          },
          "metadata": {}
        }
      ]
    },
    {
      "cell_type": "code",
      "source": [
        "tokenizer.is_fast"
      ],
      "metadata": {
        "colab": {
          "base_uri": "https://localhost:8080/"
        },
        "id": "LnJ7kXTUZPjJ",
        "outputId": "a8c5ca5a-81b0-4869-d2cf-f281d0c0bbc8"
      },
      "execution_count": null,
      "outputs": [
        {
          "output_type": "execute_result",
          "data": {
            "text/plain": [
              "True"
            ]
          },
          "metadata": {},
          "execution_count": 18
        }
      ]
    },
    {
      "cell_type": "code",
      "source": [
        "context = raw_datasets[\"train\"][0][\"context\"]\n",
        "question = raw_datasets[\"train\"][0][\"question\"]\n",
        "\n",
        "inputs = tokenizer(question, context)\n",
        "tokenizer.decode(inputs[\"input_ids\"])"
      ],
      "metadata": {
        "colab": {
          "base_uri": "https://localhost:8080/",
          "height": 268
        },
        "id": "y6kY5oBIZVfo",
        "outputId": "a6313048-9c77-40f4-852f-f9344486cd2f"
      },
      "execution_count": null,
      "outputs": [
        {
          "output_type": "execute_result",
          "data": {
            "text/plain": [
              "'[CLS] What does [ : : - 1 ] do? [SEP] To access an element in a Python iterable, such as a list, you need to use an index that corresponds to the position of the element. In Python, indexing is zero - based. This means the first element has 0 as its index, the second element has 1 as its index, and so on. In Python, it is also possible to use negative indexing to access values of a sequence. Negative indexing accesses items relative to the end of the sequence. The index - 1 reads the last element, - 2 the second last, and so on. In Python, slicing makes it possible to access parts of sequences, such as strings or lists. This makes it possible to access, modify, and delete items in a readable and concise fashion. Slicing works similar to indexing, but instead of accessing a single value, multiple values are accessed. Slicing uses indexing to access the range of elements. These indexes are also zero - based. To reverse a list in Python, you can use negative slicing. As you want to slice the whole list, you can omit the start and stop values altogether. To reverse the slicing, specify a negative step value. As you want to include each value in the reversed list, the step size should be - 1. [ : : - 1 ] means you create a slice of a sequence that traverses the whole sequence starting from the end of it. Normally, the slicing follows sequence [ start : stop : step ] syntax. However, when you want to go from the beginning of the sequence to the end of it, you can omit start and stop. To indicate you want to start slicing from the end and end at the start, specify a negative step. [SEP]'"
            ],
            "application/vnd.google.colaboratory.intrinsic+json": {
              "type": "string"
            }
          },
          "metadata": {},
          "execution_count": 19
        }
      ]
    },
    {
      "cell_type": "code",
      "source": [
        "inputs = tokenizer(\n",
        "    question,\n",
        "    context,\n",
        "    max_length=100,\n",
        "    truncation=\"only_second\",\n",
        "    stride=2,\n",
        "    return_overflowing_tokens=True,\n",
        "    \n",
        ")\n",
        "\n",
        "for ids in inputs[\"input_ids\"]:\n",
        "    print(tokenizer.decode(ids))"
      ],
      "metadata": {
        "colab": {
          "base_uri": "https://localhost:8080/"
        },
        "id": "LmN6NXymZXYd",
        "outputId": "50e56c02-f8f8-4f0f-9893-952bf57e8385"
      },
      "execution_count": null,
      "outputs": [
        {
          "output_type": "stream",
          "name": "stdout",
          "text": [
            "[CLS] What does [ : : - 1 ] do? [SEP] To access an element in a Python iterable, such as a list, you need to use an index that corresponds to the position of the element. In Python, indexing is zero - based. This means the first element has 0 as its index, the second element has 1 as its index, and so on. In Python, it is also possible to use negative indexing to access values of a sequence. Negative [SEP]\n",
            "[CLS] What does [ : : - 1 ] do? [SEP]egative indexing accesses items relative to the end of the sequence. The index - 1 reads the last element, - 2 the second last, and so on. In Python, slicing makes it possible to access parts of sequences, such as strings or lists. This makes it possible to access, modify, and delete items in a readable and concise fashion. Slicing works similar to indexing, but instead of [SEP]\n",
            "[CLS] What does [ : : - 1 ] do? [SEP] instead of accessing a single value, multiple values are accessed. Slicing uses indexing to access the range of elements. These indexes are also zero - based. To reverse a list in Python, you can use negative slicing. As you want to slice the whole list, you can omit the start and stop values altogether. To reverse the slicing, specify a negative step value. As you want to include each value [SEP]\n",
            "[CLS] What does [ : : - 1 ] do? [SEP] each value in the reversed list, the step size should be - 1. [ : : - 1 ] means you create a slice of a sequence that traverses the whole sequence starting from the end of it. Normally, the slicing follows sequence [ start : stop : step ] syntax. However, when you want to go from the beginning of the sequence to the end of it, you can omit start and stop. To [SEP]\n",
            "[CLS] What does [ : : - 1 ] do? [SEP]. To indicate you want to start slicing from the end and end at the start, specify a negative step. [SEP]\n"
          ]
        }
      ]
    },
    {
      "cell_type": "code",
      "source": [
        "inputs = tokenizer(\n",
        "    question,\n",
        "    context,\n",
        "    max_length=100,\n",
        "    truncation=\"only_second\",\n",
        "    stride=2,\n",
        "    return_overflowing_tokens=True,\n",
        "    return_offsets_mapping=True,\n",
        ")\n",
        "inputs.keys()"
      ],
      "metadata": {
        "colab": {
          "base_uri": "https://localhost:8080/"
        },
        "id": "9decVK6qZcDN",
        "outputId": "95a4593f-b009-402e-9ad2-c44cfed86fdf"
      },
      "execution_count": null,
      "outputs": [
        {
          "output_type": "execute_result",
          "data": {
            "text/plain": [
              "dict_keys(['input_ids', 'token_type_ids', 'attention_mask', 'offset_mapping', 'overflow_to_sample_mapping'])"
            ]
          },
          "metadata": {},
          "execution_count": 21
        }
      ]
    },
    {
      "cell_type": "code",
      "source": [
        "inputs[\"overflow_to_sample_mapping\"]"
      ],
      "metadata": {
        "colab": {
          "base_uri": "https://localhost:8080/"
        },
        "id": "2m2CGs2oZgMc",
        "outputId": "504a9317-a15c-437a-be58-76faa55df245"
      },
      "execution_count": null,
      "outputs": [
        {
          "output_type": "execute_result",
          "data": {
            "text/plain": [
              "[0, 0, 0, 0, 0]"
            ]
          },
          "metadata": {},
          "execution_count": 22
        }
      ]
    },
    {
      "cell_type": "code",
      "source": [
        "inputs = tokenizer(\n",
        "    raw_datasets[\"train\"][0][\"question\"],\n",
        "    raw_datasets[\"train\"][0][\"context\"],\n",
        "    max_length=100,\n",
        "    truncation=\"only_second\",\n",
        "    stride=2,\n",
        "    return_overflowing_tokens=True,\n",
        "    return_offsets_mapping=True,\n",
        ")\n",
        "\n",
        "print(f\"The 4 examples gave {len(inputs['input_ids'])} features.\")\n",
        "print(f\"Here is where each comes from: {inputs['overflow_to_sample_mapping']}.\")"
      ],
      "metadata": {
        "colab": {
          "base_uri": "https://localhost:8080/"
        },
        "id": "CNKCKaq0Zisi",
        "outputId": "5983b1c7-1bbe-405e-e11e-5ffafc91712a"
      },
      "execution_count": null,
      "outputs": [
        {
          "output_type": "stream",
          "name": "stdout",
          "text": [
            "The 4 examples gave 5 features.\n",
            "Here is where each comes from: [0, 0, 0, 0, 0].\n"
          ]
        }
      ]
    },
    {
      "cell_type": "code",
      "source": [
        "tron=[\n",
        "    {\n",
        "      \"context\": \"To access an element in a Python iterable, such as a list, you need to use an index that corresponds to the position of the element.In Python, indexing is zero-based. This means the first element has 0 as its index, the second element has 1 as its index, and so on.In Python, it is also possible to use negative indexing to access values of a sequence.Negative indexing accesses items relative to the end of the sequence. The index -1 reads the last element, -2 the second last, and so on.In Python, slicing makes it possible to access parts of sequences, such as strings or lists. This makes it possible to access, modify, and delete items in a readable and concise fashion.Slicing works similar to indexing, but instead of accessing a single value, multiple values are accessed.Slicing uses indexing to access the range of elements. These indexes are also zero-based.To reverse a list in Python, you can use negative slicing. As you want to slice the whole list, you can omit the start and stop values altogether.To reverse the slicing, specify a negative step value.As you want to include each value in the reversed list, the step size should be -1.[::-1] means you create a slice of a sequence that traverses the whole sequence starting from the end of it.Normally, the slicing follows sequence[start:stop:step] syntax. However, when you want to go from the beginning of the sequence to the end of it, you can omit start and stop. To indicate you want to start slicing from the end and end at the start, specify a negative step.\",\n",
        "      \"question\": \"What does [::-1] do?\",\n",
        "      \"answers\": \"[::-1] is used to reverse the order of an array or a sequence.\"\n",
        "    }]\n",
        "\n",
        "tron[0][\"question\"]"
      ],
      "metadata": {
        "colab": {
          "base_uri": "https://localhost:8080/",
          "height": 35
        },
        "id": "WesgafXHhUW0",
        "outputId": "91a5c792-7a4e-4b6b-deb5-9622d92b9f91"
      },
      "execution_count": null,
      "outputs": [
        {
          "output_type": "execute_result",
          "data": {
            "text/plain": [
              "'What does [::-1] do?'"
            ],
            "application/vnd.google.colaboratory.intrinsic+json": {
              "type": "string"
            }
          },
          "metadata": {},
          "execution_count": 40
        }
      ]
    },
    {
      "cell_type": "code",
      "source": [
        "type(raw_datasets['train'])"
      ],
      "metadata": {
        "id": "DsojfBB0Ts7b"
      },
      "execution_count": null,
      "outputs": []
    },
    {
      "cell_type": "code",
      "source": [
        "raw_datasets[\"train\"][0]\n"
      ],
      "metadata": {
        "colab": {
          "base_uri": "https://localhost:8080/"
        },
        "id": "DqXnEriw5Ws5",
        "outputId": "794e1d97-2f17-4d27-9101-e851ff3f4291"
      },
      "execution_count": null,
      "outputs": [
        {
          "output_type": "execute_result",
          "data": {
            "text/plain": [
              "{'id': 1,\n",
              " 'title': 'Python',\n",
              " 'context': 'To access an element in a Python iterable, such as a list, you need to use an index that corresponds to the position of the element.In Python, indexing is zero-based. This means the first element has 0 as its index, the second element has 1 as its index, and so on.In Python, it is also possible to use negative indexing to access values of a sequence.Negative indexing accesses items relative to the end of the sequence. The index -1 reads the last element, -2 the second last, and so on.In Python, slicing makes it possible to access parts of sequences, such as strings or lists. This makes it possible to access, modify, and delete items in a readable and concise fashion.Slicing works similar to indexing, but instead of accessing a single value, multiple values are accessed.Slicing uses indexing to access the range of elements. These indexes are also zero-based.To reverse a list in Python, you can use negative slicing. As you want to slice the whole list, you can omit the start and stop values altogether.To reverse the slicing, specify a negative step value.As you want to include each value in the reversed list, the step size should be -1.[::-1] means you create a slice of a sequence that traverses the whole sequence starting from the end of it.Normally, the slicing follows sequence[start:stop:step] syntax. However, when you want to go from the beginning of the sequence to the end of it, you can omit start and stop. To indicate you want to start slicing from the end and end at the start, specify a negative step.',\n",
              " 'question': 'What does [::-1] do?',\n",
              " 'answers': {'text': ['[::-1] is used to reverse the order of an array or a sequence.'],\n",
              "  'answer_start': [20]}}"
            ]
          },
          "metadata": {},
          "execution_count": 58
        }
      ]
    },
    {
      "cell_type": "code",
      "source": [
        "raw_datasets[\"train\"][2][\"question\"]"
      ],
      "metadata": {
        "id": "ONFw-EYIT7_D",
        "colab": {
          "base_uri": "https://localhost:8080/",
          "height": 35
        },
        "outputId": "1dc3b6f1-aea2-43f9-c8fd-84e2f120d80b"
      },
      "execution_count": null,
      "outputs": [
        {
          "output_type": "execute_result",
          "data": {
            "text/plain": [
              "'Who developed the Python language?'"
            ],
            "application/vnd.google.colaboratory.intrinsic+json": {
              "type": "string"
            }
          },
          "metadata": {},
          "execution_count": 32
        }
      ]
    },
    {
      "cell_type": "code",
      "source": [
        "overflow_to_sample_mapping"
      ],
      "metadata": {
        "colab": {
          "base_uri": "https://localhost:8080/",
          "height": 169
        },
        "id": "e-IBzuZ9oB-d",
        "outputId": "03ef751e-1f0b-4612-da4f-4d968f9ba56b"
      },
      "execution_count": null,
      "outputs": [
        {
          "output_type": "error",
          "ename": "NameError",
          "evalue": "ignored",
          "traceback": [
            "\u001b[0;31m---------------------------------------------------------------------------\u001b[0m",
            "\u001b[0;31mNameError\u001b[0m                                 Traceback (most recent call last)",
            "\u001b[0;32m<ipython-input-26-4a1a85ae2456>\u001b[0m in \u001b[0;36m<module>\u001b[0;34m\u001b[0m\n\u001b[0;32m----> 1\u001b[0;31m \u001b[0moverflow_to_sample_mapping\u001b[0m\u001b[0;34m\u001b[0m\u001b[0;34m\u001b[0m\u001b[0m\n\u001b[0m",
            "\u001b[0;31mNameError\u001b[0m: name 'overflow_to_sample_mapping' is not defined"
          ]
        }
      ]
    },
    {
      "cell_type": "code",
      "source": [
        "answers = raw_datasets[\"train\"][0][\"answers\"]\n",
        "start_positions = []\n",
        "end_positions = []\n",
        "\n",
        "for i, offset in enumerate(inputs[\"offset_mapping\"]):\n",
        "    sample_idx = inputs[\"overflow_to_sample_mapping\"][i]\n",
        "    answer = answers[sample_idx]\n",
        "    start_char = answer[\"answer_start\"][0]\n",
        "    end_char = answer[\"answer_start\"][0] + len(answer[\"text\"][0])\n",
        "    sequence_ids = inputs.sequence_ids(i)\n",
        "\n",
        "    # Find the start and end of the context\n",
        "    idx = 0\n",
        "    while sequence_ids[idx] != 1:\n",
        "        idx += 1\n",
        "    context_start = idx\n",
        "    while sequence_ids[idx] == 1:\n",
        "        idx += 1\n",
        "    context_end = idx - 1\n",
        "\n",
        "    # If the answer is not fully inside the context, label is (0, 0)\n",
        "    if offset[context_start][0] > start_char or offset[context_end][1] < end_char:\n",
        "        start_positions.append(0)\n",
        "        end_positions.append(0)\n",
        "    else:\n",
        "        # Otherwise it's the start and end token positions\n",
        "        idx = context_start\n",
        "        while idx <= context_end and offset[idx][0] <= start_char:\n",
        "            idx += 1\n",
        "        start_positions.append(idx - 1)\n",
        "\n",
        "        idx = context_end\n",
        "        while idx >= context_start and offset[idx][1] >= end_char:\n",
        "            idx -= 1\n",
        "        end_positions.append(idx + 1)\n",
        "\n",
        "start_positions, end_positions"
      ],
      "metadata": {
        "colab": {
          "base_uri": "https://localhost:8080/",
          "height": 240
        },
        "id": "mvgQfY9oZlAK",
        "outputId": "a8e52bd3-603e-4180-a493-2be84823d3a9"
      },
      "execution_count": null,
      "outputs": [
        {
          "output_type": "error",
          "ename": "KeyError",
          "evalue": "ignored",
          "traceback": [
            "\u001b[0;31m---------------------------------------------------------------------------\u001b[0m",
            "\u001b[0;31mKeyError\u001b[0m                                  Traceback (most recent call last)",
            "\u001b[0;32m<ipython-input-24-ebd0c65146ff>\u001b[0m in \u001b[0;36m<module>\u001b[0;34m\u001b[0m\n\u001b[1;32m      5\u001b[0m \u001b[0;32mfor\u001b[0m \u001b[0mi\u001b[0m\u001b[0;34m,\u001b[0m \u001b[0moffset\u001b[0m \u001b[0;32min\u001b[0m \u001b[0menumerate\u001b[0m\u001b[0;34m(\u001b[0m\u001b[0minputs\u001b[0m\u001b[0;34m[\u001b[0m\u001b[0;34m\"offset_mapping\"\u001b[0m\u001b[0;34m]\u001b[0m\u001b[0;34m)\u001b[0m\u001b[0;34m:\u001b[0m\u001b[0;34m\u001b[0m\u001b[0;34m\u001b[0m\u001b[0m\n\u001b[1;32m      6\u001b[0m     \u001b[0msample_idx\u001b[0m \u001b[0;34m=\u001b[0m \u001b[0minputs\u001b[0m\u001b[0;34m[\u001b[0m\u001b[0;34m\"overflow_to_sample_mapping\"\u001b[0m\u001b[0;34m]\u001b[0m\u001b[0;34m[\u001b[0m\u001b[0mi\u001b[0m\u001b[0;34m]\u001b[0m\u001b[0;34m\u001b[0m\u001b[0;34m\u001b[0m\u001b[0m\n\u001b[0;32m----> 7\u001b[0;31m     \u001b[0manswer\u001b[0m \u001b[0;34m=\u001b[0m \u001b[0manswers\u001b[0m\u001b[0;34m[\u001b[0m\u001b[0msample_idx\u001b[0m\u001b[0;34m]\u001b[0m\u001b[0;34m\u001b[0m\u001b[0;34m\u001b[0m\u001b[0m\n\u001b[0m\u001b[1;32m      8\u001b[0m     \u001b[0mstart_char\u001b[0m \u001b[0;34m=\u001b[0m \u001b[0manswer\u001b[0m\u001b[0;34m[\u001b[0m\u001b[0;34m\"answer_start\"\u001b[0m\u001b[0;34m]\u001b[0m\u001b[0;34m[\u001b[0m\u001b[0;36m0\u001b[0m\u001b[0;34m]\u001b[0m\u001b[0;34m\u001b[0m\u001b[0;34m\u001b[0m\u001b[0m\n\u001b[1;32m      9\u001b[0m     \u001b[0mend_char\u001b[0m \u001b[0;34m=\u001b[0m \u001b[0manswer\u001b[0m\u001b[0;34m[\u001b[0m\u001b[0;34m\"answer_start\"\u001b[0m\u001b[0;34m]\u001b[0m\u001b[0;34m[\u001b[0m\u001b[0;36m0\u001b[0m\u001b[0;34m]\u001b[0m \u001b[0;34m+\u001b[0m \u001b[0mlen\u001b[0m\u001b[0;34m(\u001b[0m\u001b[0manswer\u001b[0m\u001b[0;34m[\u001b[0m\u001b[0;34m\"text\"\u001b[0m\u001b[0;34m]\u001b[0m\u001b[0;34m[\u001b[0m\u001b[0;36m0\u001b[0m\u001b[0;34m]\u001b[0m\u001b[0;34m)\u001b[0m\u001b[0;34m\u001b[0m\u001b[0;34m\u001b[0m\u001b[0m\n",
            "\u001b[0;31mKeyError\u001b[0m: 0"
          ]
        }
      ]
    },
    {
      "cell_type": "code",
      "source": [
        "idx = 0\n",
        "sample_idx = inputs[\"overflow_to_sample_mapping\"][idx]\n",
        "answer = answers[sample_idx][\"text\"][0]\n",
        "\n",
        "start = start_positions[idx]\n",
        "end = end_positions[idx]\n",
        "labeled_answer = tokenizer.decode(inputs[\"input_ids\"][idx][start : end + 1])\n",
        "\n",
        "print(f\"Theoretical answer: {answer}, labels give: {labeled_answer}\")"
      ],
      "metadata": {
        "id": "VGbhj3ZMZu0a"
      },
      "execution_count": null,
      "outputs": []
    },
    {
      "cell_type": "code",
      "source": [
        "idx = 4\n",
        "sample_idx = inputs[\"overflow_to_sample_mapping\"][idx]\n",
        "answer = answers[sample_idx][\"text\"][0]\n",
        "\n",
        "decoded_example = tokenizer.decode(inputs[\"input_ids\"][idx])\n",
        "print(f\"Theoretical answer: {answer}, decoded example: {decoded_example}\")"
      ],
      "metadata": {
        "id": "JY9Lrk-zZxbo"
      },
      "execution_count": null,
      "outputs": []
    },
    {
      "cell_type": "code",
      "source": [
        "max_length = 384\n",
        "stride = 128\n",
        "\n",
        "\n",
        "def preprocess_training_examples(examples):\n",
        "    questions = [q.strip() for q in examples[\"question\"]]\n",
        "    inputs = tokenizer(\n",
        "        questions,\n",
        "        examples[\"context\"],\n",
        "        max_length=max_length,\n",
        "        truncation=\"only_second\",\n",
        "        stride=stride,\n",
        "        return_overflowing_tokens=True,\n",
        "        return_offsets_mapping=True,\n",
        "        padding=\"max_length\",\n",
        "    )\n",
        "\n",
        "    offset_mapping = inputs.pop(\"offset_mapping\")\n",
        "    sample_map = inputs.pop(\"overflow_to_sample_mapping\")\n",
        "    answers = examples[\"answers\"]\n",
        "    start_positions = []\n",
        "    end_positions = []\n",
        "\n",
        "    for i, offset in enumerate(offset_mapping):\n",
        "        sample_idx = sample_map[i]\n",
        "        answer = answers[sample_idx]\n",
        "        start_char = answer[\"answer_start\"][0]\n",
        "        end_char = answer[\"answer_start\"][0] + len(answer[\"text\"][0])\n",
        "        sequence_ids = inputs.sequence_ids(i)\n",
        "\n",
        "        # Find the start and end of the context\n",
        "        idx = 0\n",
        "        while sequence_ids[idx] != 1:\n",
        "            idx += 1\n",
        "        context_start = idx\n",
        "        while sequence_ids[idx] == 1:\n",
        "            idx += 1\n",
        "        context_end = idx - 1\n",
        "\n",
        "        # If the answer is not fully inside the context, label is (0, 0)\n",
        "        if offset[context_start][0] > start_char or offset[context_end][1] < end_char:\n",
        "            start_positions.append(0)\n",
        "            end_positions.append(0)\n",
        "        else:\n",
        "            # Otherwise it's the start and end token positions\n",
        "            idx = context_start\n",
        "            while idx <= context_end and offset[idx][0] <= start_char:\n",
        "                idx += 1\n",
        "            start_positions.append(idx - 1)\n",
        "\n",
        "            idx = context_end\n",
        "            while idx >= context_start and offset[idx][1] >= end_char:\n",
        "                idx -= 1\n",
        "            end_positions.append(idx + 1)\n",
        "\n",
        "    inputs[\"start_positions\"] = start_positions\n",
        "    inputs[\"end_positions\"] = end_positions\n",
        "    return inputs"
      ],
      "metadata": {
        "id": "cNL8NMJjZ0tk"
      },
      "execution_count": null,
      "outputs": []
    },
    {
      "cell_type": "code",
      "source": [
        "train_dataset = raw_datasets[\"train\"].map(\n",
        "    preprocess_training_examples,\n",
        "    batched=True,\n",
        "    remove_columns=raw_datasets[\"train\"].column_names,\n",
        ")\n",
        "len(raw_datasets[\"train\"]), len(train_dataset)"
      ],
      "metadata": {
        "id": "v-MmgLpmZ2sq"
      },
      "execution_count": null,
      "outputs": []
    },
    {
      "cell_type": "code",
      "source": [
        "def preprocess_validation_examples(examples):\n",
        "    questions = [q.strip() for q in examples[\"question\"]]\n",
        "    inputs = tokenizer(\n",
        "        questions,\n",
        "        examples[\"context\"],\n",
        "        max_length=max_length,\n",
        "        truncation=\"only_second\",\n",
        "        stride=stride,\n",
        "        return_overflowing_tokens=True,\n",
        "        return_offsets_mapping=True,\n",
        "        padding=\"max_length\",\n",
        "    )\n",
        "\n",
        "    sample_map = inputs.pop(\"overflow_to_sample_mapping\")\n",
        "    example_ids = []\n",
        "\n",
        "    for i in range(len(inputs[\"input_ids\"])):\n",
        "        sample_idx = sample_map[i]\n",
        "        example_ids.append(examples[\"id\"][sample_idx])\n",
        "\n",
        "        sequence_ids = inputs.sequence_ids(i)\n",
        "        offset = inputs[\"offset_mapping\"][i]\n",
        "        inputs[\"offset_mapping\"][i] = [\n",
        "            o if sequence_ids[k] == 1 else None for k, o in enumerate(offset)\n",
        "        ]\n",
        "\n",
        "    inputs[\"example_id\"] = example_ids\n",
        "    return inputs"
      ],
      "metadata": {
        "id": "6RmJjB3pZ50e"
      },
      "execution_count": null,
      "outputs": []
    },
    {
      "cell_type": "code",
      "source": [
        "validation_dataset = raw_datasets[\"validation\"].map(\n",
        "    preprocess_validation_examples,\n",
        "    batched=True,\n",
        "    remove_columns=raw_datasets[\"validation\"].column_names,\n",
        ")\n",
        "len(raw_datasets[\"validation\"]), len(validation_dataset)"
      ],
      "metadata": {
        "id": "pdWltWvpaMrm"
      },
      "execution_count": null,
      "outputs": []
    },
    {
      "cell_type": "code",
      "source": [
        "small_eval_set = raw_datasets[\"validation\"].select(range(100))\n",
        "trained_checkpoint = \"distilbert-base-cased-distilled-squad\"\n",
        "\n",
        "tokenizer = AutoTokenizer.from_pretrained(trained_checkpoint)\n",
        "eval_set = small_eval_set.map(\n",
        "    preprocess_validation_examples,\n",
        "    batched=True,\n",
        "    remove_columns=raw_datasets[\"validation\"].column_names,\n",
        ")"
      ],
      "metadata": {
        "id": "5qt89rdpaPlW"
      },
      "execution_count": null,
      "outputs": []
    },
    {
      "cell_type": "code",
      "source": [
        "tokenizer = AutoTokenizer.from_pretrained(model_checkpoint)"
      ],
      "metadata": {
        "id": "tzu20OzbaU8a"
      },
      "execution_count": null,
      "outputs": []
    },
    {
      "cell_type": "code",
      "source": [
        "import torch\n",
        "from transformers import AutoModelForQuestionAnswering\n",
        "\n",
        "eval_set_for_model = eval_set.remove_columns([\"example_id\", \"offset_mapping\"])\n",
        "eval_set_for_model.set_format(\"torch\")\n",
        "\n",
        "device = torch.device(\"cuda\") if torch.cuda.is_available() else torch.device(\"cpu\")\n",
        "batch = {k: eval_set_for_model[k].to(device) for k in eval_set_for_model.column_names}\n",
        "trained_model = AutoModelForQuestionAnswering.from_pretrained(trained_checkpoint).to(\n",
        "    device\n",
        ")\n",
        "\n",
        "with torch.no_grad():\n",
        "    outputs = trained_model(**batch)"
      ],
      "metadata": {
        "id": "T2ovduzRaXok"
      },
      "execution_count": null,
      "outputs": []
    },
    {
      "cell_type": "code",
      "source": [
        "start_logits = outputs.start_logits.cpu().numpy()\n",
        "end_logits = outputs.end_logits.cpu().numpy()"
      ],
      "metadata": {
        "id": "d3IO2AMWa4Uf"
      },
      "execution_count": null,
      "outputs": []
    },
    {
      "cell_type": "code",
      "source": [
        "import collections\n",
        "\n",
        "example_to_features = collections.defaultdict(list)\n",
        "for idx, feature in enumerate(eval_set):\n",
        "    example_to_features[feature[\"example_id\"]].append(idx)"
      ],
      "metadata": {
        "id": "uM6fjm5wa5bN"
      },
      "execution_count": null,
      "outputs": []
    },
    {
      "cell_type": "code",
      "source": [
        "import numpy as np\n",
        "\n",
        "n_best = 20\n",
        "max_answer_length = 1000\n",
        "predicted_answers = []\n",
        "\n",
        "for example in small_eval_set:\n",
        "    example_id = example[\"id\"]\n",
        "    context = example[\"context\"]\n",
        "    answers = []\n",
        "\n",
        "    for feature_index in example_to_features[example_id]:\n",
        "        start_logit = start_logits[feature_index]\n",
        "        end_logit = end_logits[feature_index]\n",
        "        offsets = eval_set[\"offset_mapping\"][feature_index]\n",
        "\n",
        "        start_indexes = np.argsort(start_logit)[-1 : -n_best - 1 : -1].tolist()\n",
        "        end_indexes = np.argsort(end_logit)[-1 : -n_best - 1 : -1].tolist()\n",
        "        for start_index in start_indexes:\n",
        "            for end_index in end_indexes:\n",
        "                # Skip answers that are not fully in the context\n",
        "                if offsets[start_index] is None or offsets[end_index] is None:\n",
        "                    continue\n",
        "                # Skip answers with a length that is either < 0 or > max_answer_length.\n",
        "                if (\n",
        "                    end_index < start_index\n",
        "                    or end_index - start_index + 1 > max_answer_length\n",
        "                ):\n",
        "                    continue\n",
        "\n",
        "                answers.append(\n",
        "                    {\n",
        "                        \"text\": context[offsets[start_index][0] : offsets[end_index][1]],\n",
        "                        \"logit_score\": start_logit[start_index] + end_logit[end_index],\n",
        "                    }\n",
        "                )\n",
        "\n",
        "    best_answer = max(answers, key=lambda x: x[\"logit_score\"])\n",
        "    predicted_answers.append({\"id\": example_id, \"prediction_text\": best_answer[\"text\"]})"
      ],
      "metadata": {
        "id": "EmeNfAMYa9l9"
      },
      "execution_count": null,
      "outputs": []
    },
    {
      "cell_type": "code",
      "source": [
        "import evaluate\n",
        "\n",
        "metric = evaluate.load(\"squad\")"
      ],
      "metadata": {
        "id": "C0zNV1lybClU"
      },
      "execution_count": null,
      "outputs": []
    },
    {
      "cell_type": "code",
      "source": [
        "theoretical_answers = [\n",
        "    {\"id\": ex[\"id\"], \"answers\": ex[\"answers\"]} for ex in small_eval_set\n",
        "]"
      ],
      "metadata": {
        "id": "1cOToGEUbILk"
      },
      "execution_count": null,
      "outputs": []
    },
    {
      "cell_type": "code",
      "source": [
        "print(predicted_answers[0])\n",
        "print(theoretical_answers[0])"
      ],
      "metadata": {
        "id": "cjcgWN5gbNbL"
      },
      "execution_count": null,
      "outputs": []
    },
    {
      "cell_type": "code",
      "source": [
        "metric.compute(predictions=predicted_answers, references=theoretical_answers)"
      ],
      "metadata": {
        "id": "Pu4xf5EUbQNL"
      },
      "execution_count": null,
      "outputs": []
    },
    {
      "cell_type": "code",
      "source": [
        "from tqdm.auto import tqdm\n",
        "\n",
        "\n",
        "def compute_metrics(start_logits, end_logits, features, examples):\n",
        "    example_to_features = collections.defaultdict(list)\n",
        "    for idx, feature in enumerate(features):\n",
        "        example_to_features[feature[\"example_id\"]].append(idx)\n",
        "\n",
        "    predicted_answers = []\n",
        "    for example in tqdm(examples):\n",
        "        example_id = example[\"id\"]\n",
        "        context = example[\"context\"]\n",
        "        answers = []\n",
        "\n",
        "        # Loop through all features associated with that example\n",
        "        for feature_index in example_to_features[example_id]:\n",
        "            start_logit = start_logits[feature_index]\n",
        "            end_logit = end_logits[feature_index]\n",
        "            offsets = features[feature_index][\"offset_mapping\"]\n",
        "\n",
        "            start_indexes = np.argsort(start_logit)[-1 : -n_best - 1 : -1].tolist()\n",
        "            end_indexes = np.argsort(end_logit)[-1 : -n_best - 1 : -1].tolist()\n",
        "            for start_index in start_indexes:\n",
        "                for end_index in end_indexes:\n",
        "                    # Skip answers that are not fully in the context\n",
        "                    if offsets[start_index] is None or offsets[end_index] is None:\n",
        "                        continue\n",
        "                    # Skip answers with a length that is either < 0 or > max_answer_length\n",
        "                    if (\n",
        "                        end_index < start_index\n",
        "                        or end_index - start_index + 1 > max_answer_length\n",
        "                    ):\n",
        "                        continue\n",
        "\n",
        "                    answer = {\n",
        "                        \"text\": context[offsets[start_index][0] : offsets[end_index][1]],\n",
        "                        \"logit_score\": start_logit[start_index] + end_logit[end_index],\n",
        "                    }\n",
        "                    answers.append(answer)\n",
        "\n",
        "        # Select the answer with the best score\n",
        "        if len(answers) > 0:\n",
        "            best_answer = max(answers, key=lambda x: x[\"logit_score\"])\n",
        "            predicted_answers.append(\n",
        "                {\"id\": example_id, \"prediction_text\": best_answer[\"text\"]}\n",
        "            )\n",
        "        else:\n",
        "            predicted_answers.append({\"id\": example_id, \"prediction_text\": \"\"})\n",
        "\n",
        "    theoretical_answers = [{\"id\": ex[\"id\"], \"answers\": ex[\"answers\"]} for ex in examples]\n",
        "    return metric.compute(predictions=predicted_answers, references=theoretical_answers)"
      ],
      "metadata": {
        "id": "x_1ttFK8bTu2"
      },
      "execution_count": null,
      "outputs": []
    },
    {
      "cell_type": "code",
      "source": [
        "compute_metrics(start_logits, end_logits, eval_set, small_eval_set)"
      ],
      "metadata": {
        "id": "sLy8mp0ibXB7"
      },
      "execution_count": null,
      "outputs": []
    },
    {
      "cell_type": "code",
      "source": [
        "model = AutoModelForQuestionAnswering.from_pretrained(model_checkpoint)"
      ],
      "metadata": {
        "id": "a_3Z22N0baB2"
      },
      "execution_count": null,
      "outputs": []
    },
    {
      "cell_type": "code",
      "source": [
        "from huggingface_hub import notebook_login\n",
        "\n",
        "notebook_login()"
      ],
      "metadata": {
        "id": "4zbevva0bclQ"
      },
      "execution_count": null,
      "outputs": []
    },
    {
      "cell_type": "code",
      "source": [
        "from transformers import TrainingArguments\n",
        "\n",
        "args = TrainingArguments(\n",
        "    \"bert-finetuned-squad\",\n",
        "    evaluation_strategy=\"no\",\n",
        "    save_strategy=\"epoch\",\n",
        "    learning_rate=2e-5,\n",
        "    num_train_epochs=1,\n",
        "    weight_decay=0.01,\n",
        "    push_to_hub=True,\n",
        ")"
      ],
      "metadata": {
        "id": "wDRKs5YpbjRe"
      },
      "execution_count": null,
      "outputs": []
    },
    {
      "cell_type": "code",
      "source": [
        "from transformers import Trainer\n",
        "\n",
        "trainer = Trainer(\n",
        "    model=model,\n",
        "    args=args,\n",
        "    train_dataset=train_dataset,\n",
        "    eval_dataset=validation_dataset,\n",
        "    tokenizer=tokenizer,\n",
        ")\n",
        "trainer.train()"
      ],
      "metadata": {
        "id": "okDlf3BfbsdR"
      },
      "execution_count": null,
      "outputs": []
    },
    {
      "cell_type": "code",
      "source": [
        "predictions, _, _ = trainer.predict(validation_dataset)\n",
        "start_logits, end_logits = predictions\n",
        "compute_metrics(start_logits, end_logits, validation_dataset, raw_datasets[\"validation\"])"
      ],
      "metadata": {
        "id": "BwkrnbxvbxwF"
      },
      "execution_count": null,
      "outputs": []
    },
    {
      "cell_type": "code",
      "source": [
        "trainer.push_to_hub(commit_message=\"Training complete\")"
      ],
      "metadata": {
        "id": "d80UGVgxdAUZ"
      },
      "execution_count": null,
      "outputs": []
    },
    {
      "cell_type": "code",
      "source": [
        "from torch.utils.data import DataLoader\n",
        "from transformers import default_data_collator\n",
        "\n",
        "train_dataset.set_format(\"torch\")\n",
        "validation_set = validation_dataset.remove_columns([\"example_id\", \"offset_mapping\"])\n",
        "validation_set.set_format(\"torch\")\n",
        "\n",
        "train_dataloader = DataLoader(\n",
        "    train_dataset,\n",
        "    shuffle=True,\n",
        "    collate_fn=default_data_collator,\n",
        "    batch_size=8,\n",
        ")\n",
        "eval_dataloader = DataLoader(\n",
        "    validation_set, collate_fn=default_data_collator, batch_size=8\n",
        ")"
      ],
      "metadata": {
        "id": "_tadAzdsdOJ3"
      },
      "execution_count": null,
      "outputs": []
    },
    {
      "cell_type": "code",
      "source": [
        "model = AutoModelForQuestionAnswering.from_pretrained(model_checkpoint)"
      ],
      "metadata": {
        "id": "46KNY819dXJm"
      },
      "execution_count": null,
      "outputs": []
    },
    {
      "cell_type": "code",
      "source": [
        "from torch.optim import AdamW\n",
        "\n",
        "optimizer = AdamW(model.parameters(), lr=2e-5)"
      ],
      "metadata": {
        "id": "eCTJ9qfadYIp"
      },
      "execution_count": null,
      "outputs": []
    },
    {
      "cell_type": "code",
      "source": [
        "from accelerate import Accelerator\n",
        "\n",
        "accelerator = Accelerator(fp16=True)\n",
        "model, optimizer, train_dataloader, eval_dataloader = accelerator.prepare(\n",
        "    model, optimizer, train_dataloader, eval_dataloader\n",
        ")"
      ],
      "metadata": {
        "id": "OQcNyExLdbBT"
      },
      "execution_count": null,
      "outputs": []
    },
    {
      "cell_type": "code",
      "source": [
        "from transformers import get_scheduler\n",
        "\n",
        "num_train_epochs = 3//2\n",
        "num_update_steps_per_epoch = len(train_dataloader)//10\n",
        "num_training_steps = num_train_epochs * num_update_steps_per_epoch\n",
        "\n",
        "lr_scheduler = get_scheduler(\n",
        "    \"linear\",\n",
        "    optimizer=optimizer,\n",
        "    num_warmup_steps=0,\n",
        "    num_training_steps=num_training_steps,\n",
        ")"
      ],
      "metadata": {
        "id": "-yQeUQJBddJH"
      },
      "execution_count": null,
      "outputs": []
    },
    {
      "cell_type": "code",
      "source": [
        "from huggingface_hub import Repository, get_full_repo_name\n",
        "\n",
        "model_name = \"bert-finetuned-squad-accelerate\"\n",
        "repo_name = get_full_repo_name(model_name)\n",
        "repo_name"
      ],
      "metadata": {
        "id": "ip2ZgF6vdfN9"
      },
      "execution_count": null,
      "outputs": []
    },
    {
      "cell_type": "code",
      "source": [
        "output_dir = \"bert-finetuned-squad-accelerate\"\n",
        "repo = Repository(output_dir, clone_from=repo_name)"
      ],
      "metadata": {
        "id": "xGNf8isHdjee"
      },
      "execution_count": null,
      "outputs": []
    },
    {
      "cell_type": "code",
      "source": [
        "from tqdm.auto import tqdm\n",
        "import torch\n",
        "\n",
        "progress_bar = tqdm(range(num_training_steps))\n",
        "\n",
        "for epoch in range(num_train_epochs):\n",
        "    # Training\n",
        "    model.train()\n",
        "    for step, batch in enumerate(train_dataloader):\n",
        "        outputs = model(**batch)\n",
        "        loss = outputs.loss\n",
        "        accelerator.backward(loss)\n",
        "\n",
        "        optimizer.step()\n",
        "        lr_scheduler.step()\n",
        "        optimizer.zero_grad()\n",
        "        progress_bar.update(1)\n",
        "\n",
        "    # Evaluation\n",
        "    model.eval()\n",
        "    start_logits = []\n",
        "    end_logits = []\n",
        "    accelerator.print(\"Evaluation!\")\n",
        "    for batch in tqdm(eval_dataloader):\n",
        "        with torch.no_grad():\n",
        "            outputs = model(**batch)\n",
        "\n",
        "        start_logits.append(accelerator.gather(outputs.start_logits).cpu().numpy())\n",
        "        end_logits.append(accelerator.gather(outputs.end_logits).cpu().numpy())\n",
        "\n",
        "    start_logits = np.concatenate(start_logits)\n",
        "    end_logits = np.concatenate(end_logits)\n",
        "    start_logits = start_logits[: len(validation_dataset)]\n",
        "    end_logits = end_logits[: len(validation_dataset)]\n",
        "\n",
        "    metrics = compute_metrics(\n",
        "        start_logits, end_logits, validation_dataset, raw_datasets[\"validation\"]\n",
        "    )\n",
        "    print(f\"epoch {epoch}:\", metrics)\n",
        "\n",
        "    # Save and upload\n",
        "    accelerator.wait_for_everyone()\n",
        "    unwrapped_model = accelerator.unwrap_model(model)\n",
        "    unwrapped_model.save_pretrained(output_dir, save_function=accelerator.save)\n",
        "    if accelerator.is_main_process:\n",
        "        tokenizer.save_pretrained(output_dir)\n",
        "        repo.push_to_hub(\n",
        "            commit_message=f\"Training in progress epoch {epoch}\", blocking=False\n",
        "        )"
      ],
      "metadata": {
        "id": "Hqytzn6pdmQz"
      },
      "execution_count": null,
      "outputs": []
    },
    {
      "cell_type": "code",
      "source": [
        "accelerator.wait_for_everyone()\n",
        "unwrapped_model = accelerator.unwrap_model(model)\n",
        "unwrapped_model.save_pretrained(output_dir, save_function=accelerator.save)"
      ],
      "metadata": {
        "id": "oFv6r_7Hdpll"
      },
      "execution_count": null,
      "outputs": []
    },
    {
      "cell_type": "code",
      "source": [
        "from transformers import pipeline\n",
        "\n",
        "# Replace this with your own checkpoint\n",
        "model_checkpoint = \"huggingface-course/bert-finetuned-squad\"\n",
        "question_answerer = pipeline(\"question-answering\", model=model_checkpoint)\n",
        "\n",
        "context = \"\"\"\n",
        "React (also known as React.js or ReactJS) is a free and open-source front-end JavaScript library[3] for building user interfaces based on UI components. It is maintained by Meta (formerly Facebook) and a community of individual developers and companies.[4][5][6] React can be used as a base in the development of single-page, mobile, or server-rendered applications with frameworks like Next.js. However, React is only concerned with state management and rendering that state to the DOM, so creating React applications usually requires the use of additional libraries for routing, as well as certain client-side functionality.\n",
        "\"\"\"\n",
        "question = \"What is react\"\n",
        "question_answerer(question=question, context=context)"
      ],
      "metadata": {
        "id": "FRQAYSiFdryy"
      },
      "execution_count": null,
      "outputs": []
    },
    {
      "cell_type": "code",
      "source": [
        "pip install gradio"
      ],
      "metadata": {
        "id": "u3uTrbZ7dwJI"
      },
      "execution_count": null,
      "outputs": []
    },
    {
      "cell_type": "code",
      "source": [
        "import gradio as gr\n",
        "def ans(context, question):\n",
        "  return answer\n",
        "demo = gr.Interface(fn=qna, inputs=\"text\", outputs=\"text\")"
      ],
      "metadata": {
        "id": "0pI-LmuBdzce"
      },
      "execution_count": null,
      "outputs": []
    },
    {
      "cell_type": "code",
      "source": [
        "def qna(question):\n",
        "  context=\"\"\"By Great Learning Team Updated on Dec 2, 2022 55649\n",
        "  This guide will give you a clear understanding of ‘what is data science and how it works’. It will also help you obtain knowledge about how data science works, and it will enable you to explore various job profiles associated with Data Science.\n",
        "\n",
        "  What is Data Science?\n",
        "  In simple terms, Data Science helps to analyze data and extract meaningful insights from it by combining statistics & mathematics, programming skills, and subject expertise.\n",
        "\n",
        "  Importance of Data Science\n",
        "  Nowadays, organizations are overwhelmed with data, Data Science will help in extracting meaningful insights from that by combining various methods, technology, and tools. In the fields of e-commerce, finance, medicine, human resources, etc, businesses come across huge amounts of data and Data Science tools and technologies help them to process all of them.\n",
        "\n",
        "  History of Data Science\n",
        "  Early in the 1960s, the term “Data Science” was coined to help the comprehension and analysis of the massive volumes of data that were being gathered at the time. Data science is a discipline that is constantly developing, employing computer science and statistical methods to acquire insights and generate valuable predictions in a variety of industries.\n",
        "\n",
        "  Data Science – Prerequisites\n",
        "  Statistics\n",
        "  Data science relies on statistics to capture and transform data patterns into usable evidence through the use of complex machine learning techniques.\n",
        "\n",
        "  Check out statistics for Data Science to learn key concepts of Statistics in Data Science, Machine Learning, and Business Intelligence.\n",
        "\n",
        "  Programming\n",
        "  Python, R, and SQL are the most common programming languages. To successfully execute a data science project, it is important to instill some level of programming knowledge. \n",
        "\n",
        "  Machine Learning\n",
        "  Making accurate forecasts and estimates is made possible by Machine Learning, which is a crucial component of data science. You must have a firm understanding of machine learning if you want to succeed in the field of data science.\n",
        "\n",
        "  Databases\n",
        "  A clear understanding of the functioning of Databases, and skills to manage and extract data is a must in this domain. \n",
        "\n",
        "  Modeling\n",
        "  You may quickly calculate and predict using mathematical models based on the data you already know. Modeling helps in determining which algorithm is best suited to handle a certain issue and how to train these models.\n",
        "\n",
        "  Also check: Data Science Mathematics\n",
        "\n",
        "  What is Data Science used for?\n",
        "  Descriptive Analysis\n",
        "  It helps in accurately displaying data points for patterns that may appear that satisfy all of the data’s requirements. In other words, it involves organizing, ordering, and manipulating data to produce information that is insightful about the supplied data. It also involves converting raw data into a form that will make it simple to grasp and interpret.\n",
        "\n",
        "  Predictive Analysis\n",
        "  It is the process of using historical data along with various techniques like data mining, statistical modeling, and machine learning to forecast future results. Utilizing trends in this data, businesses use predictive analytics to spot dangers and opportunities.\n",
        "\n",
        "  Diagnostic Analysis\n",
        "  It is an in-depth examination to understand why something happened. Techniques like drill-down, data discovery, data mining, and correlations are used to describe it. Multiple data operations and transformations may be performed on a given data set to discover unique patterns in each of these techniques. \n",
        "\n",
        "  Prescriptive Analysis\n",
        "  Prescriptive analysis advances the use of predictive data. It not only foresees what is most likely to occur but also offers the best course of action for dealing with that result. It can assess the probable effects of various decisions and suggest the optimal course of action. It makes use of machine learning recommendation engines, complicated event processing, neural networks, simulation, graph analysis, and simulation.\n",
        "\n",
        "  What is the Data Science process?\n",
        "  Obtaining the data\n",
        "  The first step is to identify what type of data needs to be analyzed, and this data needs to be exported to an excel or a CSV file.\n",
        "\n",
        "  Scrubbing the data\n",
        "  It is essential because before you can read the data, you must ensure it is in a perfectly readable state, without any mistakes, with no missing or wrong values.\n",
        "\n",
        "  Exploratory Analysis\n",
        "  Analyzing the data is done by visualizing the data in various ways and identifying patterns to spot anything out of the ordinary. To analyze the data, you must have excellent attention to detail to identify if anything is out of place.\n",
        "\n",
        "  Modeling or Machine Learning\n",
        "  A data engineer or scientist writes down instructions for the Machine Learning algorithm to follow based on the Data that has to be analyzed. The algorithm iteratively uses these instructions to come up with the correct output.\n",
        "\n",
        "  Interpreting the data\n",
        "  In this step, you uncover your findings and present them to the organization. The most critical skill in this would be your ability to explain your results.\n",
        "\n",
        "  What are different Data Science tools?\n",
        "  Here are a few examples of tools that will assist Data Scientists to make their job easier.\n",
        "\n",
        "  Data Analysis – Informatica PowerCenter, Rapidminer, Excel, SAS\n",
        "  Data Visualization – Tableau, Qlikview, RAW, Jupyter\n",
        "  Data Warehousing – Apache Hadoop, Informatica/Talend, Microsoft HD insights\n",
        "  Data Modelling – H2O.ai, Datarobot, Azure ML Studio, Mahout\n",
        "  Benefits of Data Science in Business\n",
        "  Improves business predictions\n",
        "  Interpretation of complex data\n",
        "  Better decision making\n",
        "  Product innovation \n",
        "  Improves data security\n",
        "  Development of user-centric products\n",
        "  Applications of Data Science\n",
        "  Product Recommendation\n",
        "  The product recommendation technique can influence customers to buy similar products. For example, a salesperson of Big Bazaar is trying to increase the store’s sales by bundling the products together and giving discounts. So he bundled shampoo and conditioner together and gave a discount on them. Furthermore, customers will buy them together for a discounted price.\n",
        "\n",
        "  Future Forecasting\n",
        "  It is one of the widely applied techniques in Data Science. On the basis of various types of data that are collected from various sources weather forecasting and future forecasting are done. \n",
        "\n",
        "  Fraud and Risk Detection\n",
        "  It is one of the most logical applications of Data Science. Since online transactions are booming, losing your data is possible. For example, Credit card fraud detection depends on the amount, merchant, location, time, and other variables. If any of them looks unnatural, the transaction will be automatically canceled, and it will block your card for 24 hours or more.\n",
        "\n",
        "  Self-Driving Car\n",
        "  The self-driving car is one of the most successful inventions in today’s world. We train our car to make decisions independently based on the previous data. In this process, we can penalize our model if it does not perform well. The car becomes more intelligent with time when it starts learning through all the real-time experiences.\n",
        "\n",
        "  Image Recognition\n",
        "  When you want to recognize some images, data science can detect the object and classify it. The most famous example of image recognition is face recognition – If you tell your smartphone to unblock it, it will scan your face. So first, the system will detect the face, then classify your face as a human face, and after that, it will decide if the phone belongs to the actual owner or not.\n",
        "\n",
        "  Speech to text Convert\n",
        "  Speech recognition is a process of understanding natural language by the computer. We are quite familiar with virtual assistants like Siri, Alexa, and Google Assistant. \n",
        "\n",
        "  Healthcare\n",
        "  Data Science helps in various branches of healthcare such as Medical Image Analysis, Development of new drugs, Genetics and Genomics, and providing virtual assistance to patients. \n",
        "\n",
        "  Search Engines\n",
        "  Google, Yahoo, Bing, Ask, etc. provides us with a lot of results within a fraction of a second. It is made possible using various data science algorithms.\n",
        "\n",
        "  Jobs in Data Science\n",
        "  Data Scientist\n",
        "  Data Analyst\n",
        "  Data Engineer\n",
        "  Machine Learning Engineer\n",
        "  Data and Analytics Manager\n",
        "  Read more on Top 9 Job Roles in the World of Data Science for 2023\n",
        "\n",
        "  FAQs\n",
        "  What is data science in simple terms?\n",
        "  Data science is a field of study that uses data for various research and reporting purposes to derive insights and meaning from that data.\n",
        "\n",
        "  What does a data scientist do?\n",
        "  Data scientists create and use algorithms to analyze data. This process generally involves using and building machine learning tools and personalized data products to help businesses and clients interpret data in a useful manner.\n",
        "\n",
        "  What is a data science example?\n",
        "  One of the most important examples of data science now would be its use in studying the COVID-19 virus and coming up with a vaccine or a treatment. Data science also includes fraud detection, customer care automation, healthcare recommendations, fake news detection, eCommerce and entertainment recommendation systems, and more.\n",
        "\n",
        "  What is Data Science course eligibility?\n",
        "  Check out Great Learning’s MS in Data Science Programme for all the details you need. \n",
        "\n",
        "  Can I learn Data Science on my own?\n",
        "  Yes, but to become an expert, you must enroll in a course that offers you proper training, guidance, and mentoring. \n",
        "\n",
        "  Conclusion\n",
        "  Data Science tools and techniques contribute a lot to the growth of a business. Every business is undergoing a digital transformation, and there is an increasing demand for candidates with relevant skills and knowledge companies offer competitive salaries for the right talent. If you’re interested in a career in data science or shift your career to roles such as Business Analysts, Data Analysts, Data Engineers, Analytics Engineers, etc. Check out Great Learning’s postgraduate program in Data Science and Engineering, which will help you acquire relevant data science tools, techniques, and hands-on applications through industry case studies.  \"\"\"\n",
        "  answer=pd.DataFrame(question_answerer(question=question, context=context),index=[3])\n",
        "\n",
        "  return list(answer['answer'])\n",
        "de = gr.Interface(fn=qna, inputs=[\"text\"], outputs=\"text\")\n"
      ],
      "metadata": {
        "id": "S5ti_DFVd__Y"
      },
      "execution_count": null,
      "outputs": []
    },
    {
      "cell_type": "code",
      "source": [
        "de.launch()\n"
      ],
      "metadata": {
        "id": "wmdffYsIeDls"
      },
      "execution_count": null,
      "outputs": []
    },
    {
      "cell_type": "code",
      "source": [
        "type([\n",
        "    {\n",
        "      \"context\": \"To access an element in a Python iterable, such as a list, you need to use an index that corresponds to the position of the element.In Python, indexing is zero-based. This means the first element has 0 as its index, the second element has 1 as its index, and so on.In Python, it is also possible to use negative indexing to access values of a sequence.Negative indexing accesses items relative to the end of the sequence. The index -1 reads the last element, -2 the second last, and so on.In Python, slicing makes it possible to access parts of sequences, such as strings or lists. This makes it possible to access, modify, and delete items in a readable and concise fashion.Slicing works similar to indexing, but instead of accessing a single value, multiple values are accessed.Slicing uses indexing to access the range of elements. These indexes are also zero-based.To reverse a list in Python, you can use negative slicing. As you want to slice the whole list, you can omit the start and stop values altogether.To reverse the slicing, specify a negative step value.As you want to include each value in the reversed list, the step size should be -1.[::-1] means you create a slice of a sequence that traverses the whole sequence starting from the end of it.Normally, the slicing follows sequence[start:stop:step] syntax. However, when you want to go from the beginning of the sequence to the end of it, you can omit start and stop. To indicate you want to start slicing from the end and end at the start, specify a negative step.\",\n",
        "      \"question\": \"What does [::-1] do?\",\n",
        "      \"answers\": \"[::-1] is used to reverse the order of an array or a sequence.\"\n",
        "    },\n",
        "    {\n",
        "      \"context\": \" It is used in method definitions and in variable initialization. The self method is explicitly used every time we define a method.The self is used to represent the instance of the class. With this keyword, you can access the attributes and methods of the class in python. It binds the attributes with the given arguments. The reason why we use self is that Python does not use the ‘@’ syntax to refer to instance attributes. In Python, we have methods that make the instance to be passed automatically, but not received automatically.self is also used to refer to a variable field within the class.self is a parameter in function and the user can use a different parameter name in place of it. Although it is advisable to use self because it increases the readability of code. \",\n",
        "      \"question\": \"What is self in Python?\",\n",
        "      \"answers\": \"Self is an instance or an object of a class. In Python, this is explicitly included as the first parameter. However, this is not the case in Java where it’s optional.  It helps to differentiate between the methods and attributes of a class with local variables.\"\n",
        "    },\n",
        "    {\n",
        "\n",
        "      \"context\": \"Python was conceived in the late 1980s by Guido van Rossum at Centrum Wiskunde & Informatica (CWI) in the Netherlands as a successor to the ABC programming language, which was inspired by SETL capable of exception handling (from the start plus new capabilities in Python 3.11) and interfacing with the Amoeba operating system.Its implementation began in December 1989. Van Rossum shouldered sole responsibility for the project, as the lead developer, until 12 July 2018, when he announced his permanent vacation from his responsibilities as Python's benevolent dictator for life, a title the Python community bestowed upon him to reflect his long-term commitment as the project's chief decision-maker.In January 2019, active Python core developers elected a five-member Steering Council to lead the project.Python 2.0 was released on 16 October 2000, with many major new features. Python 3.0, released on 3 December 2008, with many of its major features backported to Python 2.6.x and 2.7.x. Releases of Python 3 include the 2to3 utility, which automates the translation of Python 2 code to Python 3.Python 2.7's end-of-life was initially set for 2015, then postponed to 2020 out of concern that a large body of existing code could not easily be forward-ported to Python 3. No further security patches or other improvements will be released for it. Currently only 3.7 and later are supported. In 2021, Python 3.9.2 and 3.8.8 were expedited as all versions of Python (including 2.7) had security issues leading to possible remote code execution[56] and web cache poisoning.In 2022, Python 3.10.4 and 3.9.12 were expedited and 3.8.13, and 3.7.13, because of many security issues. When Python 3.9.13 was released in May 2022, it was announced that the 3.9 series (joining the older series 3.8 and 3.7) will only receive security fixes going forward. On September 7, 2022, four new releases were made due to a potential denial-of-service attack: 3.10.7, 3.9.14, 3.8.14, and 3.7.14.As of November 2022, Python 3.11.0 is the current stable release and among the notable changes from 3.10 are that it is 10–60% faster and significantly improved error reporting.Python 3.12 (alpha 2) has improved error messages. \",\n",
        "      \"question\": \"Who developed the Python language?\",\n",
        "      \"answers\": \"Guido van Rossum\"\n",
        "    },\n",
        "    {\n",
        "\n",
        "      \"context\": \"The function len() is one of Python’s built-in functions. It returns the length of an object. For example, it can return the number of items in a list. You can use the function with many different data types. However, not all data types are valid arguments for len().\",\n",
        "      \"question\": \"What is len?\",\n",
        "      \"answers\": \"Len stands for length,The function len() is one of Python's built-in functions. It returns the length of an object.\"\n",
        "    },\n",
        "    {\n",
        "\n",
        "      \"context\": \"A built-in function in Python using which a sequence of numbers is generated within a given range is called range in Python. To implement range in Python, you need to make use of a function called range() function. \",\n",
        "      \"question\": \"How to check the length of the range(7)?\",\n",
        "      \"answers\": \" x=range(7)      Print(len(x))\"\n",
        "    },\n",
        "    {\n",
        "\n",
        "      \"context\": \"Encapsulation is a mechanism of wrapping the data (variables) and code acting on the data (methods) together as a single unit. In encapsulation, the variables of a class will be hidden from other classes, and can be accessed only through the methods of their current class.\",\n",
        "      \"question\": \"Define encapsulation in Python?\",\n",
        "      \"answers\": \"Encapsulation means binding the code and the data together. A Python class in an example of encapsulation.\"\n",
        "    },\n",
        "    {\n",
        "\n",
        "      \"context\": \"strings in Python are arrays of bytes representing unicode characters. However, Python does not have a character data type, a single character is simply a string with a length of 1. Square brackets can be used to access elements of the string.\",\n",
        "      \"question\": \"Why strings are immutable in nature?\",\n",
        "      \"answers\": \"In Python, strings are made immutable so that programmers cannot alter the contents of the object (even by mistake).\"\n",
        "    },\n",
        "    {\n",
        "\n",
        "      \"context\": \"A variable is only available from inside the region it is created.this is called scopeLocal Scope :A variable created inside a function belongs to the local scope of that function and can only be used inside that function.however, the local variable can be accessed from a function within the function\",\n",
        "      \"question\": \" What are local variables in Python ?\",\n",
        "      \"answers\": \"Any variable declared inside a function is known as a local variable. This variable is present in the local space and not in the global space.\"\n",
        "    },\n",
        "    {\n",
        "\n",
        "      \"context\": \"Global Scopea variable created in the main body of the Python code is a global variable and belongs to the global scope.global variables are available from within any scope, global and local\",\n",
        "      \"question\": \"What are global variables in Python ?\",\n",
        "      \"answers\": \"Variables declared outside a function or in a global space are called global variables. These variables can be accessed by any function in the program.\"\n",
        "    },\n",
        "    {\n",
        "\n",
        "      \"context\": \"global\\\" keywordif you need to create a global variable, but are stuck in the local scope, you can use the global keyword.the global keyword makes the variable global.\",\n",
        "      \"question\": \"What is the use of \\\"global\\\" keyword in Python ?\",\n",
        "      \"answers\": \"The global keyword is used to create global variables from a no-global scope, e.g. inside a function.\"\n",
        "    },\n",
        "    {\n",
        "\n",
        "      \"context\": \"Lambda :Lambda is a small anonymous function.Can take any number of arguments, but can only have one expression.syntax: lambda arguments : expression\",\n",
        "      \"question\": \"What is lambda function in Python ?\",\n",
        "      \"answers\": \"Python Lambda Functions are anonymous function means that the function is without a name. As we already know that the def keyword is used to define a normal function in Python. Similarly, the lambda keyword is used to define an anonymous function in Python.\"\n",
        "    },\n",
        "    {\n",
        "\n",
        "      \"context\": \"Python programming is used in a variety of fields, including web development, game development, artificial intelligence, and machine learning, among others. Web Development Python provides a number of web development frameworks, including Django, Pyramid, and Flask, among others. Security, flexibility, and scalability are all attributes of this framework. Development of Video Games - PySoy and PyGame are two Python libraries that are used in the development of video games. Artificial Intelligence and Machine Learning - There are a large number of open-source libraries that can be used when developing AI/ML applications, and many of these libraries are free.\",\n",
        "      \"question\": \"Amongst which of the following is are the application areas of Python programming?\",\n",
        "      \"answers\": \"1. Web Development 2. Game Development 3. Artificial Intelligence 4. Machine Learning 5. Data Science\"\n",
        "    },\n",
        "    {\n",
        "\n",
        "      \"context\": \"Numeric data types include int, float, and complex, among others. In information technology, data types are the classification or categorization of knowledge items. It represents the type of information that is useful in determining what operations are frequently performed on specific data. In the Python programming language, each value is represented by a different python data type. Known as Data Types, this is the classification of knowledge items or the placement of the information value into a specific data category. It is beneficial to be aware of the quiet operations that are frequently performed on a worth.\",\n",
        "      \"question\": \"What are the Numeric Data Types?\",\n",
        "      \"answers\": \"There are three distinct numeric types: integers, floating point numbers, and complex numbers. In addition, Booleans are a subtype of integers.\"\n",
        "    },\n",
        "    {\n",
        "\n",
        "      \"context\": \"The sequence Types of Data Types are the list, the tuple, and the range. In order to store multiple values in an organized and efficient manner, we use the concept of sequences. There are several types of sequences, including strings, Unicode strings, lists, tuples, bytearrays, and range objects. Strings and Unicode strings are the most common. Dictionary and set data structures are used to store non-sequential information.\",\n",
        "      \"question\": \"What are Data Types of list, tuple, and range?\",\n",
        "      \"answers\": \"The sequence Types of Data Types are the list, the tuple, and the range. In order to store multiple values in an organized and efficient manner, we use the concept of sequences.\"\n",
        "    },\n",
        "    {\n",
        "      \"context\": \"The type() function can be used to find out what type of data an object contains. Typing an object passed as an argument to Python's type() function returns the data type of the object passed as an argument to Python's type() function. This function is extremely useful during the debugging phase of the process.\",\n",
        "      \"question\": \"What is use of type()?\",\n",
        "      \"answers\": \"type() method returns class type of the argument(object) passed as parameter in Python.\"\n",
        "    },\n",
        "    {\n",
        "\n",
        "      \"context\": \"Python's logical operators are represented by the terms and, or, and not. In Python, logical operators are used to perform logical operations on the values of variables that have been declared. Either true or false is represented by the value. The truth values provide us with the information we need to figure out the conditions. In Python, there are three types of logical operators: the logical AND, the logical OR, and the logical NOT operators. Keywords or special characters are used to represent operators in a program.\",\n",
        "      \"question\": \"List of the logical operators in Python?\",\n",
        "      \"answers\": \"1. and2. or3. not\"\n",
        "    },\n",
        "    {\n",
        "      \"context\": \"Unexpected events that can occur during a program's execution are referred to as exceptions, and they can cause the program's normal flow to be interrupted. Python provides exception handling, which allows us to write less error-prone code while also testing various scenarios that may result in an exception later on in the process.\",\n",
        "      \"question\": \"What is exception handling?\",\n",
        "      \"answers\": \"Exception handling is the process of responding to unwanted or unexpected events when a computer program runs. Exception handling deals with these events to avoid the program or system crashing, and without this process, exceptions would disrupt the normal operation of a program.\"\n",
        "    },\n",
        "    {\n",
        "\n",
        "      \"context\": \"Python Dictionary is used to store the data in a key-value pair format, which is similar to that of a database. The dictionary data type in Python is capable of simulating the real-world data arrangement in which a specific value exists for a specific key when the key is specified. It is the data-structure that can be changed. Each element of the dictionary is defined as follows: keys and values.\",\n",
        "      \"question\": \"Why Python Dictionary is used?\",\n",
        "      \"answers\": \"Dictionaries are used to store data values in key:value pairs. A dictionary is a collection which is ordered*, changeable and do not allow duplicates. As of Python version 3.7, dictionaries are ordered. In Python 3.6 and earlier, dictionaries are unordered.\"\n",
        "    },\n",
        "    {\n",
        "\n",
        "      \"context\": \"Conditional statements, also known as decision-making statements, are used to make decisions. In programming, we want to be able to control the flow of execution of our program, and we want to be able to execute a specific set of statements only if a specific condition is met, and a different set of statements only if the condition is not met. As a result, we use conditional statements to determine whether or not a specific block of code should be executed based on a given condition.\",\n",
        "      \"question\": \"What ia Conditional statements in python?\",\n",
        "      \"answers\": \"A conditional statement as the name suggests itself, is used to handle conditions in your program. These statements guide the program while making decisions based on the conditions encountered by the program. Python has 3 key Conditional Statements that you should know: if statement. if-else statement.\"\n",
        "    },\n",
        "    {\n",
        "\n",
        "      \"context\": \"Functionsfunctions are reusable pieces of codethey only run when calledthey may take input argumentsthey may return processed valuesdef keyword is used at the beginning of a function to start defining a functionreturn keyword is used to send some value back after processing\",\n",
        "      \"question\": \"What is function ? How we define them in Python ?\",\n",
        "      \"answers\": \"A function is a block of code which only runs when it is called. You can pass data, known as parameters, into a function. A function can return data as a result. We define function in python with the help of \\\"def\\\" keyword.\"\n",
        "    },\n",
        "    {\n",
        "      \"context\": \"About PythonPython is a dynamic-typed language. It means that you don’t need to mention the data type of variables during their declaration.Python supports object-orientated programming as you can define classes along with the composition and inheritance.Functions in Python are like first-class objects. It suggests you can assign them to variables, return from other methods and pass them as arguments.Developing using Python is quick but running it is often slower than compiled languages.Python has several usages like web-based applications, test automation, data modeling, big data analytics, and much more.\",\n",
        "      \"question\": \" Explain some benefits of Python.\",\n",
        "      \"answers\": \"Python is a dynamic-typed language. It means that you don’t need to mention the data type of variables during their declaration.Python supports object-orientated programming as you can define classes along with the composition and inheritance.Functions in Python are like first-class objects. It suggests you can assign them to variables, return from other methods and pass them as arguments.Developing using Python is quick but running it is often slower than compiled languages.Python has several usages like web-based applications, test automation, data modeling, big data analytics, and much more.\"\n",
        "    }\n",
        "  ],)\n",
        "\n"
      ],
      "metadata": {
        "id": "a8U9AOyncqYt"
      },
      "execution_count": null,
      "outputs": []
    }
  ]
}