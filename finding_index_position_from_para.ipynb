{
  "nbformat": 4,
  "nbformat_minor": 0,
  "metadata": {
    "colab": {
      "provenance": [],
      "authorship_tag": "ABX9TyOsxJpFlYcBbkwz2c+SetaJ",
      "include_colab_link": true
    },
    "kernelspec": {
      "name": "python3",
      "display_name": "Python 3"
    },
    "language_info": {
      "name": "python"
    }
  },
  "cells": [
    {
      "cell_type": "markdown",
      "metadata": {
        "id": "view-in-github",
        "colab_type": "text"
      },
      "source": [
        "<a href=\"https://colab.research.google.com/github/anshu109/T.A.I.L.A/blob/main/finding_index_position_from_para.ipynb\" target=\"_parent\"><img src=\"https://colab.research.google.com/assets/colab-badge.svg\" alt=\"Open In Colab\"/></a>"
      ]
    },
    {
      "cell_type": "code",
      "source": [
        "import re\n",
        "string = 'To access an element in a Python iterable, such as a list, you need to use an index that corresponds to the position of the element.In Python, indexing is zero-based. This means the first element has 0 as its index, the second element has 1 as its index, and so on.In Python, it is also possible to use negative indexing to access values of a sequence.Negative indexing accesses items relative to the end of the sequence. The index -1 reads the last element, -2 the second last, and so on.In Python, slicing makes it possible to access parts of sequences, such as strings or lists. This makes it possible to access, modify, and delete items in a readable and concise fashion.Slicing works similar to indexing, but instead of accessing a single value, multiple values are accessed.Slicing uses indexing to access the range of elements. These indexes are also zero-based.To reverse a list in Python, you can use negative slicing. As you want to slice the whole list, you can omit the start and stop values altogether.To reverse the slicing, specify a negative step value.As you want to include each value in the reversed list, the step size should be -1.[::-1] means you create a slice of a sequence that traverses the whole sequence starting from the end of it.Normally, the slicing follows sequence[start:stop:step] syntax. However, when you want to go from the beginning of the sequence to the end of it, you can omit start and stop. To indicate you want to start slicing from the end and end at the start, specify a negative step'\n",
        "pattern = 'Slicing uses indexing to access the range of elements'\n",
        "match=(re.search(pattern, string))\n",
        " \n",
        "#getting the starting index using match.start()\n",
        "print (\"starting index\", match.start())\n",
        " \n",
        "#Getting the start and end index in tuple format using match.span()\n",
        "print (\"start and end index\", match.span())"
      ],
      "metadata": {
        "colab": {
          "base_uri": "https://localhost:8080/"
        },
        "id": "eNIwkNJQQdlK",
        "outputId": "e3d7b578-5096-4291-b3fc-73c829ab1968"
      },
      "execution_count": null,
      "outputs": [
        {
          "output_type": "stream",
          "name": "stdout",
          "text": [
            "starting index 780\n",
            "start and end index (780, 833)\n"
          ]
        }
      ]
    },
    {
      "cell_type": "code",
      "source": [
        "import re\n",
        "string = 'To access an element in a Python iterable, such as a list, you need to use an index that corresponds to the position of the element.In Python, indexing is zero-based. This means the first element has 0 as its index, the second element has 1 as its index, and so on.In Python, it is also possible to use negative indexing to access values of a sequence.Negative indexing accesses items relative to the end of the sequence. The index -1 reads the last element, -2 the second last, and so on.In Python, slicing makes it possible to access parts of sequences, such as strings or lists. This makes it possible to access, modify, and delete items in a readable and concise fashion.Slicing works similar to indexing, but instead of accessing a single value, multiple values are accessed.Slicing uses indexing to access the range of elements. These indexes are also zero-based.To reverse a list in Python, you can use negative slicing. As you want to slice the whole list, you can omit the start and stop values altogether.To reverse the slicing, specify a negative step value.As you want to include each value in the reversed list, the step size should be -1.[::-1] means you create a slice of a sequence that traverses the whole sequence starting from the end of it.Normally, the slicing follows sequence[start:stop:step] syntax. However, when you want to go from the beginning of the sequence to the end of it, you can omit start and stop. To indicate you want to start slicing from the end and end at the start, specify a negative step'\n",
        "pattern = ' means you create a slice of a sequence that traverses the whole sequence starting from the end of it.'\n",
        "match=(re.search(pattern, string))\n",
        " \n",
        "#getting the starting index using match.start()\n",
        "print (\"starting index\", match.start())\n",
        " \n",
        "#Getting the start and end index in tuple format using match.span()\n",
        "print (\"start and end index\", match.span())"
      ],
      "metadata": {
        "colab": {
          "base_uri": "https://localhost:8080/"
        },
        "id": "3u76dXgHaFcO",
        "outputId": "8167112a-d343-4fd0-a0eb-c776fd1ae1e3"
      },
      "execution_count": null,
      "outputs": [
        {
          "output_type": "stream",
          "name": "stdout",
          "text": [
            "starting index 1158\n",
            "start and end index (1158, 1260)\n"
          ]
        }
      ]
    },
    {
      "cell_type": "code",
      "source": [
        "import re\n",
        "string = 'To access an element in a Python iterable, such as a list, you need to use an index that corresponds to the position of the element.In Python, indexing is zero-based. This means the first element has 0 as its index, the second element has 1 as its index, and so on.In Python, it is also possible to use negative indexing to access values of a sequence.Negative indexing accesses items relative to the end of the sequence. The index -1 reads the last element, -2 the second last, and so on.In Python, slicing makes it possible to access parts of sequences, such as strings or lists. This makes it possible to access, modify, and delete items in a readable and concise fashion.Slicing works similar to indexing, but instead of accessing a single value, multiple values are accessed.Slicing uses indexing to access the range of elements. These indexes are also zero-based.To reverse a list in Python, you can use negative slicing. As you want to slice the whole list, you can omit the start and stop values altogether.To reverse the slicing, specify a negative step value.As you want to include each value in the reversed list, the step size should be -1.[::-1] means you create a slice of a sequence that traverses the whole sequence starting from the end of it.Normally, the slicing follows sequence[start:stop:step] syntax. However, when you want to go from the beginning of the sequence to the end of it, you can omit start and stop. To indicate you want to start slicing from the end and end at the start, specify a negative step'\n",
        "pattern = 'As you want to include each value in the reversed list, the step size should be -1'\n",
        "match=(re.search(pattern, string))\n",
        " \n",
        "#getting the starting index using match.start()\n",
        "print (\"starting index\", match.start())\n",
        " \n",
        "#Getting the start and end index in tuple format using match.span()\n",
        "print (\"start and end index\", match.span())"
      ],
      "metadata": {
        "colab": {
          "base_uri": "https://localhost:8080/"
        },
        "id": "ZVEeyjxhagUr",
        "outputId": "d049b3f7-13b7-46ec-b4c7-7300665d2f10"
      },
      "execution_count": null,
      "outputs": [
        {
          "output_type": "stream",
          "name": "stdout",
          "text": [
            "starting index 1069\n",
            "start and end index (1069, 1151)\n"
          ]
        }
      ]
    },
    {
      "cell_type": "code",
      "source": [
        "import re\n",
        "string = 'To access an element in a Python iterable, such as a list, you need to use an index that corresponds to the position of the element.In Python, indexing is zero-based. This means the first element has 0 as its index, the second element has 1 as its index, and so on.In Python, it is also possible to use negative indexing to access values of a sequence.Negative indexing accesses items relative to the end of the sequence. The index -1 reads the last element, -2 the second last, and so on.In Python, slicing makes it possible to access parts of sequences, such as strings or lists. This makes it possible to access, modify, and delete items in a readable and concise fashion.Slicing works similar to indexing, but instead of accessing a single value, multiple values are accessed.Slicing uses indexing to access the range of elements. These indexes are also zero-based.To reverse a list in Python, you can use negative slicing. As you want to slice the whole list, you can omit the start and stop values altogether.To reverse the slicing, specify a negative step value.As you want to include each value in the reversed list, the step size should be -1.[::-1] means you create a slice of a sequence that traverses the whole sequence starting from the end of it.Normally, the slicing follows sequence[start:stop:step] syntax. However, when you want to go from the beginning of the sequence to the end of it, you can omit start and stop. To indicate you want to start slicing from the end and end at the start, specify a negative step'\n",
        "pattern = 'To access an element in a Python iterable, such as a list, you need to use an index that corresponds to the position of the element.'\n",
        "match=(re.search(pattern, string))\n",
        " \n",
        "#getting the starting index using match.start()\n",
        "print (\"starting index\", match.start())\n",
        " \n",
        "#Getting the start and end index in tuple format using match.span()\n",
        "print (\"start and end index\", match.span())"
      ],
      "metadata": {
        "colab": {
          "base_uri": "https://localhost:8080/"
        },
        "id": "uMSgOa5DazfO",
        "outputId": "8120bbf0-12fe-43bd-9818-4d077ad25ad5"
      },
      "execution_count": null,
      "outputs": [
        {
          "output_type": "stream",
          "name": "stdout",
          "text": [
            "starting index 0\n",
            "start and end index (0, 132)\n"
          ]
        }
      ]
    },
    {
      "cell_type": "code",
      "source": [],
      "metadata": {
        "id": "R2P-7Xq5dOq_"
      },
      "execution_count": null,
      "outputs": []
    }
  ]
}