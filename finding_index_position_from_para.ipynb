{
  "nbformat": 4,
  "nbformat_minor": 0,
  "metadata": {
    "colab": {
      "provenance": [],
      "authorship_tag": "ABX9TyMfErUsA4Tgg8reZRkT5zKh",
      "include_colab_link": true
    },
    "kernelspec": {
      "name": "python3",
      "display_name": "Python 3"
    },
    "language_info": {
      "name": "python"
    }
  },
  "cells": [
    {
      "cell_type": "markdown",
      "metadata": {
        "id": "view-in-github",
        "colab_type": "text"
      },
      "source": [
        "<a href=\"https://colab.research.google.com/github/anshu109/T.A.I.L.A/blob/main/finding_index_position_from_para.ipynb\" target=\"_parent\"><img src=\"https://colab.research.google.com/assets/colab-badge.svg\" alt=\"Open In Colab\"/></a>"
      ]
    },
    {
      "cell_type": "code",
      "source": [
        "import re\n",
        "string = ' '\n",
        "pattern = 'In Python, slicing makes it possible to access parts of sequences, such as strings or lists.'\n",
        "match=(re.search(pattern, string))\n",
        " \n",
        "#getting the starting index using match.start()\n",
        "print (\"starting index\", match.start())\n",
        " \n",
        "#Getting the start and end index in tuple format using match.span()\n",
        "print (\"start and end index\", match.span())"
      ],
      "metadata": {
        "colab": {
          "base_uri": "https://localhost:8080/",
          "height": 278
        },
        "id": "eNIwkNJQQdlK",
        "outputId": "49e7b1b8-eba5-49f3-95ae-01114f94e42d"
      },
      "execution_count": 19,
      "outputs": [
        {
          "name": "stdout",
          "output_type": "stream",
          "text": [
            "The computer interprets the code and executes it print is a function which will display whatever is provided in brackets in case of a mathematical expression, the result is evaluated and displayed if there is a string, it is simply displayed there are many such functions in Python built for specifc tasks  Python type() is a built-in function that returns the type of the objects/data elements stored in any data type or returns a new type object depending on the arguments passed to the function. The Python type() function prints what type of data structures are used to store the data elements in a program.  Comments in Python is the inclusion of short descriptions along with the code to increase its readability. A developer uses them to write his or her thought process while writing the code. It explains the basic logic behind why a particular line of code was written  variables names start with a lowercase letter or underscore Think of a variable as a name attached to a particular object. In Python, variables need not be declared or defined in advance, as is the case in many other programming languages. To create a variable, you just assign it a value and then start using it. Assignment is done with a single equals sign (=):  can be followed by numbers or underscore snake_case is the conventional way of writing variable names with multiple words variable names cannot begin with a number but numers can be a part of the variable name later eg: names like: va923, _app4r_, f8_9, tmp; are allowed eg: names like: 9va23, #app4r_, f8-9, tm*p; are NOT allowed  Data Types Data types are the classification or categorization of data items. It represents the kind of value that tells what operations can be performed on a particular data. Since everything is an object in Python programming, data types are actually classes and variables are instance (object) of these classes.  a particular kind of data entity, defined by the values it can take  Python has several built-in data types, some of them are:  numeric data types text sequence data type sequence data types mapping data type boolean data type set data type the type() function is used to check the data type of something in Python  Numeric Data Types Integers – This value is represented by int class. It contains positive or negative whole numbers (without fraction or decimal). In Python there is no limit to how long an integer value can be. two basic numeric data types int: integers float: decimal numbers This value is represented by float class. It is a real number with floating point representation. It is specified by a decimal point. Optionally, the character e or E followed by a positive or negative integer may be appended to specify scientific notation.  Text Sequence Types In Python, sequence is the ordered collection of similar or different data types. Sequences allows to store multiple values in an organized and efficient fashion. There are several sequence types in Python – strings are a text sequence type they are a sequence of characters they are immutable they are ordered  Sequence Types there are three kinds of sequence types: list: mutable sequence tuple: immutable sequence range: immutable sequence Lists are just like the arrays, declared in other languages which is a ordered collection of data. It is very flexible as the items in a list do not need to be of the same type. In order to access the list items refer to the index number. Use the index operator [ ] to access an item in a list. In Python, negative sequence indexes represent positions from the end of the array. Instead of having to compute the offset as in List[len(List)-3], it is enough to just write List[-3]. Negative indexing means beginning from the end, -1 refers to the last item, -2 refers to the second-last item, etc.  Tuple  - Just like list, tuple is also an ordered collection of Python objects. The only difference between tuple and list is that tuples are immutable i.e. tuples cannot be modified after it is created. It is represented by tuple class. n Python, tuples are created by placing a sequence of values separated by ‘comma’ with or without the use of parentheses for grouping of the data sequence. Tuples can contain any number of elements and of any datatype (like strings, integers, list, etc.).  Mapping Types dictionary is a mapping data type it is mutable unordered Dictionary in Python is an unordered collection of data values, used to store data values like a map, which unlike other Data Types that hold only single value as an element, Dictionary holds key:value pair. Key-value is provided in the dictionary to make it more optimized. Each key-value pair in a Dictionary is separated by a colon :, whereas each key is separated by a ‘comma’.  Creating Dictionary In Python, a Dictionary can be created by placing a sequence of elements within curly {} braces, separated by ‘comma’. Values in a dictionary can be of any datatype and can be duplicated, whereas keys can’t be repeated and must be immutable. Dictionary can also be created by the built-in function dict(). An empty dictionary can be created by just placing it to curly braces{}.  In Python, Set is an unordered collection of data type that is iterable, mutable and has no duplicate elements. The order of elements in a set is undefined though it may consist of various elements.  Creating Sets Sets can be created by using the built-in set() function with an iterable object or a sequence by placing the sequence inside curly braces, separated by ‘comma’. Type of elements in a set need not be the same, various mixed-up data type values can also be passed to the set.  popular kinds of operators  numeric operators comparison operators logical operators assignment operators idenity operators membership operators bitwise operators some are discussed below   Numeric Operators used with numeric data types to perform mathematical operations +: addition -: subtraction *: multiplication /: division //: floor division %: modulus (remainder) **: raising to power abs(): absolute value of number round(): rounds a number bin(): get binary version of a number hex(): get hexadecimal version of a number\n"
          ]
        },
        {
          "output_type": "error",
          "ename": "AttributeError",
          "evalue": "ignored",
          "traceback": [
            "\u001b[0;31m---------------------------------------------------------------------------\u001b[0m",
            "\u001b[0;31mAttributeError\u001b[0m                            Traceback (most recent call last)",
            "\u001b[0;32m<ipython-input-19-0f76af224459>\u001b[0m in \u001b[0;36m<module>\u001b[0;34m\u001b[0m\n\u001b[1;32m      5\u001b[0m \u001b[0;34m\u001b[0m\u001b[0m\n\u001b[1;32m      6\u001b[0m \u001b[0;31m#getting the starting index using match.start()\u001b[0m\u001b[0;34m\u001b[0m\u001b[0;34m\u001b[0m\u001b[0;34m\u001b[0m\u001b[0m\n\u001b[0;32m----> 7\u001b[0;31m \u001b[0mprint\u001b[0m \u001b[0;34m(\u001b[0m\u001b[0;34m\"starting index\"\u001b[0m\u001b[0;34m,\u001b[0m \u001b[0mmatch\u001b[0m\u001b[0;34m.\u001b[0m\u001b[0mstart\u001b[0m\u001b[0;34m(\u001b[0m\u001b[0;34m)\u001b[0m\u001b[0;34m)\u001b[0m\u001b[0;34m\u001b[0m\u001b[0;34m\u001b[0m\u001b[0m\n\u001b[0m\u001b[1;32m      8\u001b[0m \u001b[0;34m\u001b[0m\u001b[0m\n\u001b[1;32m      9\u001b[0m \u001b[0;31m#Getting the start and end index in tuple format using match.span()\u001b[0m\u001b[0;34m\u001b[0m\u001b[0;34m\u001b[0m\u001b[0;34m\u001b[0m\u001b[0m\n",
            "\u001b[0;31mAttributeError\u001b[0m: 'NoneType' object has no attribute 'start'"
          ]
        }
      ]
    },
    {
      "cell_type": "code",
      "source": [
        "string = 'To access an element in a Python iterable, such as a list, you need to use an index that corresponds to the position of the element.In Python, indexing is zero-based. This means the first element has 0 as its index, the second element has 1 as its index, and so on.In Python, it is also possible to use negative indexing to access values of a sequence.Negative indexing accesses items relative to the end of the sequence. The index -1 reads the last element, -2 the second last, and so on.In Python, slicing makes it possible to access parts of sequences, such as strings or lists. This makes it possible to access, modify, and delete items in a readable and concise fashion.Slicing works similar to indexing, but instead of accessing a single value, multiple values are accessed.Slicing uses indexing to access the range of elements. These indexes are also zero-based.To reverse a list in Python, you can use negative slicing. As you want to slice the whole list, you can omit the start and stop values altogether.To reverse the slicing, specify a negative step value.As you want to include each value in the reversed list, the step size should be -1.[::-1] means you create a slice of a sequence that traverses the whole sequence starting from the end of it.Normally, the slicing follows sequence[start:stop:step] syntax. However, when you want to go from the beginning of the sequence to the end of it, you can omit start and stop. To indicate you want to start slicing from the end and end at the start, specify a negative step'\n",
        "letter = ' slicing and indexing'\n",
        "print(string.rfind(letter))"
      ],
      "metadata": {
        "id": "bLyhHnz-7EK-",
        "outputId": "3072a007-edb7-4236-a823-2b3685fb9fb6",
        "colab": {
          "base_uri": "https://localhost:8080/"
        }
      },
      "execution_count": 13,
      "outputs": [
        {
          "output_type": "stream",
          "name": "stdout",
          "text": [
            "-1\n"
          ]
        }
      ]
    },
    {
      "cell_type": "code",
      "source": [
        "import re\n",
        "string = 'To access an element in a Python iterable, such as a list, you need to use an index that corresponds to the position of the element.In Python, indexing is zero-based. This means the first element has 0 as its index, the second element has 1 as its index, and so on.In Python, it is also possible to use negative indexing to access values of a sequence.Negative indexing accesses items relative to the end of the sequence. The index -1 reads the last element, -2 the second last, and so on.In Python, slicing makes it possible to access parts of sequences, such as strings or lists. This makes it possible to access, modify, and delete items in a readable and concise fashion.Slicing works similar to indexing, but instead of accessing a single value, multiple values are accessed.Slicing uses indexing to access the range of elements. These indexes are also zero-based.To reverse a list in Python, you can use negative slicing. As you want to slice the whole list, you can omit the start and stop values altogether.To reverse the slicing, specify a negative step value.As you want to include each value in the reversed list, the step size should be -1.[::-1] means you create a slice of a sequence that traverses the whole sequence starting from the end of it.Normally, the slicing follows sequence[start:stop:step] syntax. However, when you want to go from the beginning of the sequence to the end of it, you can omit start and stop. To indicate you want to start slicing from the end and end at the start, specify a negative step'\n",
        "pattern = '-1'\n",
        "match=(re.search(pattern, string))\n",
        " \n",
        "#getting the starting index using match.start()\n",
        "print (\"starting index\", match.start())\n",
        " \n",
        "#Getting the start and end index in tuple format using match.span()\n",
        "print (\"start and end index\", match.span())"
      ],
      "metadata": {
        "colab": {
          "base_uri": "https://localhost:8080/"
        },
        "id": "3u76dXgHaFcO",
        "outputId": "22c668e5-75c2-49e7-d356-6f3d81e0a641"
      },
      "execution_count": 20,
      "outputs": [
        {
          "output_type": "stream",
          "name": "stdout",
          "text": [
            "starting index 432\n",
            "start and end index (432, 434)\n"
          ]
        }
      ]
    },
    {
      "cell_type": "code",
      "source": [
        "import re\n",
        "string = 'To access an element in a Python iterable, such as a list, you need to use an index that corresponds to the position of the element.In Python, indexing is zero-based. This means the first element has 0 as its index, the second element has 1 as its index, and so on.In Python, it is also possible to use negative indexing to access values of a sequence.Negative indexing accesses items relative to the end of the sequence. The index -1 reads the last element, -2 the second last, and so on.In Python, slicing makes it possible to access parts of sequences, such as strings or lists. This makes it possible to access, modify, and delete items in a readable and concise fashion.Slicing works similar to indexing, but instead of accessing a single value, multiple values are accessed.Slicing uses indexing to access the range of elements. These indexes are also zero-based.To reverse a list in Python, you can use negative slicing. As you want to slice the whole list, you can omit the start and stop values altogether.To reverse the slicing, specify a negative step value.As you want to include each value in the reversed list, the step size should be -1.[::-1] means you create a slice of a sequence that traverses the whole sequence starting from the end of it.Normally, the slicing follows sequence[start:stop:step] syntax. However, when you want to go from the beginning of the sequence to the end of it, you can omit start and stop. To indicate you want to start slicing from the end and end at the start, specify a negative step'\n",
        "pattern = \" means you create a slice of a sequence that traverses the whole sequence starting from the end of it.\"\n",
        "match=(re.search(pattern, string))\n",
        " \n",
        "#getting the starting index using match.start()\n",
        "print (\"starting index\", match.start())\n",
        " \n",
        "#Getting the start and end index in tuple format using match.span()\n",
        "print (\"start and end index\", match.span())"
      ],
      "metadata": {
        "colab": {
          "base_uri": "https://localhost:8080/"
        },
        "id": "ZVEeyjxhagUr",
        "outputId": "a09c130b-8358-4b2a-a532-d44dc46c2898"
      },
      "execution_count": 5,
      "outputs": [
        {
          "output_type": "stream",
          "name": "stdout",
          "text": [
            "starting index 1158\n",
            "start and end index (1158, 1260)\n"
          ]
        }
      ]
    },
    {
      "cell_type": "code",
      "source": [
        "import re\n",
        "string = \"When known to the interpreter, the script name and additional arguments thereafter are turned into a list of strings and assigned to the argv variable in the sys module. You can access this list by executing import sys. The length of the list is at least one; when no script and no arguments are given, sys.argv[0] is an empty string. When the script name is given as (meaning standard input), sys.argv[0] is set to . When -c command is used, sys.argv[0] is set to '-c'. When -m module is used, sys.argv[0] is set to the full name of the located module. Options found after -c command or -m module are not consumed by the Python interpreter’s option processing but left in sys.argv for the command or module to handle.When commands are read from a tty, the interpreter is said to be in interactive mode. In this mode it prompts for the next command with the primary prompt, usually three greater-than signs (>>>); for continuation lines it prompts with the secondary prompt, by default three dots (...). The interpreter prints a welcome message stating its version number and a copyright notice before printing the first prompt. In the following examples, input and output are distinguished by the presence or absence of prompts (>>> and …): to repeat the example, you must type everything after the prompt, when the prompt appears; lines that do not begin with a prompt are output from the interpreter. Note that a secondary prompt on a line by itself in an example means you must type a blank line; this is used to end a multi-line command.You can toggle the display of prompts and output by clicking on in the upper-right corner of an example box. If you hide the prompts and output for an example, then you can easily copy and paste the input lines into your interpreter.Many of the examples in this manual, even those entered at the interactive prompt, include comments. Comments in Python start with the hash character, and extend to the end of the physical line. A comment may appear at the start of a line or following whitespace or code, but not within a string literal. A hash character within a string literal is just a hash character. Since comments are to clarify code and are not interpreted by Python, they may be omitted when typing in examples.\"\n",
        "pattern = '#'\n",
        "match=(re.search(pattern, string))\n",
        " \n",
        "#getting the starting index using match.start()\n",
        "print (\"starting index\", match.start())\n",
        " \n",
        "#Getting the start and end index in tuple format using match.span()\n",
        "print (\"start and end index\", match.span())"
      ],
      "metadata": {
        "colab": {
          "base_uri": "https://localhost:8080/",
          "height": 240
        },
        "id": "uMSgOa5DazfO",
        "outputId": "2abea914-d9c8-41ec-b833-f9861db22475"
      },
      "execution_count": 23,
      "outputs": [
        {
          "output_type": "error",
          "ename": "AttributeError",
          "evalue": "ignored",
          "traceback": [
            "\u001b[0;31m---------------------------------------------------------------------------\u001b[0m",
            "\u001b[0;31mAttributeError\u001b[0m                            Traceback (most recent call last)",
            "\u001b[0;32m<ipython-input-23-393aa260fe33>\u001b[0m in \u001b[0;36m<module>\u001b[0;34m\u001b[0m\n\u001b[1;32m      5\u001b[0m \u001b[0;34m\u001b[0m\u001b[0m\n\u001b[1;32m      6\u001b[0m \u001b[0;31m#getting the starting index using match.start()\u001b[0m\u001b[0;34m\u001b[0m\u001b[0;34m\u001b[0m\u001b[0;34m\u001b[0m\u001b[0m\n\u001b[0;32m----> 7\u001b[0;31m \u001b[0mprint\u001b[0m \u001b[0;34m(\u001b[0m\u001b[0;34m\"starting index\"\u001b[0m\u001b[0;34m,\u001b[0m \u001b[0mmatch\u001b[0m\u001b[0;34m.\u001b[0m\u001b[0mstart\u001b[0m\u001b[0;34m(\u001b[0m\u001b[0;34m)\u001b[0m\u001b[0;34m)\u001b[0m\u001b[0;34m\u001b[0m\u001b[0;34m\u001b[0m\u001b[0m\n\u001b[0m\u001b[1;32m      8\u001b[0m \u001b[0;34m\u001b[0m\u001b[0m\n\u001b[1;32m      9\u001b[0m \u001b[0;31m#Getting the start and end index in tuple format using match.span()\u001b[0m\u001b[0;34m\u001b[0m\u001b[0;34m\u001b[0m\u001b[0;34m\u001b[0m\u001b[0m\n",
            "\u001b[0;31mAttributeError\u001b[0m: 'NoneType' object has no attribute 'start'"
          ]
        }
      ]
    },
    {
      "cell_type": "code",
      "source": [
        "import re\n",
        "string = \"The given end point is never part of the generated sequence; range(10) generates 10 values, the legal indices for items of a sequence of length 10. It is possible to let the range start at another number, or to specify a different increment (even negative; sometimes this is called the step).In many ways the object returned by range() behaves as if it is a list, but in fact it isn’t. It is an object which returns the successive items of the desired sequence when you iterate over it, but it doesn’t really make the list, thus saving space.We say such an object is iterable, that is, suitable as a target for functions and constructs that expect something from which they can obtain successive items until the supply is exhausted. We have seen that the for statement is such a construct, while an example of a function that takes an iterable is sum().The break statement, like in C, breaks out of the innermost enclosing for or while loop.Loop statements may have an else clause; it is executed when the loop terminates through exhaustion of the iterable (with for) or when the condition becomes false with while, but not when the loop is terminated by a break statement. This is exemplified by the following loop, which searches for prime numbers.\"\n",
        "pattern = \"Loop statements may have an else clause; it is executed when the loop terminates through exhaustion of the iterable (with for) or when the condition becomes false (with while), but not when the loop is terminated by a break statement.\"\n",
        "match=(re.search(pattern, string))\n",
        " \n",
        "#getting the starting index using match.start()\n",
        "print (\"starting index\", match.start())\n",
        " \n",
        "#Getting the start and end index in tuple format using match.span()\n",
        "print (\"start and end index\", match.span())"
      ],
      "metadata": {
        "id": "R2P-7Xq5dOq_",
        "outputId": "ad531db2-f4e0-4fe7-8a1b-f07381128179",
        "colab": {
          "base_uri": "https://localhost:8080/",
          "height": 240
        }
      },
      "execution_count": 30,
      "outputs": [
        {
          "output_type": "error",
          "ename": "AttributeError",
          "evalue": "ignored",
          "traceback": [
            "\u001b[0;31m---------------------------------------------------------------------------\u001b[0m",
            "\u001b[0;31mAttributeError\u001b[0m                            Traceback (most recent call last)",
            "\u001b[0;32m<ipython-input-30-5d54385fbaa0>\u001b[0m in \u001b[0;36m<module>\u001b[0;34m\u001b[0m\n\u001b[1;32m      5\u001b[0m \u001b[0;34m\u001b[0m\u001b[0m\n\u001b[1;32m      6\u001b[0m \u001b[0;31m#getting the starting index using match.start()\u001b[0m\u001b[0;34m\u001b[0m\u001b[0;34m\u001b[0m\u001b[0;34m\u001b[0m\u001b[0m\n\u001b[0;32m----> 7\u001b[0;31m \u001b[0mprint\u001b[0m \u001b[0;34m(\u001b[0m\u001b[0;34m\"starting index\"\u001b[0m\u001b[0;34m,\u001b[0m \u001b[0mmatch\u001b[0m\u001b[0;34m.\u001b[0m\u001b[0mstart\u001b[0m\u001b[0;34m(\u001b[0m\u001b[0;34m)\u001b[0m\u001b[0;34m)\u001b[0m\u001b[0;34m\u001b[0m\u001b[0;34m\u001b[0m\u001b[0m\n\u001b[0m\u001b[1;32m      8\u001b[0m \u001b[0;34m\u001b[0m\u001b[0m\n\u001b[1;32m      9\u001b[0m \u001b[0;31m#Getting the start and end index in tuple format using match.span()\u001b[0m\u001b[0;34m\u001b[0m\u001b[0;34m\u001b[0m\u001b[0;34m\u001b[0m\u001b[0m\n",
            "\u001b[0;31mAttributeError\u001b[0m: 'NoneType' object has no attribute 'start'"
          ]
        }
      ]
    },
    {
      "cell_type": "code",
      "source": [
        "string = 'The given end point is never part of the generated sequence; range(10) generates 10 values, the legal indices for items of a sequence of length 10. It is possible to let the range start at another number, or to specify a different increment (even negative; sometimes this is called the step).In many ways the object returned by range() behaves as if it is a list, but in fact it isn’t. It is an object which returns the successive items of the desired sequence when you iterate over it, but it doesn’t really make the list, thus saving space.We say such an object is iterable, that is, suitable as a target for functions and constructs that expect something from which they can obtain successive items until the supply is exhausted. We have seen that the for statement is such a construct, while an example of a function that takes an iterable is sum().The break statement, like in C, breaks out of the innermost enclosing for or while loop.Loop statements may have an else clause; it is executed when the loop terminates through exhaustion of the iterable (with for) or when the condition becomes false with while, but not when the loop is terminated by a break statement. This is exemplified by the following loop, which searches for prime numbers.'\n",
        "# finding the 'Tutorialspoint' using rindex\n",
        "print(string.rindex('Loop statements may have an else clause; it is executed when the loop terminates through exhaustion of the iterable (with for) or when the condition becomes false (with while), but not when the loop is terminated by a break statement.'))\n",
        "# finding the 'is' using rfind\n",
        "#print(string.rindex('is'))"
      ],
      "metadata": {
        "id": "K__bzCNjurYf",
        "outputId": "4ea5e034-3ec5-4744-d5ab-dfc3f79657e9",
        "colab": {
          "base_uri": "https://localhost:8080/",
          "height": 401
        }
      },
      "execution_count": 31,
      "outputs": [
        {
          "output_type": "error",
          "ename": "ValueError",
          "evalue": "ignored",
          "traceback": [
            "\u001b[0;31m---------------------------------------------------------------------------\u001b[0m",
            "\u001b[0;31mValueError\u001b[0m                                Traceback (most recent call last)",
            "\u001b[0;32m<ipython-input-31-d49dafc5915a>\u001b[0m in \u001b[0;36m<module>\u001b[0;34m\u001b[0m\n\u001b[1;32m      1\u001b[0m \u001b[0mstring\u001b[0m \u001b[0;34m=\u001b[0m \u001b[0;34m'The given end point is never part of the generated sequence; range(10) generates 10 values, the legal indices for items of a sequence of length 10. It is possible to let the range start at another number, or to specify a different increment (even negative; sometimes this is called the step).In many ways the object returned by range() behaves as if it is a list, but in fact it isn’t. It is an object which returns the successive items of the desired sequence when you iterate over it, but it doesn’t really make the list, thus saving space.We say such an object is iterable, that is, suitable as a target for functions and constructs that expect something from which they can obtain successive items until the supply is exhausted. We have seen that the for statement is such a construct, while an example of a function that takes an iterable is sum().The break statement, like in C, breaks out of the innermost enclosing for or while loop.Loop statements may have an else clause; it is executed when the loop terminates through exhaustion of the iterable (with for) or when the condition becomes false with while, but not when the loop is terminated by a break statement. This is exemplified by the following loop, which searches for prime numbers.'\u001b[0m\u001b[0;34m\u001b[0m\u001b[0;34m\u001b[0m\u001b[0m\n\u001b[1;32m      2\u001b[0m \u001b[0;31m# finding the 'Tutorialspoint' using rindex\u001b[0m\u001b[0;34m\u001b[0m\u001b[0;34m\u001b[0m\u001b[0;34m\u001b[0m\u001b[0m\n\u001b[0;32m----> 3\u001b[0;31m \u001b[0mprint\u001b[0m\u001b[0;34m(\u001b[0m\u001b[0mstring\u001b[0m\u001b[0;34m.\u001b[0m\u001b[0mrindex\u001b[0m\u001b[0;34m(\u001b[0m\u001b[0;34m'Loop statements may have an else clause; it is executed when the loop terminates through exhaustion of the iterable (with for) or when the condition becomes false (with while), but not when the loop is terminated by a break statement.'\u001b[0m\u001b[0;34m)\u001b[0m\u001b[0;34m)\u001b[0m\u001b[0;34m\u001b[0m\u001b[0;34m\u001b[0m\u001b[0m\n\u001b[0m\u001b[1;32m      4\u001b[0m \u001b[0;31m# finding the 'is' using rfind\u001b[0m\u001b[0;34m\u001b[0m\u001b[0;34m\u001b[0m\u001b[0;34m\u001b[0m\u001b[0m\n\u001b[1;32m      5\u001b[0m \u001b[0;31m#print(string.rindex('is'))\u001b[0m\u001b[0;34m\u001b[0m\u001b[0;34m\u001b[0m\u001b[0;34m\u001b[0m\u001b[0m\n",
            "\u001b[0;31mValueError\u001b[0m: substring not found"
          ]
        }
      ]
    },
    {
      "cell_type": "code",
      "source": [],
      "metadata": {
        "id": "lIznu9fcxZQJ"
      },
      "execution_count": null,
      "outputs": []
    }
  ]
}